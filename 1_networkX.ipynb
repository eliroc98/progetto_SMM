{
 "cells": [
  {
   "cell_type": "code",
   "execution_count": 2,
   "metadata": {},
   "outputs": [],
   "source": [
    "import networkx as nx\n",
    "import numpy as np\n",
    "import matplotlib.pyplot as plt"
   ]
  },
  {
   "cell_type": "code",
   "execution_count": 3,
   "metadata": {},
   "outputs": [],
   "source": [
    "#undirected nets\n",
    "un_graph = nx.Graph()"
   ]
  },
  {
   "cell_type": "code",
   "execution_count": 4,
   "metadata": {},
   "outputs": [
    {
     "data": {
      "text/plain": [
       "NodeView(())"
      ]
     },
     "execution_count": 4,
     "metadata": {},
     "output_type": "execute_result"
    }
   ],
   "source": [
    "#views\n",
    "un_graph.nodes"
   ]
  },
  {
   "cell_type": "code",
   "execution_count": 5,
   "metadata": {},
   "outputs": [
    {
     "data": {
      "text/plain": [
       "EdgeView([])"
      ]
     },
     "execution_count": 5,
     "metadata": {},
     "output_type": "execute_result"
    }
   ],
   "source": [
    "un_graph.edges"
   ]
  },
  {
   "cell_type": "code",
   "execution_count": 6,
   "metadata": {},
   "outputs": [
    {
     "data": {
      "text/plain": [
       "AdjacencyView({})"
      ]
     },
     "execution_count": 6,
     "metadata": {},
     "output_type": "execute_result"
    }
   ],
   "source": [
    "un_graph.adj"
   ]
  },
  {
   "cell_type": "code",
   "execution_count": 7,
   "metadata": {},
   "outputs": [],
   "source": [
    "#add a node\n",
    "un_graph.add_node(1)"
   ]
  },
  {
   "cell_type": "code",
   "execution_count": 8,
   "metadata": {},
   "outputs": [
    {
     "name": "stdout",
     "output_type": "stream",
     "text": [
      "[1]\n",
      "[]\n",
      "{1: {}}\n"
     ]
    }
   ],
   "source": [
    "print(un_graph.nodes)\n",
    "print(un_graph.edges)\n",
    "print(un_graph.adj)"
   ]
  },
  {
   "cell_type": "code",
   "execution_count": 9,
   "metadata": {},
   "outputs": [],
   "source": [
    "#altro modo\n",
    "un_graph.add_nodes_from([2,3])\n",
    "un_graph.add_nodes_from(range(4,8))\n",
    "graph_1 = nx.Graph()\n",
    "graph_1.add_nodes_from([9,10])\n",
    "un_graph.add_nodes_from(graph_1)"
   ]
  },
  {
   "cell_type": "code",
   "execution_count": 10,
   "metadata": {},
   "outputs": [
    {
     "name": "stdout",
     "output_type": "stream",
     "text": [
      "[1, 2, 3, 4, 5, 6, 7, 9, 10]\n",
      "[]\n",
      "{1: {}, 2: {}, 3: {}, 4: {}, 5: {}, 6: {}, 7: {}, 9: {}, 10: {}}\n"
     ]
    }
   ],
   "source": [
    "print(un_graph.nodes)\n",
    "print(un_graph.edges)\n",
    "print(un_graph.adj)"
   ]
  },
  {
   "cell_type": "code",
   "execution_count": 11,
   "metadata": {},
   "outputs": [],
   "source": [
    "#add edges\n",
    "un_graph.add_edge(1,2)\n",
    "un_graph.add_edges_from([(2,3),(3,4),(1,3),(1,5)])\n",
    "e = (4,5)\n",
    "un_graph.add_edge(*e) #unpack edge tuple"
   ]
  },
  {
   "cell_type": "code",
   "execution_count": 12,
   "metadata": {},
   "outputs": [
    {
     "name": "stdout",
     "output_type": "stream",
     "text": [
      "[1, 2, 3, 4, 5, 6, 7, 9, 10]\n",
      "[(1, 2), (1, 3), (1, 5), (2, 3), (3, 4), (4, 5)]\n",
      "{1: {2: {}, 3: {}, 5: {}}, 2: {1: {}, 3: {}}, 3: {2: {}, 4: {}, 1: {}}, 4: {3: {}, 5: {}}, 5: {1: {}, 4: {}}, 6: {}, 7: {}, 9: {}, 10: {}}\n"
     ]
    }
   ],
   "source": [
    "print(un_graph.nodes)\n",
    "print(un_graph.edges)\n",
    "print(un_graph.adj)"
   ]
  },
  {
   "cell_type": "code",
   "execution_count": 13,
   "metadata": {},
   "outputs": [
    {
     "name": "stdout",
     "output_type": "stream",
     "text": [
      "N:  [1, 2, 3, 4, 5, 6, 7, 9, 10]\n",
      "L:  [(1, 2), (1, 3), (1, 5), (2, 3), (3, 4), (4, 5)]\n",
      "Adj list:  {1: {2: {}, 3: {}, 5: {}}, 2: {1: {}, 3: {}}, 3: {2: {}, 4: {}, 1: {}}, 4: {3: {}, 5: {}}, 5: {1: {}, 4: {}}, 6: {}, 7: {}, 9: {}, 10: {}}\n",
      "Adj list node 1:  {2: {}, 3: {}, 5: {}}\n"
     ]
    }
   ],
   "source": [
    "print('N: ', un_graph.nodes)\n",
    "print('L: ', un_graph.edges)\n",
    "print('Adj list: ', un_graph.adj)\n",
    "print('Adj list node 1: ', un_graph.adj[1])"
   ]
  },
  {
   "cell_type": "code",
   "execution_count": 14,
   "metadata": {},
   "outputs": [],
   "source": [
    "#remove a node\n",
    "un_graph.remove_node(10)\n",
    "\n",
    "#remove nodes from a container \n",
    "un_graph.remove_nodes_from([8,9])\n",
    "\n",
    "#remove edges\n",
    "un_graph.remove_edge(1,2)\n",
    "un_graph.remove_edges_from([(2,3),(3,4)])"
   ]
  },
  {
   "cell_type": "code",
   "execution_count": 15,
   "metadata": {},
   "outputs": [
    {
     "name": "stdout",
     "output_type": "stream",
     "text": [
      "N:  [1, 2, 3, 4, 5, 6, 7]\n",
      "L:  [(1, 3), (1, 5), (4, 5)]\n",
      "number of nodes  7\n",
      "number of edge  3\n"
     ]
    }
   ],
   "source": [
    "print('N: ', un_graph.nodes)\n",
    "print('L: ', un_graph.edges)\n",
    "print('number of nodes ', un_graph.number_of_nodes())\n",
    "print('number of edge ', un_graph.number_of_edges())"
   ]
  },
  {
   "cell_type": "code",
   "execution_count": 16,
   "metadata": {},
   "outputs": [
    {
     "name": "stdout",
     "output_type": "stream",
     "text": [
      "[1, 2, 3, 4, 5, 6, 7]\n",
      "[(1, 3), (1, 5), (4, 5)]\n",
      "[3, 5]\n"
     ]
    }
   ],
   "source": [
    "list_nodes = list(un_graph.nodes)\n",
    "list_edges = list(un_graph.edges)\n",
    "list_neighbors_1 = list(un_graph.adj[1]) # = list(un_graph[1])\n",
    "print(list_nodes)\n",
    "print(list_edges)\n",
    "print(list_neighbors_1)"
   ]
  },
  {
   "cell_type": "code",
   "execution_count": 17,
   "metadata": {},
   "outputs": [],
   "source": [
    "#esercizio: build the directed and undirected network of your best friend"
   ]
  },
  {
   "cell_type": "code",
   "execution_count": 19,
   "metadata": {},
   "outputs": [],
   "source": [
    "#di_graph.clear()\n",
    "di_graph = nx.DiGraph()\n",
    "\n",
    "amici = [\"Gianni\", \"Valeria\", \"Paolo\", \"Maria\", \"Roberto\", \"Francesca\", \"Alice\", \"Martina\", \"Samuel\", \"Edoardo\"]\n",
    "di_graph.add_nodes_from([\"Io\",\"Gianni\", \"Valeria\", \"Paolo\", \"Maria\", \"Roberto\", \"Francesca\", \"Alice\", \"Martina\", \"Samuel\", \"Edoardo\"])\n",
    "edges = [(\"Io\",amico) for amico in amici]\n",
    "\n",
    "di_graph.add_edges_from(edges)\n",
    "\n",
    "amici_edges = [(\"Gianni\",\"Alice\"), (\"Valeria\",\"Paolo\"), (\"Roberto\", \"Francesca\"), (\"Francesca\", \"Martina\"),(\"Martina\",\"Francesca\"), (\"Edoardo\", \"Samuel\"), (\"Samuel\", \"Edoardo\")]\n",
    "di_graph.add_edges_from(amici_edges)"
   ]
  },
  {
   "cell_type": "code",
   "execution_count": 20,
   "metadata": {},
   "outputs": [
    {
     "name": "stdout",
     "output_type": "stream",
     "text": [
      "N:  ['Io', 'Gianni', 'Valeria', 'Paolo', 'Maria', 'Roberto', 'Francesca', 'Alice', 'Martina', 'Samuel', 'Edoardo']\n",
      "L:  [('Io', 'Gianni'), ('Io', 'Valeria'), ('Io', 'Paolo'), ('Io', 'Maria'), ('Io', 'Roberto'), ('Io', 'Francesca'), ('Io', 'Alice'), ('Io', 'Martina'), ('Io', 'Samuel'), ('Io', 'Edoardo'), ('Gianni', 'Alice'), ('Valeria', 'Paolo'), ('Roberto', 'Francesca'), ('Francesca', 'Martina'), ('Martina', 'Francesca'), ('Samuel', 'Edoardo'), ('Edoardo', 'Samuel')]\n",
      "number of nodes  11\n",
      "number of edge  17\n",
      "Adj list :  {'Io': {'Gianni': {}, 'Valeria': {}, 'Paolo': {}, 'Maria': {}, 'Roberto': {}, 'Francesca': {}, 'Alice': {}, 'Martina': {}, 'Samuel': {}, 'Edoardo': {}}, 'Gianni': {'Alice': {}}, 'Valeria': {'Paolo': {}}, 'Paolo': {}, 'Maria': {}, 'Roberto': {'Francesca': {}}, 'Francesca': {'Martina': {}}, 'Alice': {}, 'Martina': {'Francesca': {}}, 'Samuel': {'Edoardo': {}}, 'Edoardo': {'Samuel': {}}}\n"
     ]
    }
   ],
   "source": [
    "print('N: ', di_graph.nodes)\n",
    "print('L: ', di_graph.edges)\n",
    "print('number of nodes ', di_graph.number_of_nodes())\n",
    "print('number of edge ', di_graph.number_of_edges())\n",
    "print('Adj list : ', di_graph.adj)"
   ]
  },
  {
   "cell_type": "code",
   "execution_count": 21,
   "metadata": {},
   "outputs": [],
   "source": [
    "amici_un_graph = di_graph.to_undirected()"
   ]
  },
  {
   "cell_type": "code",
   "execution_count": 22,
   "metadata": {},
   "outputs": [
    {
     "name": "stdout",
     "output_type": "stream",
     "text": [
      "N:  ['Io', 'Gianni', 'Valeria', 'Paolo', 'Maria', 'Roberto', 'Francesca', 'Alice', 'Martina', 'Samuel', 'Edoardo']\n",
      "L:  [('Io', 'Gianni'), ('Io', 'Valeria'), ('Io', 'Paolo'), ('Io', 'Maria'), ('Io', 'Roberto'), ('Io', 'Francesca'), ('Io', 'Alice'), ('Io', 'Martina'), ('Io', 'Samuel'), ('Io', 'Edoardo'), ('Gianni', 'Alice'), ('Valeria', 'Paolo'), ('Roberto', 'Francesca'), ('Francesca', 'Martina'), ('Samuel', 'Edoardo')]\n",
      "number of nodes  11\n",
      "number of edge  15\n",
      "Adj list :  {'Io': {'Gianni': {}, 'Valeria': {}, 'Paolo': {}, 'Maria': {}, 'Roberto': {}, 'Francesca': {}, 'Alice': {}, 'Martina': {}, 'Samuel': {}, 'Edoardo': {}}, 'Gianni': {'Io': {}, 'Alice': {}}, 'Valeria': {'Io': {}, 'Paolo': {}}, 'Paolo': {'Io': {}, 'Valeria': {}}, 'Maria': {'Io': {}}, 'Roberto': {'Io': {}, 'Francesca': {}}, 'Francesca': {'Io': {}, 'Roberto': {}, 'Martina': {}}, 'Alice': {'Io': {}, 'Gianni': {}}, 'Martina': {'Io': {}, 'Francesca': {}}, 'Samuel': {'Io': {}, 'Edoardo': {}}, 'Edoardo': {'Io': {}, 'Samuel': {}}}\n"
     ]
    }
   ],
   "source": [
    "print('N: ', amici_un_graph.nodes)\n",
    "print('L: ', amici_un_graph.edges)\n",
    "print('number of nodes ', amici_un_graph.number_of_nodes())\n",
    "print('number of edge ', amici_un_graph.number_of_edges())\n",
    "print('Adj list : ', amici_un_graph.adj)"
   ]
  },
  {
   "cell_type": "code",
   "execution_count": 23,
   "metadata": {},
   "outputs": [],
   "source": [
    "amici_pari = nx.DiGraph()\n",
    "amici_pari.add_nodes_from(di_graph)\n",
    "amici_pari.add_edges_from([(amico1, amico2) for idx2, amico2 in enumerate(amici_pari.nodes) if idx2%2==0 and idx2!=0 for idx1, amico1 in enumerate(amici_pari.nodes) if idx1%2==0 and idx1!=idx2 and idx1%idx2==0])"
   ]
  },
  {
   "cell_type": "code",
   "execution_count": 24,
   "metadata": {},
   "outputs": [],
   "source": [
    "di_graph.add_edges_from(amici_pari.edges)\n",
    "#di_graph.remove_nodes_from(['I', 'o'])"
   ]
  },
  {
   "cell_type": "code",
   "execution_count": 25,
   "metadata": {},
   "outputs": [
    {
     "name": "stdout",
     "output_type": "stream",
     "text": [
      "N:  ['Io', 'Gianni', 'Valeria', 'Paolo', 'Maria', 'Roberto', 'Francesca', 'Alice', 'Martina', 'Samuel', 'Edoardo']\n",
      "L:  [('Io', 'Gianni'), ('Io', 'Valeria'), ('Io', 'Paolo'), ('Io', 'Maria'), ('Io', 'Roberto'), ('Io', 'Francesca'), ('Io', 'Alice'), ('Io', 'Martina'), ('Io', 'Samuel'), ('Io', 'Edoardo'), ('Gianni', 'Alice'), ('Valeria', 'Paolo'), ('Maria', 'Valeria'), ('Roberto', 'Francesca'), ('Francesca', 'Martina'), ('Francesca', 'Valeria'), ('Martina', 'Francesca'), ('Martina', 'Valeria'), ('Martina', 'Maria'), ('Samuel', 'Edoardo'), ('Edoardo', 'Samuel'), ('Edoardo', 'Valeria')]\n",
      "number of nodes  11\n",
      "number of edge  22\n",
      "Adj list :  {'Io': {'Gianni': {}, 'Valeria': {}, 'Paolo': {}, 'Maria': {}, 'Roberto': {}, 'Francesca': {}, 'Alice': {}, 'Martina': {}, 'Samuel': {}, 'Edoardo': {}}, 'Gianni': {'Alice': {}}, 'Valeria': {'Paolo': {}}, 'Paolo': {}, 'Maria': {'Valeria': {}}, 'Roberto': {'Francesca': {}}, 'Francesca': {'Martina': {}, 'Valeria': {}}, 'Alice': {}, 'Martina': {'Francesca': {}, 'Valeria': {}, 'Maria': {}}, 'Samuel': {'Edoardo': {}}, 'Edoardo': {'Samuel': {}, 'Valeria': {}}}\n"
     ]
    }
   ],
   "source": [
    "print('N: ', di_graph.nodes)\n",
    "print('L: ', di_graph.edges)\n",
    "print('number of nodes ', di_graph.number_of_nodes())\n",
    "print('number of edge ', di_graph.number_of_edges())\n",
    "print('Adj list : ', di_graph.adj)\n",
    "#print('Adj list (self): ', di_graph[0])"
   ]
  },
  {
   "cell_type": "code",
   "execution_count": 26,
   "metadata": {},
   "outputs": [
    {
     "name": "stdout",
     "output_type": "stream",
     "text": [
      "12\n"
     ]
    }
   ],
   "source": [
    "print(len([edge for edge in di_graph.edges if edge[0]!='Io'and edge[1]!='Io']))"
   ]
  },
  {
   "cell_type": "code",
   "execution_count": 27,
   "metadata": {},
   "outputs": [
    {
     "name": "stdout",
     "output_type": "stream",
     "text": [
      "['Io', 'Samuel']\n",
      "['Samuel', 'Valeria']\n"
     ]
    }
   ],
   "source": [
    "print(list(di_graph.predecessors(\"Edoardo\")))\n",
    "print(list(di_graph.successors(\"Edoardo\")))"
   ]
  },
  {
   "cell_type": "code",
   "execution_count": 28,
   "metadata": {},
   "outputs": [],
   "source": [
    "#costruire la lista del degree dei nodi dell'un_graph"
   ]
  },
  {
   "cell_type": "code",
   "execution_count": 55,
   "metadata": {},
   "outputs": [
    {
     "data": {
      "text/plain": [
       "array([[1, 2],\n",
       "       [2, 0],\n",
       "       [3, 1],\n",
       "       [4, 1],\n",
       "       [5, 2],\n",
       "       [6, 0],\n",
       "       [7, 0]])"
      ]
     },
     "execution_count": 55,
     "metadata": {},
     "output_type": "execute_result"
    }
   ],
   "source": [
    "#modo 1\n",
    "degree=np.c_[[g for g in un_graph.adj ],[len(un_graph.adj[g].items())for g in un_graph.adj]]\n",
    "degree"
   ]
  },
  {
   "cell_type": "code",
   "execution_count": 79,
   "metadata": {},
   "outputs": [
    {
     "name": "stdout",
     "output_type": "stream",
     "text": [
      "Il nodo 1 ha grado 2\n",
      "Il nodo 2 ha grado 0\n",
      "Il nodo 3 ha grado 1\n",
      "Il nodo 4 ha grado 1\n",
      "Il nodo 5 ha grado 2\n",
      "Il nodo 6 ha grado 0\n",
      "Il nodo 7 ha grado 0\n",
      "Degree medio:  0.8571428571428571\n"
     ]
    }
   ],
   "source": [
    "[print('Il nodo {} ha grado {}'.format(item[0], item[1])) for item in degree]\n",
    "print('Degree medio: ', np.mean([int(item[1]) for item in degree]))"
   ]
  },
  {
   "cell_type": "code",
   "execution_count": 80,
   "metadata": {},
   "outputs": [],
   "source": [
    "#con di_graph"
   ]
  },
  {
   "cell_type": "code",
   "execution_count": 81,
   "metadata": {},
   "outputs": [
    {
     "name": "stdout",
     "output_type": "stream",
     "text": [
      "Il nodo Io ha grado 10\n",
      "Il nodo Gianni ha grado 1\n",
      "Il nodo Valeria ha grado 1\n",
      "Il nodo Paolo ha grado 0\n",
      "Il nodo Maria ha grado 1\n",
      "Il nodo Roberto ha grado 1\n",
      "Il nodo Francesca ha grado 2\n",
      "Il nodo Alice ha grado 0\n",
      "Il nodo Martina ha grado 3\n",
      "Il nodo Samuel ha grado 1\n",
      "Il nodo Edoardo ha grado 2\n",
      "In-degree medio:  2.0\n"
     ]
    }
   ],
   "source": [
    "in_degree=np.c_[[g for g in di_graph.adj ],[len(list(di_graph.successors(g)))for g in di_graph.adj]]\n",
    "in_degree\n",
    "[print('Il nodo {} ha grado {}'.format(item[0], item[1])) for item in in_degree]\n",
    "print('In-degree medio: ', np.mean([int(item[1]) for item in in_degree]))"
   ]
  },
  {
   "cell_type": "code",
   "execution_count": 82,
   "metadata": {},
   "outputs": [
    {
     "name": "stdout",
     "output_type": "stream",
     "text": [
      "Il nodo Io ha grado 0\n",
      "Il nodo Gianni ha grado 1\n",
      "Il nodo Valeria ha grado 5\n",
      "Il nodo Paolo ha grado 2\n",
      "Il nodo Maria ha grado 2\n",
      "Il nodo Roberto ha grado 1\n",
      "Il nodo Francesca ha grado 3\n",
      "Il nodo Alice ha grado 2\n",
      "Il nodo Martina ha grado 2\n",
      "Il nodo Samuel ha grado 2\n",
      "Il nodo Edoardo ha grado 2\n",
      "Out-degree medio:  2.0\n"
     ]
    }
   ],
   "source": [
    "out_degree=np.c_[[g for g in di_graph.adj ],[len(list(di_graph.predecessors(g))) for g in di_graph.adj]]\n",
    "out_degree\n",
    "[print('Il nodo {} ha grado {}'.format(item[0], item[1])) for item in out_degree]\n",
    "print('Out-degree medio: ', np.mean([int(item[1]) for item in out_degree]))\n",
    "print('Out-degree medio: ', np.median([int(item[1]) for item in out_degree]))\n",
    "print('Out-degree medio: ', np.std([int(item[1]) for item in out_degree]))"
   ]
  },
  {
   "cell_type": "code",
   "execution_count": 86,
   "metadata": {},
   "outputs": [
    {
     "name": "stdout",
     "output_type": "stream",
     "text": [
      "[(1, 2), (2, 0), (3, 1), (4, 1), (5, 2), (6, 0), (7, 0)]\n",
      "{1: 2, 2: 0, 3: 1, 4: 1, 5: 2, 6: 0, 7: 0}\n",
      "[1, 2, 3, 4, 5, 6, 7]\n"
     ]
    }
   ],
   "source": [
    "#oppure metodo built-in\n",
    "degree = un_graph.degree\n",
    "un_graph_degree_dict = dict(un_graph.degree)\n",
    "un_graph_degree_list = list(dict(un_graph.degree))\n",
    "print(degree)\n",
    "print(un_graph_degree_dict)\n",
    "print(un_graph_degree_list)"
   ]
  },
  {
   "cell_type": "code",
   "execution_count": 87,
   "metadata": {},
   "outputs": [
    {
     "name": "stdout",
     "output_type": "stream",
     "text": [
      "[('Io', 10), ('Gianni', 2), ('Valeria', 6), ('Paolo', 2), ('Maria', 3), ('Roberto', 2), ('Francesca', 5), ('Alice', 2), ('Martina', 5), ('Samuel', 3), ('Edoardo', 4)]\n",
      "{1: 2, 2: 0, 3: 1, 4: 1, 5: 2, 6: 0, 7: 0}\n",
      "['Io', 'Gianni', 'Valeria', 'Paolo', 'Maria', 'Roberto', 'Francesca', 'Alice', 'Martina', 'Samuel', 'Edoardo']\n"
     ]
    }
   ],
   "source": [
    "degree = di_graph.degree\n",
    "un_graph_degree_dict = dict(un_graph.degree)\n",
    "un_graph_degree_list = list(dict(di_graph.in_degree()))\n",
    "print(degree)\n",
    "print(un_graph_degree_dict)\n",
    "print(un_graph_degree_list)"
   ]
  },
  {
   "cell_type": "code",
   "execution_count": 89,
   "metadata": {},
   "outputs": [
    {
     "name": "stdout",
     "output_type": "stream",
     "text": [
      "[2, 0, 1, 1, 2, 0, 0]\n",
      "[(1, 2), (2, 0), (3, 1), (4, 1), (5, 2), (6, 0), (7, 0)]\n",
      "{1: 2, 2: 0, 3: 1, 4: 1, 5: 2, 6: 0, 7: 0}\n",
      "[2, 0, 1, 1, 2, 0, 0]\n",
      "0.8571428571428571\n",
      "1.0\n",
      "0.8329931278350428\n"
     ]
    }
   ],
   "source": [
    "list_degree=[]\n",
    "for i in list_nodes:\n",
    "    degree=0\n",
    "    for j in un_graph.adj[i]:\n",
    "        degree=degree+1\n",
    "    list_degree.append(degree)\n",
    "print(list_degree)\n",
    "# method 4: degree method\n",
    "degree=un_graph.degree\n",
    "un_graph_degree_dict = dict(un_graph.degree)\n",
    "un_graph_degree_list = list(dict(un_graph.degree()).values())\n",
    "print(degree)\n",
    "print(un_graph_degree_dict)\n",
    "print(un_graph_degree_list)\n",
    "# basic statistics\n",
    "print(np.mean(list_degree))\n",
    "print(np.median(list_degree))\n",
    "print(np.std(list_degree))"
   ]
  },
  {
   "cell_type": "code",
   "execution_count": 90,
   "metadata": {},
   "outputs": [
    {
     "name": "stdout",
     "output_type": "stream",
     "text": [
      "[('Io', 10), ('Gianni', 2), ('Valeria', 6), ('Paolo', 2), ('Maria', 3), ('Roberto', 2), ('Francesca', 5), ('Alice', 2), ('Martina', 5), ('Samuel', 3), ('Edoardo', 4)]\n",
      "{'Io': 10, 'Gianni': 2, 'Valeria': 6, 'Paolo': 2, 'Maria': 3, 'Roberto': 2, 'Francesca': 5, 'Alice': 2, 'Martina': 5, 'Samuel': 3, 'Edoardo': 4}\n",
      "degree:      [10, 2, 6, 2, 3, 2, 5, 2, 5, 3, 4]\n",
      "in_degree:   [0, 1, 5, 2, 2, 1, 3, 2, 2, 2, 2]\n",
      "out_degree:  [10, 1, 1, 0, 1, 1, 2, 0, 3, 1, 2]\n"
     ]
    }
   ],
   "source": [
    "# method 4: degree method\n",
    "di_degree=di_graph.degree\n",
    "di_graph_degree_dict = dict(di_graph.degree)\n",
    "di_graph_degree_list = list(dict(di_graph.degree()).values())\n",
    "di_in_degree=di_graph.in_degree\n",
    "di_graph_in_degree_dict = dict(di_graph.in_degree)\n",
    "di_graph_in_degree_list = list(dict(di_graph.in_degree()).values())\n",
    "di_out_degree=di_graph.out_degree\n",
    "di_graph_out_degree_dict = dict(di_graph.out_degree)\n",
    "di_graph_out_degree_list = list(dict(di_graph.out_degree()).values())\n",
    "print(di_degree)\n",
    "print(di_graph_degree_dict)\n",
    "print('degree:     ',di_graph_degree_list)\n",
    "\n",
    "print('in_degree:  ',di_graph_in_degree_list)\n",
    "print('out_degree: ',di_graph_out_degree_list)"
   ]
  },
  {
   "cell_type": "code",
   "execution_count": null,
   "metadata": {},
   "outputs": [],
   "source": []
  }
 ],
 "metadata": {
  "kernelspec": {
   "display_name": "Python 3",
   "language": "python",
   "name": "python3"
  },
  "language_info": {
   "codemirror_mode": {
    "name": "ipython",
    "version": 3
   },
   "file_extension": ".py",
   "mimetype": "text/x-python",
   "name": "python",
   "nbconvert_exporter": "python",
   "pygments_lexer": "ipython3",
   "version": "3.7.6"
  }
 },
 "nbformat": 4,
 "nbformat_minor": 4
}
