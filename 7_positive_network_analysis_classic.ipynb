{
 "cells": [
  {
   "cell_type": "code",
   "execution_count": 47,
   "metadata": {},
   "outputs": [],
   "source": [
    "import pandas as pd\n",
    "\n",
    "import os\n",
    "\n",
    "import numpy as np\n",
    "\n",
    "import networkx as nx\n",
    "\n",
    "import matplotlib.pyplot as plt\n",
    "\n",
    "from statsmodels.distributions.empirical_distribution import ECDF\n",
    "\n",
    "from IPython.display import clear_output\n",
    "\n",
    "import community\n",
    "from community import community_louvain\n",
    "from collections import Counter\n",
    "from networkx.algorithms.community import k_clique_communities\n",
    "\n",
    "import math\n",
    "\n"
   ]
  },
  {
   "cell_type": "code",
   "execution_count": 48,
   "metadata": {},
   "outputs": [],
   "source": [
    "def save_fig(fig_id, tight_layout=True):\n",
    "    print(\"Saving figure\", fig_id)\n",
    "    if tight_layout:\n",
    "        plt.tight_layout()\n",
    "    plt.savefig('analysis/positive/{}.png'.format(fig_id), format='png', dpi=300)"
   ]
  },
  {
   "cell_type": "code",
   "execution_count": 49,
   "metadata": {},
   "outputs": [],
   "source": [
    "df_metrics_values_rows=[]"
   ]
  },
  {
   "cell_type": "code",
   "execution_count": 50,
   "metadata": {},
   "outputs": [],
   "source": [
    "df_giant_metrics_values_rows=[]"
   ]
  },
  {
   "cell_type": "code",
   "execution_count": 51,
   "metadata": {},
   "outputs": [],
   "source": [
    "#importo il grafo completo\n",
    "first_graph = nx.read_gpickle('data/graphs/positive/positive_graph.gpickle')"
   ]
  },
  {
   "cell_type": "markdown",
   "metadata": {},
   "source": [
    "# Prime misure generali\n",
    "## Numero di nodi e link"
   ]
  },
  {
   "cell_type": "code",
   "execution_count": 52,
   "metadata": {},
   "outputs": [
    {
     "name": "stdout",
     "output_type": "stream",
     "text": [
      "Number of nodes:\t10577\n",
      "Number of links:\t154621\n"
     ]
    }
   ],
   "source": [
    "n_nodes = first_graph.number_of_nodes()\n",
    "n_links = first_graph.number_of_edges()\n",
    "print(\"Number of nodes:\\t{}\".format(n_nodes))\n",
    "print(\"Number of links:\\t{}\".format(n_links))\n",
    "df_metrics_values_rows.append(('Number of nodes',n_nodes))\n",
    "df_metrics_values_rows.append(('Number of links',n_links))"
   ]
  },
  {
   "cell_type": "markdown",
   "metadata": {},
   "source": [
    "## Grado medio e densità"
   ]
  },
  {
   "cell_type": "code",
   "execution_count": 53,
   "metadata": {},
   "outputs": [
    {
     "name": "stdout",
     "output_type": "stream",
     "text": [
      "Average degree:\t29.237212820270397\n",
      "Density:\t0.002764486840040696\n"
     ]
    }
   ],
   "source": [
    "degrees_dict = dict(first_graph.degree()).values()\n",
    "degrees_list = list(degrees_dict)\n",
    "avg_degree = np.mean(degrees_list)\n",
    "density = nx.density(first_graph)\n",
    "print('Average degree:\\t{}'.format(avg_degree))\n",
    "print('Density:\\t{}'.format(density))\n",
    "df_metrics_values_rows.append(('Average degree',avg_degree))\n",
    "df_metrics_values_rows.append(('Density',density))"
   ]
  },
  {
   "cell_type": "markdown",
   "metadata": {},
   "source": [
    "# Analisi della distribuzione del grado"
   ]
  },
  {
   "cell_type": "code",
   "execution_count": 54,
   "metadata": {},
   "outputs": [
    {
     "name": "stdout",
     "output_type": "stream",
     "text": [
      "Average degree:\t\t29.237212820270397\n",
      "Standard deviation:\t36.50942940626366\n",
      "Median:\t\t\t10.0\n",
      "Minimum:\t\t0\n",
      "Maximum:\t\t250\n"
     ]
    }
   ],
   "source": [
    "std_dev =np.std(degrees_list)\n",
    "median = np.median(degrees_list)\n",
    "minimum=np.min(degrees_list)\n",
    "maximum=np.max(degrees_list)\n",
    "print(\"Average degree:\\t\\t{}\".format(avg_degree))\n",
    "print('Standard deviation:\\t{}'.format(std_dev))\n",
    "print('Median:\\t\\t\\t{}'.format(median))\n",
    "print('Minimum:\\t\\t{}'.format(minimum))\n",
    "print('Maximum:\\t\\t{}'.format(maximum))\n",
    "df_metrics_values_rows.append(('Degree standard deviation',std_dev))\n",
    "df_metrics_values_rows.append(('Median degree',median))\n",
    "df_metrics_values_rows.append(('Minimum degree',minimum))\n",
    "df_metrics_values_rows.append(('Maximum degree',maximum))"
   ]
  },
  {
   "cell_type": "markdown",
   "metadata": {},
   "source": [
    "## ECDF - loglog scale"
   ]
  },
  {
   "cell_type": "code",
   "execution_count": 55,
   "metadata": {},
   "outputs": [
    {
     "name": "stdout",
     "output_type": "stream",
     "text": [
      "Saving figure ecdf\n",
      "Saving figure eccdf\n"
     ]
    },
    {
     "data": {
      "image/png": "[encoded data removed]",
      "text/plain": [
       "<Figure size 576x288 with 1 Axes>"
      ]
     },
     "metadata": {
      "needs_background": "light"
     },
     "output_type": "display_data"
    },
    {
     "data": {
      "image/png": "[encoded data removed]",
      "text/plain": [
       "<Figure size 576x360 with 1 Axes>"
      ]
     },
     "metadata": {
      "needs_background": "light"
     },
     "output_type": "display_data"
    }
   ],
   "source": [
    "ecdf = ECDF(degrees_list)\n",
    "x = np.unique(degrees_list)\n",
    "\n",
    "y = ecdf(x)\n",
    "fig_ecdf = plt.figure(figsize=(8,4))\n",
    "axes = fig_ecdf.gca()\n",
    "axes.loglog(x,y,marker = 'o', ms = 6, linestyle='None')\n",
    "axes.set_ylabel('ECDF')\n",
    "axes.set_xlabel('Degree')\n",
    "plt.title('YouTube Beauty Community')\n",
    "\n",
    "save_fig('ecdf')\n",
    "\n",
    "y = 1-ecdf(x)\n",
    "fig_ccdf_function = plt.figure(figsize=(8,5))\n",
    "axes = fig_ccdf_function.gca()\n",
    "axes.loglog(x,y,marker = 'o', ms = 6, linestyle='None')\n",
    "axes.set_xlabel('Degree')\n",
    "axes.set_ylabel('ECCDF')\n",
    "plt.title('YouTube Beauty Community')\n",
    "\n",
    "save_fig('eccdf')"
   ]
  },
  {
   "cell_type": "markdown",
   "metadata": {},
   "source": [
    "## Confronto con rete equivalente E-R"
   ]
  },
  {
   "cell_type": "code",
   "execution_count": 56,
   "metadata": {},
   "outputs": [],
   "source": [
    "p = density"
   ]
  },
  {
   "cell_type": "markdown",
   "metadata": {},
   "source": [
    "### Faccio la media di più reti random"
   ]
  },
  {
   "cell_type": "code",
   "execution_count": 57,
   "metadata": {},
   "outputs": [],
   "source": [
    "er_avgs = []\n",
    "er_stds = []\n",
    "er_medians = []\n",
    "er_mins = []\n",
    "er_maxs = []"
   ]
  },
  {
   "cell_type": "code",
   "execution_count": 58,
   "metadata": {},
   "outputs": [
    {
     "name": "stdout",
     "output_type": "stream",
     "text": [
      "9/10\n"
     ]
    }
   ],
   "source": [
    "for i in range(10):\n",
    "    print('{}/10'.format(i))\n",
    "    clear_output(wait=True)\n",
    "    random_graph = nx.fast_gnp_random_graph(n_nodes,p)\n",
    "    er_degrees_dict = dict(random_graph.degree()).values()\n",
    "    er_degrees_list = list(er_degrees_dict)\n",
    "    er_avgs.append(np.mean(er_degrees_list))\n",
    "    er_stds.append(np.std(er_degrees_list))\n",
    "    er_medians.append(np.median(er_degrees_list))\n",
    "    er_mins.append(np.min(er_degrees_list))\n",
    "    er_maxs.append(np.max(er_degrees_list))"
   ]
  },
  {
   "cell_type": "code",
   "execution_count": 59,
   "metadata": {},
   "outputs": [
    {
     "name": "stdout",
     "output_type": "stream",
     "text": [
      "NETWORKS COMPARISON\n",
      "                 Metric name   Real network  Random network\n",
      "0            Number of nodes   10577.000000    10577.000000\n",
      "1            Number of links  154621.000000   154597.000000\n",
      "2                    Density       0.002764        0.002764\n",
      "3             Average degree      29.237213       29.208301\n",
      "4  Degree standard deviation      36.509429        5.414334\n",
      "5              Median degree      10.000000       29.000000\n",
      "6             Minimum degree       0.000000       10.400000\n",
      "7             Maximum degree     250.000000       52.100000\n"
     ]
    }
   ],
   "source": [
    "er_n_nodes = random_graph.number_of_nodes()\n",
    "er_n_links = random_graph.number_of_edges()\n",
    "\n",
    "pd_rows=[]\n",
    "\n",
    "er_avg_degree = np.mean(er_avgs)\n",
    "er_density = nx.density(random_graph)\n",
    "er_std_dev = np.mean(er_stds)\n",
    "er_median = np.mean(er_medians)\n",
    "er_minimum = np.mean(er_mins)\n",
    "er_maximum = np.mean(er_maxs)\n",
    "pd_rows.append(('Number of nodes',n_nodes,er_n_nodes))\n",
    "pd_rows.append(('Number of links',n_links,er_n_links))\n",
    "pd_rows.append(('Density',density,er_density))\n",
    "pd_rows.append(('Average degree',avg_degree,er_avg_degree))\n",
    "pd_rows.append(('Degree standard deviation',std_dev,er_std_dev))\n",
    "pd_rows.append(('Median degree',median,er_median))\n",
    "pd_rows.append(('Minimum degree',minimum,er_minimum))\n",
    "pd_rows.append(('Maximum degree',maximum,er_maximum))\n",
    "\n",
    "df_real_er_comparison = pd.DataFrame(pd_rows, columns=['Metric name','Real network','Random network'])\n",
    "df_real_er_comparison.to_csv('analysis/positive/df_real_er_comparison.csv')\n",
    "print('NETWORKS COMPARISON')\n",
    "print(df_real_er_comparison)"
   ]
  },
  {
   "cell_type": "code",
   "execution_count": 60,
   "metadata": {},
   "outputs": [
    {
     "name": "stdout",
     "output_type": "stream",
     "text": [
      "                 Metric name   Real network  Random network\n",
      "0            Number of nodes   10577.000000    10577.000000\n",
      "1            Number of links  154621.000000   155024.000000\n",
      "2                    Density       0.002764        0.002772\n",
      "3             Average degree      29.237213       29.313416\n",
      "4  Degree standard deviation      36.509429        5.430698\n",
      "5              Median degree      10.000000       29.000000\n",
      "6             Minimum degree       0.000000       11.000000\n",
      "7             Maximum degree     250.000000       52.000000\n",
      "Saving figure YouTube Beauty Community vs Erdos-Renyi\n"
     ]
    },
    {
     "data": {
      "image/png": "[encoded data removed]",
      "text/plain": [
       "<Figure size 576x360 with 1 Axes>"
      ]
     },
     "metadata": {
      "needs_background": "light"
     },
     "output_type": "display_data"
    }
   ],
   "source": [
    "pd_rows=[]\n",
    "\n",
    "random_graph = nx.fast_gnp_random_graph(n_nodes,p)\n",
    "er_n_nodes = random_graph.number_of_nodes()\n",
    "er_n_links = random_graph.number_of_edges()\n",
    "er_degrees_dict = dict(random_graph.degree()).values()\n",
    "er_degrees_list = list(er_degrees_dict)\n",
    "er_avg_degree = np.mean(er_degrees_list)\n",
    "er_density = nx.density(random_graph)\n",
    "er_std_dev = np.std(er_degrees_list)\n",
    "er_median = np.median(er_degrees_list)\n",
    "er_minimum = np.min(er_degrees_list)\n",
    "er_maximum = np.max(er_degrees_list)\n",
    "pd_rows.append(('Number of nodes',n_nodes,er_n_nodes))\n",
    "pd_rows.append(('Number of links',n_links,er_n_links))\n",
    "pd_rows.append(('Density',density,er_density))\n",
    "pd_rows.append(('Average degree',avg_degree,er_avg_degree))\n",
    "pd_rows.append(('Degree standard deviation',std_dev,er_std_dev))\n",
    "pd_rows.append(('Median degree',median,er_median))\n",
    "pd_rows.append(('Minimum degree',minimum,er_minimum))\n",
    "pd_rows.append(('Maximum degree',maximum,er_maximum))\n",
    "\n",
    "df = pd.DataFrame(pd_rows, columns=['Metric name','Real network','Random network'])\n",
    "df.to_csv('analysis/positive/df_real_er_comparison_one.csv')\n",
    "print(df)\n",
    "\n",
    "ecdf = ECDF(degrees_list)\n",
    "x = np.unique(degrees_list)\n",
    "y = 1-ecdf(x)\n",
    "er_ecdf = ECDF(er_degrees_list)\n",
    "er_x = np.unique(er_degrees_list)\n",
    "er_y = 1-er_ecdf(er_x)\n",
    "\n",
    "fig_ecdf_youtube = plt.figure(figsize=(8,5))\n",
    "axes = fig_ecdf_youtube.gca()\n",
    "axes.set_xscale('log')\n",
    "axes.set_yscale('log')\n",
    "axes.loglog(x,y,marker = 'o', ms = 6, linestyle='--')\n",
    "axes.loglog(er_x,er_y,marker = '+', ms = 6, linestyle='--')\n",
    "axes.set_xlabel('Degree')\n",
    "axes.set_ylabel('ECCDF')\n",
    "plt.title('YouTube Beauty Community vs Erdos-Renyi')\n",
    "\n",
    "save_fig('YouTube Beauty Community vs Erdos-Renyi')"
   ]
  },
  {
   "cell_type": "markdown",
   "metadata": {},
   "source": [
    "# Hubs"
   ]
  },
  {
   "cell_type": "code",
   "execution_count": 61,
   "metadata": {},
   "outputs": [
    {
     "name": "stdout",
     "output_type": "stream",
     "text": [
      "Percentile 99:131.0\n",
      "Percentile 95:106.0\n"
     ]
    }
   ],
   "source": [
    "percentile_99 = np.percentile(degrees_list,99)\n",
    "percentile_95 = np.percentile(degrees_list,95)\n",
    "print(\"Percentile 99:{}\".format(percentile_99))\n",
    "print(\"Percentile 95:{}\".format(percentile_95))\n",
    "df_metrics_values_rows.append(('Percentile 99',percentile_99))"
   ]
  },
  {
   "cell_type": "code",
   "execution_count": 62,
   "metadata": {},
   "outputs": [
    {
     "name": "stdout",
     "output_type": "stream",
     "text": [
      "['Teaira Walker', 'Michelle', 'Marisa Singh', 'Haleigh Yates', 'Natalia', 'Amanda Ensing', 'Jawaid Anwer', 'Rosie Veronica', 'Christine Marie', 'amygirls world', 'Lavender Fields', 'Girl Trucker', 'Erica', 'Christen Dominique', 'Jordan Fields', 'Amanda Clark', 'MoiMoi Khan', 'Latavia Williams', 'Fly with Fizzle', 'c jay', 'Keri Rhinehart', 'EMAN', 'kasarasak k', 'Jaana Olnev', 'Lauren Tokunaga', 'Ilce Geovanna Salinas Morales', 'Trishanaclo', 'Nikita Calimbayan', 'V M', 'Mimi Meyers', 'Kittenx kore', 'Dinar Singer', 'Sherri Hoffman', 'Ash', 'Judy Howell', 'Olivia Miranda', 'Murphy Star', 'Stacey Griego', 'Staci White', 'Annette Espinoza', 'vicwilson87', 'Jackie Aina', 'Graceful Knots', 'K M', 'Amy Meherg', 'lilita p', 'Ishie Boom boom', 'Grace', 'karidish', 'Zainab Noor', 'Sarah', 'kardonay', 'Angie', 'Dee Luther', 'Jessa Marie Pole', 'Ashley Smith', 'Spirit Within Apothecary', 'Camille Anderson', 'Gemma Diaz', 'Cynthia Saikaly', 'Violet Maggs', 'Kay The MilkShake', 'Erika Yuen', 'Jamie Heck', 'Moa Fafe', 'Lauren', 'Elida Sanchez', 'Zumer Kadri', 'gigi_ c', 'Rebecca S', 'Sunnys Finds', 'Heather Gardner', 'bxgal347', 'Alex', 'Heidi’s Happy Hideaway', 'Laura Lee', 'kiley.elizabeth', 'Clorox Bleach', 'Vanessa Moctezuma', 'D L', 'A E', 'Jennifer Jankins', 'Marlena Stell', 'EMILIO BOCHE', 'Julie Ramos', 'Selina Li Beauty', 'heavenly8173', 'K Weston', 'Pam G', 'kelly begaye', 'Raechell Mitchell', 'Stefanie Refsnider', 'love n sweet2008', 'Aliscia7', 'Beth Richardson', 'mellissa gomez', 'Nyssa Mö', 'ivi122', 'anna johnson', 'CosmicCalli', 'Melissa Valdez', 'Rara Cairns', 'Relle Tolentino', 'CutePokapipi', 'Tmac1963', 'Patricia Jones', 'Anonymous G', 'Karina Orantes Flies', 'Kaidedid', 'Jessica Munoz', 'Kingdom Beauty', 'Henrietta Ainah', 'SydneyLoves Makeup', 'MisticSelene🌙']\n"
     ]
    }
   ],
   "source": [
    "hub_nodi = [k for k,v in dict(first_graph.degree()).items() if v>= percentile_99]\n",
    "print(hub_nodi)\n",
    "df_metrics_values_rows.append(('Number of hubs',len(hub_nodi)))"
   ]
  },
  {
   "cell_type": "code",
   "execution_count": 63,
   "metadata": {},
   "outputs": [],
   "source": [
    "np.save('analysis/positive/hubs.npy',hub_nodi)"
   ]
  },
  {
   "cell_type": "markdown",
   "metadata": {},
   "source": [
    "# Isolates"
   ]
  },
  {
   "cell_type": "code",
   "execution_count": 64,
   "metadata": {},
   "outputs": [
    {
     "name": "stdout",
     "output_type": "stream",
     "text": [
      "['Narelys Negron', '도연Doyeon', 'Alexa Levidi', 'Anni Duky', 'l e x i m o n t y', 'Nancy Rodriguez', 'Jenny Jen1010', \"DIzzyY's MSD\", 'Stephanie Shaffer', 'SamGal1624', 'Arielle Brittany', 'Kobe Pina', 'Kitty Keylee', 'Cathy Bynum', 'Her Majesty THE Queen', 'Katie Moore', 'Chasadie Pinnock', 'Katie Dahl', 'Mai Vang', 'Wawters', 'Olivia P', 'Audrey Barr', 'Maria Monteverde', 'Courtney Douglass', 'MsZa124', 'Alyssa Poplaski', 'Nina Bina', 'Jess Wd', 'Atari Artistry', 'Inna Morozova', 'Ana R. Alvarez', 'Alma Martinez', 'brittany schooley', 'Jordyn Halee', 'The Fonz', 'Katrina Padron', 'Lupe Martinez', 'F Mochi', 'Samantha Gambill', 'moonwitch', 'Sara H', 'Della', 'Ashley Holenchick', 'Sarah Foshee', 'kazeem786', 'Charmaine Kwin', 'Matilde Raab', 'Siera Wright', 'emma bellgowan', 'Alex Green', 'Christlee Hooks', 'Catqueen 2107', 'Jheramie Mendoza', 'Beauty by Ally Benavidez', 'Julia Caldera', 'Fetiha ፈቲያ', 'Gloria Watson', 'Deanna', 'cassandra weishaar', 'Karina Mendez', 'Jackie Garcia', 'Jiamesha Cavers', 'Amalia Rincon', 'NanaPearl pearl', 'Sophia Fallarme', 'lola12falana', 'Starlight 96', 'Nur Essentials', 'Corina Avendaño', 'Karina Maree 18', 'Speaking Truth', 'Rony Pierrot', 'amanda salazar', 'Alexis Gjurasic', 'Angel Liem', 'Kelly McGilvray', 'israel vargas', 'Glamberina', 'MoonFoox', 'Min42', 'Kiara Renee', 'Kristine Elizabeth', 'Sara Mcdonald', 'Azzy Bee', 'Zhaina_ Moh TV', 'Shadow_Wolfii', 'linjeeC', 'Mary Rokas', 'Ashley Slaughterbeck', 'Joyelle Ward', 'Sierra', 'MD:Ahsanul Haq Sojib Sojib', 'The Alabaster Box', 'Chantre Kingwood', 'Julian Kattola', 'martisnore', 'Barbara Storrey', 'Heather C', 'Sara Banozic', \"Dario D'Abbronzo\", 'Billie Cyrus Bie', 'xian arl', 'DjoubaDjouba', 'Rinusha Suresh', 'Ali G', 'Breanna Carozza', 'Elyssa McCoy', 'Charlane Yu', 'Khim Khun', 'Yugvijay', 'Sara Boo', 'Happy Natural', 'Alejandra Lopez', 'Meghna Ahlawat', 'ladebrouillarde', 'Quiring Dylan', 'Michelle Yu', 'Poupoupidou', 'Izabela Morales', 'TheZchristina97', 'TheBlessedDriver', 'MissShannon', 'ciesia', 'Narcissism', 'Real Mojastiva', 'Lutz der Lurch', 'Y. Gao', 'Carli Bybel', 'Léticia', 'Blasiann Gang', 'batmanfan20101', 'kendra payne', 'Mireya Bravo', 'Jelly', 'Emily-May Yeo', 'Stephanie Rubino', 'Nat King', 'andreachidisima', 'Chhfkuewfh Fehfuhrwl', 'Audra Andrews', 'Yalil Aguas', 'Lilly Marie', 'I’m Michelle - asmr', 'S Zhang', 'Melissa Rideout', 'Hana A.', 'e c', 'Emily Williams', 'Tresea Rullamas', 'Jacqueline Mutesi', 'MariposaMegan', 'Jammin', 'Mrs Unnecessary', 'Sam Stonick', 'Sheanna Sauls', 'Tina Maurer', 'Marcia V', 'indi buckton', 'Marulé MacKay', 'Coleen Gallardo', 'Tiana Pollack', 'Ronda C', 'Diane Lee', 'Tesa Stallman', 'Aubrey Rome', 'Naz S', 'Hephzibah Maduka', 'Sebastian Michaelis', 'Javeria Naseer', 'Nicky Noorani', 'Hope2NoU95', 'Nathalie Altamirano', 'Tania Tala', 'katie gill', 'Svetlana', 'Ineida Barbosa', 'Its Chanyia', 'Jessie M', 'Kait Scott', 'bellejem91', 'Nina Csoma', 'Shawny Boo', 'Lucy Moore', 'Danielle Salvador', 'Arshia khan', 'Jeremiah W', 'Bloomy Cookie', 'Sara', 'El 1996', 'Tesha Cooper', 'ashelizabethxox', 'Tiffany Loo', 'Karlee Nash', 'Amy Fenstermaker', 'Kim Todd', 'unlimited', 'Erica M', 'Victoria Stelle', 'Gillian Alvey', 'Clout Cobain', 'Keila Padilla', 'Amber Ros Perez', 'Alyssa Smith', 'Roe Alexis', 'Ryoko T', \"Thistle's Gaming\", 'Nesrin xxx', 'Erika Verdejo', 'Kendall Vidal', 'Houda Beauty هدى بيوتي', \"I'm a Lammacorn\", 'Davina Victoriaaa', 'jesuismbali', 'Brenda Madrigal', 'Sierra Grace', 'mads', 'ashley thebest', 'jayline kajaja berlin', 'Jacqueline Chester', 'Meera McNeely', 'Jamie B', 'Cheybaby xox', 'Merly Obra', 'SCSilk', 'Christina Bella', 'Katelyn Brinkerhoff', 'Isamar Martinez', \"Momi's Beautyland\", 'Stylistic Future', 'Brittan Smith', 'klly', 'Sara Aragon', 'Sarah Sweeney', 'African Arabic Goddess', 'Mónica Oliveira', 'princezzzz29349', 'Shandra G', 'Lisa Huntley', 'Danay Sandoval', \"Collette who'sthatgirl\", 'Halley Deskin', 'Audrey Gracen', 'Asia Cain', 'Alexandria M', 'Annabelle', 'Nicole Chaney', 'cerissa S', 'Francesca Mosquera', 'Chapters of a Gemini', 'Karla Marie', 'Sanika Estrella', 'Kyla Staples', 'Sarah Skylar Cooper', 'Shankar Bhashiyam', 'Julie Rice!', 'cassandra W', 'Estela Rivera', 'KITTY KAT', 'Maysen Brown', 'rebecca welch', 'Daphnet', 'Jonathan', 'Kristi Riley', 'Shaira Mae Riyas', 'Lynn K', 'Chloe Schuler', 'Mapet Maratas', 'Elizabeta Bihler', 'Kathrin Feitsch', 'Aurelia Carter', 'From Head To Toe', 'Erica Scott', 'Lillian Schäfer', 'Mara K', 'Sage M', 'Amber Skye', 'Naba juma', 'JMAGang', 'Michelle Marcial', 'Sahar Varona', 'Monique V. Hung', 'Alejandra Jiménez Olave', 'Angelica’s Styles', 'Toni West', 'Basha Js', 'The Ship That Carries Taeny', 'MEH_', 'TrinityMinistry', 'Jon Boll', 'petitsjoujoux', 'Ana R', 'Ally Hj', 'Daytona Morton', 'Revy 11906', 'Maggie Rrr', 'marina pavli', 'Rayan Muhamad', 'ava geiger', 'Ciara Schwieger', 'Erin H', 'Whitney Huskins', 'Joann yoo', 'Eve KT', 'Makeup by FNGee', 'Locrecia Pelham', 'Marissa C', 'Anna Stump', 'sweetxangel', \"Zion's Desk\", 'whatitdo baby', 'kiona wright', 'myra drew', 'Jessica Vasquez', 'Heisok Pak', 'Michelle Nadin', 'Ornela Xhindole', 'Brittainy Clark', 'Ashley Russell', 'Lyndsey Davies', 'Nina S', 'Dania Mihaiu', 'Tik toks That are irrelevant', 'Audrey Leeann', 'Margaret Schwab', 'CamposGirl78', 'Kristen’s Way', 'Therese Lupian', 'Brandee Lampe', 'Prettyboytalkvlog', 'Caleb T', 'brick house', 'Vanessa Thammarath', 'Beauty By Scho', 'Corinna Bauer', 'Stacey Martin', 'nancyasalinas', 'Nicole Letson', 'Janella Moala-Langi', 'Alecia Martinez', 'Julia Lynn', 'JayMcCrazie Anderson', 'makeupcookingart', 'November Customs', 'Elly Luquen music', 'Bianca Abarca', 'mark anderson', 'Laticia Goodnight', 'Hannah McBride', 'Jackie Ayy', 'Iffat Islam', 'Living Life With Valerie', 'Sydney Henderson', 'jasmine lee', 'The Toristeve Channel?', 'Andreja Bradshaw', 'Yanique West', 'Victoria C', 'Madeeha Khurshid', 'Estefanía Fernández Castro', 'Vod Ko', 'Chloe Nguyen', 'Soft Melody', 'Jolene Awazie', 'Kally Karim', 'Ayako Hayashida', 'alex', 'Natalie K', 'Kayycee18', 'Amanda Lieungh', 'tenchy6182', 'Megon Fearon', 'mary0560', 'Elisabeth DLR', 'Atony Daleno', 'Love', 'Leah Naiditch', 'Jovy Cortez', 'Jiyeong Lee', 'Preston Glenn', 'Samantha Perez', 'Veronica Rocha', 'Jessica Vanhannegeyn', 'Chandrani Mazumdar', 'Pippa Rucker', 'Samantha Riegel', 'Suzi Hazlove', 'Karen Lopez', 'Kallie Judge', 'soseberry soseberry', 'Sara Joyous', 'Emma Kat', 'Stephanie Berenice', 'Ashley Lynn', 'Karyla Rose', 'M BG', 'Kayla Reardon', 'Kimberly Brooke', 'Amanda Bradford', 'Dene Stone', 'Nadeaahh Jimenez', 'Sara Pritchard', 'Maria Natalia Saez Sampson', 'Nessa Rochelle', 'GeekOwl', 'Karen Bon', 'Esme E', 'johnny appleseed', 'NARAS', 'im jennc', 'Robyn Perry', 'Silvin GC', 'Dana Nuppenau', 'AVM Stars YT', 'Janney Garcia', 'MegaCassie83', 'Alyssa Reacts', 'Wilhelmina Botchway', 'Bernice Ayer', 'The Not So Evil Stepmother', 'Torii Milton', 'Ashley Luiz', 'Crystal Muniz', 'yendrica nunez', 'Angela Melinda', 'Aplyma1', 'Corina F.', 'Serena Joon', 'Angela Newhook', 'Valkje Toekan', 'Kathleen Hazy', 'Tara Govil', 'Jonathan Grabban', 'Yvette Kennedy', 'Ridve Rahman', 'Wilson Yuen', 'Manshi Singh', 'Evelyn Arroyo', 'Gabbie Moon', 'Rae Edwin', 'Adreanne Buck', 'Ana Rounds', 'Vstyle101', 'Michelle S', 'Gracie Loo', 'sarahlovesElohim', 'Niamh Shingler', 'MAKEUP BY Krystle', 'Yvette Alvarran', 'jenniferofthejungle', 'Kate go', 'alliewithbooks', 'baymax is bae', 'Hillary Ammon', 'patty0727', 'Amy Bolanos', 'Amy Hggs', 'Amy Headden', 'Jac A', 'Jael Go', 'zoë dodson', 'Iness', 'Nicole Sim', 'Wendy Morerod', 'Regina Hamilton', 'asiatanae', 'I, a teen', 'Andrea Sargent', 'loreal tucker', 'Kaylynn Stewart', 'Alex hernandez', 'lydiaann2010', 'Christina Edwards', 'Meredith R.', 'Jenny Cela', 'K k', 'ViveComo Donna', 'Madison East', 'lifeasBerenice _', 'Sian S', 'Nadia S', 'Elizabeth Gallop', 'Rebecca Parry', 'sofia aczar', 'Jeanna-Mae Yellow Horn', 'patti hall', 'Galena Clark', 'Sherry Rinkwest', 'play with Laura', 'Ashley W', 'Jaya makes art', 'Dalia Camarillo', 'Anne Marie Fenttiman', 'giggle cuttie', 'Idetha W', 'BatgirlGamer', 'N Cos', 'Megha Singhania', 'Jessica Balderas', 'Bianca Renteria', 'nath', 'Valerie Perez', 'Maggi Sellers', 'Autumn Daniels', 'TD Jase', 'MsBibiMuneca', 'Sunny A', 'Meli', 'Jaxon is Peng', 'Sassy Pants', 'Lydia Nelson', 'i’m cool but anyways as i was saying', 'maddyg298', 'Tashira', 'Sonika', 'Lorraine Casiano', 'JoJo Brownie', 'Gess', 'Canon', 'gwen joplin', 'Dawn B.', 'mimismom8', 'Manteli Maria', '/まるていなMartina', 'Melanie Estrada', 'Kari-Anne Vrooman', 'Sabrina Husby', 'Austin Arteze', 'Nadia Larissa', 'Hermina Patmol', 'Cyntia S. Wardana', 'JoAnn S.', 'Terri Kinney', 'Juliana Kyles', 'Samara Gorman', 'Madison Tatum', 'Panya V.', 'Cătălina Ciubotaru', 'Amy Henry', 'jana', 'Rubi R', 'moda dünyası musiqi', 'Leona Yazdidoust', 'Light in the Piazza', 'Anna Soloveichik', 'Emily Clark-McHale', 'Ritaa Meshreky', 'Nishat Anzum', 'Zoe Ferreira', 'Vanny Vanny', 'Melissa Criger', 'BananaS. Are_Good', 'Jessica B', 'Diana Boqu', 'monika mejia', 'Bella Vlogs Life', 'Ivonne Hansson', 'Sandra L', 'Clarissa Rosario', 'Hanna Yoon', 'Joan White', 'DancingLan25', 'Gina Choi', 'eyeamsamira', 'Malaika Elien', 'Kathy McHale', 'Ryleigh Jenkins', 'Summer C', 'Stephanie Nguyen', 'Jessica', 'diamond DACOLDEST', 'Abeer Shaikh', 'Clarece Leona', 'Glitteryblood A', 'Elizabeth Solano', 'Jordan Michaels', 'Jenny Lopez', 'August Marshall', 'Umanga Ruhunage', 'Tashima Stanton', 'uwuwuwuwuwuwu', 'Audrey', 'Johan Ambriz', 'En L’air School for Dance', 'Ria B', 'LauraPaules: Mom of Beauty & Fashion', 'Jade', 'Jessica Bronner', 'Annette_ K', 'Rodasia Batiste', 'Jenny•', 'Carolynn Alvarez', 'Logan', 'Candice xo', 'puneet parhar', 'Kristine Aguilar', 'Miss Liane', 'Monique Symone', 'Awura ama duah', 'sweetangel lewis', 'Deana Perez', 'Samantha Martinez', 'ahoward', 'chrissy L', 'RustyRules426', 'Uncle Eddie', 'athena', 'Isah Kmro', 'Angela Crosley', 'Tatum Hinson', 'isabeli gutierrez', 'Emanuel Carmel', 'Kylie lil', 'Jane Doe', 'Maria creta', 'A S', 'Jazzysmom', 'Ingrid Nasson-Ansarie', 'Truth Hurts', 'chanelle gutierrez', 'ChallaMai Hight', 'Orxan Merd Official', 'Lashaunda Diaz', 'keepinitreal', 'shari04', 'Lynne Connolly', 'ci rob', 'Brigansidhe', 'Yuleisi Virgen', 'Sarah Hubans', 'brittleigh1989', 'Anna Fresa', 'Carolyn Knierim', 'Leticia C', 'Katelin Marshall', 'manarioo manarioo', 'Amy Franklin', 'Lashynna Green', 'Jess Blended', 'AquavivaZZZ', 'Brooklyn Doyle', 'Lupita Sanchez', 'Maria Rodriguez', 'ICE IMS', 'Claudia Gray', 'Beverly nocluze', 'Jarritys McGraw', 'Amanda Waldron', 'JUSTNISA', 'TheBabyMomz', 'Joshua S.', 'Badoo Renc', 'sarah mouzory', 'Cheryl Ardis', 'Annette Hughes', 'Sandra Karamouzis', 'ThatKoolKid Mia', 'Halwest Mhmamad', 'LaPetite Morte', 'Clara', 'Gina Cabrera', 'Banana Leaf', 'Lysol Disinfectant Wipes', 'LVoe bags', 'Sebina Timm', 'Ayanna Riser', 'Andrea Walton', 'Essence Moore', 'Dishani Dishani', 'LuClu81', 'Andie Eakin', 'Aja C', 'Jee D', 'RemRem Labbs', 'Lily Seker', 'El P.', 'El mundo de Unicornio', 'Emily Yip', 'Dharma Indigo', 'Caroline Burgen', 'seeCHOsmile', 'Shanti Mattie', 'Angie Ando', 'Jasmine Lynn', 'Mish_ elle', 'The Soaring Seaward Family', 'Alena Nguyen', 'Belinda Ball', 'Rebecca Bedaysie', 'AnDeSa Sisters', 'carol b', 'The Curl Experience', 'Marie Escovedo', 'mxlliaa', 'Tiffany C', 'chandrali baruah', 'Ebony_Love_R_007', 'Skylar Wolkoff', '-beautifulx', 'Shaia Taitapanui', 'Stesanie82', 'Mary B.', 'Lotus Bomb', 'catsway', 'YazzBangala', 'Maddy Palmquist', 'Nurs Ok', 'Kawaii Tropix', 'julie jones', 'Hilda AYBAR', 'ebru uran', 'anna cortez', 'Bethany Wilhelm', 'JESUS SAVES', 'Phia E', 'Adrienne Snow', 'Samantha Espinosa', 'Morgan Mullins', 'Ms. Moore', 'Cindy Demambro', 'Allizon Martinez', 'Rosie', 'Biota Macdonald', 'Majin Buu', 'Ana Stephanie Zamora', 'Nickie Duvall', 'TangoR3D', 'Friday', 'Ashley Emory', 'Alexandra H', 'Monique', 'wanna benatural', 'Kyra Whitlock', 'Jamica Jay', 'Olivia Ramsay', 'Jenna Kassim', 'athena dougherty', 'magalis leitoe', 'Marteena Shuaina', 'sarah santiago', 'C Stratford', 'Maa Saa', 'Clara Granados', 'bpxl53yewz', \"Ana's Vlogs\", 'Hay', 'jair emmanuel baltazar jimenez', 'Jandro Bay', 'makeupbyabird', 'elvee', 'Fannana Fahreen', 'Vanessa Vaughan', 'Opal 101', 'zeerish faisal', 'Denise Ruccolo', 'midlaj ck', 'Alissa Mangae', 'Jenna Glaser', 'ThiscouldbeAlyssa', 'Bazookajus Fireblast', 'Natalie Caballero', 'Heylie D', 'Pearl Palacios', 'Nicos Frangeskou', 'Jamie Munson', 'Lilly', 'Jennifer Sherrod', 'Jaylin Harrington', 'M. Cole', 'Clara Pluchard', 'Rose Khoshaba', 'Katherine Arroliga', 'Kimberly Romero-Rodriguez', 'Tay Ti', 'c m', 'Recquel Mack-Randles', 'Sydney Schilke', 'Natasha Meadows', 'Chariyah Iman', 'aafukuda', 'Amanda', 'Todd Gyurke', 'Maira Sharif', 'Sarah Vivian', 'Amber Radtke', 'Alaina Richardson', 'misserrricka', 'Danielle Lynn', 'Brick & Hardwood', 'Christina Figueredo', 'Angelica Salatan', 'Bayli Bush', 'Jasmine Chagoya', 'Sabrina-chan Nightcore and lyrics', 'On the edge', 'Brandi Elizabeth', '100% Real Woman 4 The Throw the Bum Out Party!', 'karim Raslan', 'GoofyGoobier', 'Alexandra Kamdem', 'Takima Howze', 'Anel Baeza', 'Denise Paulsen', 'danaharrinanan', 'Kearia Jones', 'Cristina', 'SarahY163', 'karinalaramartinez', 'Jessica Hoch', 'Munisha Mustafa', 'Aly Montalvo', 'mpls_mary', 'Bethany Loreal Cherian', 'Elena Ferrari', 'Kayla Bateast', 'heyitsjusme79', 'Cinnabuns75', 'Laladalion 12', 'Elizabeth Ong-Chen', 'dancer5223', 'my life style', 'Monica VanDeventer', 'Linda Netzel', 'Juste Mart', 'McKenna Raulston', 'Villa Azzurra', 'Dineal Crowe', 'Rima Islam', 'Sara Martin', 'Gerlane Condesa', 'Gabby Dav', 'Viktória Bagley-Mészáros', 'The shenanigans of a Platypus', 'Charlene Weber', 'Thêrêsa ThạchThủy', 'Alyssa Mantione', 'Julia Lukasik', 'porroneaisan parrapioBTSARMY', 'Nicole Amber', 'misslechateau', 'Turf Smurf', 'Alexandra Fernandez', 'Lily Caple', 'Stephanie Quintana', 'M A Y A M', 'Haya Fatima', 'Unicorn and Rainbows', 'Aaron Newies', 'a.d.w. n.', 'Daddy Moon', 'sis h', 'Lujain Raushan', 'Susan Yusun Q.', 'Alejandra Macias', 'des', 'anahi', 'Skyler Michaud', 'Derrick R', 'silkbuttons', 'samaria Warren', 'Christina Aaliyah', 'Stefanie Stelmach', 'Panna Pertics', 'Afia Belle', 'Lily jing', 'Mahnoor Hassan roblox', 'Dolar Panglima', 'Erica Banks', 'Amanda Renée', 'ShelbyAlexis', 'Savage Beauty', 'Autumn Rain', 'ezpic2', 'Selina Hakh', 'Christine McKIttrick', 'Samie Free', 'Emma Olivia', 'Jelena Lejic', 'Shakiya Wiley', 'Widlyne Knight', 'Desania Koval', 'Angie Viera', 'MintOrange', 'Fay Aziz', 'FATHER NATURE', 'Sonia A', 'Monica Lomax', 'MacupBanana', 'tina meftah', 'Rivkae Winters', 'Iva Le', 'Teacher Nikx', 'meepbitch', 'Modernstyle homes', 'Min. mochi', 'Lindsay Marks', 'angel DOJC', 'Paola Soltero', 'Nyssa Silver', 'joannej_1974 Youtube', 'R G', 'julianacmmenezes', 'Ahtziri Guerrero', 'natalie jones', 'vanessa cruz', 'Emily Thomas', 'Robin Reid', 'Nyanjok Garang', 'Lauren Wallis', 'Blessing Ashanti', 'Kennedy Worsham', 'BoneDeepBeauty', 'Chesney Pope', 'Shannon Nevid', 'Jasmine Rahimuddin', 'leslie b.', 'Eve Yitagesu', 'Diana Behrenz', 'Roo90', 'Unicorn Gach Girl', 'TheHelusion', 'Rebecca Anne', 'Lauren Cox', 'Busakorn Warawut', 'Jane Smith', 'esti g.', 'Strong Raw', 'Carol Shapna Roy', 'ZOE美', 'Lina Lee', 'Shameless Hawaiian', 'hmay86', 'natalia montanez', 'Christy Fielding', 'Anisah Nazario', 'funsize198', 'Destiny Chevere', 'Chloe Earley', 'Zanyala Robinson', 'Swami', 'melissadstar', 'N Alcantara', 'rosane :', 'Funny Chips', 'Mony Delgado', 'Adriana J.', 'Cozetta Veal', 'stephanie basso', 'Aniya G', 'Lissette’s Bloom', 'Inga', \"Je'la Smith\", 'Sheree-Liz Quant', 'Lu P', 'Eddy', 'Andrea Glez', 'Gitanarosa', 'boss=zay123', 'Carmen Quinones', 'Bess Pichinte', 'Maja Mešiček', 'Keko2461', 'Phoebe', 'Mayra', 'Toni Wittmann', 'Tamara Tew', 'Julye Alvarado', 'Patricia Quinlan', 'Adeline Goh', 'OhDamnYanet', 'FlashEXE', 'Amber C.', 'Natalia Costa', 'Heroina The kitty', 'Mustafa .Ibn-Zakariya', 'Henric Capiña', 'khristine zimmerman', 'socksumi', 'Jenn DeBoer', 'Heath7', 'Rachelle', 'Nicole Jimenez', 'Stacy Rae', 'Kiera hooloo', 'Julie Claire', 'Caius johnson', 'ashley j. estrada', 'Luv_in_Nov', 'Ms H', 'Sabrine Xxoo', 'Tenisia Pooi', 'Connie Echols', 'Idna Seyer', 'Talia Woolf', 'ForeverChiTonight', 'Jasmine McGhee', 'J1', 'Rose Bambalou', 'Heer Dolski', 'Kristen Peterson', 'Goose', 'MishMish', 'Inayah Cee', 'hotlittle zombiekiller', 'Claire Spence', 'prettybrowngirl211', 'akua boateng', 'chlojoe100', 'Alysia Bennett', 'Dakota B.', 'Mila m', 'fire and sugar', 'Hema Vara', 'Carissa Lynn', 'Abbigayle Dacres', 'The Mango', 'fawad izlan', 'Neesa Marie', 'Saltyyysab', 'Christie Kinahan', 'Deniz ORS', 'Ana Mazariegos', 'Casey Tierney', 'ป๋อ ป๋อ', 'soooztm', 'Nikahya Williams', 'Asigedge', 'Betty Be', 'Johanna Golden', 'ShariSez1', 'Bellamorda', 'T.', 'Darci B', 'Katie Tetzloff', 'Candy Apple', 'ᴇᴠ', 'Jingle death', 'Leafitup', 'Myshel630', 'Ashlyn g a l i s', 'MARIELLA RAQUEL', 'Mrieekk', 'kace silver', 'FroggyNoob 0', 'Mary Malone', 'Bri Nicole', 'Mommy OnBudget', 'Sayittomyface Idareyou', 'myaimistrue', 'Maha Nadir', 'CelaMarr', 'ItspronouncedJulia', 'Just Lio', 'Maddie The Cat', 'Ari Rachelle', 'Food Is Bae', 'HELLOKITTY LOVE', 'caitlyn who r u', 'Masmuha Majid', 'Isha Kumar', 'Sydney Clark', 'MoSmith', 'Ellie', 'ryryzbeauty', 'Michele Schulz', 'S T', 'Gemma Rehman', 'Ecco Watson', 'joe angel olivares', 'Doris Stevenson', 'TashaiKelisa', 'Tina Serrano', 'Kieran Kitty', 'chrissy garrison', 'Kareena !', 'Mandy Shaw', 'a simon', 'MindofIris', 'Shi', 'terri boo', 'Y A H U R E L I S', 'Heidi K', 'luckytyler28', 'Denise Allcock', 'Leslieeepop', 'Lui Medina', 'Alison Brock', 'WhiteRabbitTricks', 'silver_04', 'Bailey', 'Alexandra Hatlelid', 'Ulf Larsson', 'Renee Alina', 'ca frick', 'Rita Pebya', 'Daysia Blue', 'humanmisfortune', 'Star_Struck_ Lover', \"Don't worry about it\", 'Chassity O', 'morgan mikulay', 'StarryEyesShesAlive', 'Gea Sol', 'makeupby Maass', 'Rachel Howard', 'Porsha Cobb', 'Elvia Morales', 'Ariane Cueto', 'Savannha Benz', 'Lilo_Mo', 'Ayla Marika Saxton', 'Sahab Singh Rajput', 'Summerof Shargiyah', 'Ramona', 'Gabrielle', 'justCat', 'Nina Guzman', 'Marise Huerta', 'SeeKela Live', 'Acid filled candy', 'dksm79', 'Mehreen Saigal', 'Ayisha Farhana', 'Jessica Calfee', 'Bolly Hamilton', 'Jordan Michel', 'Suad Sandoval', 'Brittany M', 'str c', 'Vivienne Whittle', 'Ella Stopka', 'Masuda Akter', 'Tiffany Lekuku', 'Yeya Rodriguez', 'Sarah Skye', 'wanderpus', 'Nnenna Umeh', 'Añuli Okoye-Oyibo', 'Noelle.ki', 'Kandee AIU', 'Marychuy Ojendiz', 'AlizMari23', 'Falcon Griffith', 'Madelyn R', 'Flicker Snicker', 'Angie Williamson', 'kylie samuels', 'Kicking It With The Stricks', 'Sanae Tv', 'Ren M', 'Queen Osawe', 'Vesna Stankovski', 'Kendra Garcia', 'Momir Petrušić', 'Silly Cat', 'Lovely Lucy', 'Dominga Bravo', 'Andrea Chettiar', 'Denisa Geregova', 'Fatima Rahman', 'LLL', 'Heather Hernandez', 'Kim Lee-Blair', 'Lia Johansen', 'amy13 lee', 'ashley ware', 'Dr. Fisher PhD. / MUA', 'Karina G', 'Jazmin Valtierra', 'bee', 'NanaGirl', 'A D', 'cassie neils', 'fauziah fauziah', 'DEZIREE MILKE', 'sena mazubane', 'My little Diary-Japan', 'Steph xoxo', 'AW', 'Eternitee S', 'Avry Smith', 'Britney Evans', 'drcoxhugenews', 'Ashton Capello', 'The Actor', 'Elizabeth Gregory', 'John Routh', 'London Lee', 'Grey Girl', 'Melissa Brooks', 'shoni and kids', 'Dreamers Circus Candy', 'supaguh', 'Anum Tayyab', 'Jenny', 'mm mp', 'Massiel U', 'Freya Burgin', 'LmtlessLi', 'Rosa Torrie', 'Casey Konz', 'Jasmine Bailey', 'Rennianna', 'Siri Jacobs', 'Diana Banana', 'Rachel Kacsmark', 'Jelena Čvorović', 'Jazmeen Kaila', 'ShiriesSerenade', 'Lol', 'Candice Rivera', 'Veronica Elizabeth', 'Inés AB', 'Jess P', 'Angela Langlee', 'Go Randoms', 'Maybesure', 'AVDV', 'Sayana', 'Ariella Mendoza Ozuna', 'Diana Lindberg', 'Nenah Cheremie', 'drs 299', 'Honey_ Blossom', 'Elle p', 'A.J.', 'Makeup Kristi', 'Audrey Two', 'Heather Nikki', 'TheVictoriaPuentes', 'Latisha H', 'Cupcake Creativity', 'Sexymaya Green', 'Karen Nicholson', 'Morgan Norris', 'SmartieGrrl89', 'darrika84', 'Pauliina Rinne', 'Eboney Clarke', 'Rebeca Valtierra', 'Abby', 'Kd D', 'Alleah Sasseville', 'Tia Blanch', 'Lyndsey Reed', 'T From NC', 'Michelle Stratford', 'Abby Duke', 'Dracu kitty', 'Jeanette Filpo', 'Trish', 'mail4dodi', 'Ana Olivera', 'rachel whitakeer', 'Zinnia Hardy', 'LeleRoyal', 'Amber Brown King', 'Sakura Xiong', 'Samreen Laraa', 'Junior', 'Measvlog hijau', 'Kelly Darling', 'Casey Finnegan', 'Alexie GG', 'Amalia Aragon', 'raquel52292', 'Metra J', 'muttless', 'Makayla Williams', 'Sarah Landrey', 'julianne Rose', 'ali', 'Styliste beauté Chaudhary', 'Pepto Bismol', 'Maggie Marsh', 'DoraSometimes', 'Kelly Blaylock', 'Susie Vazquez', 'The H Family', 'You tea Tube', 'Stefani Purcell', 'Priyanka Bhati', 'Mattyboi 5000', 'Michelle Mendieta', 'Ashley N', 'Jlyn Mar', 'Stacy C', 'Naylynne Leonard', 'CAROL ROE', 'kim koen', 'Kim Dukeshire', 'Heather A. Turner', 'Alexis Cortez', 'Naren Synger', \"Sarah's life 321\", 'Mare Nguyen', 'Bowl OfSoup', 'Carolina Bonetti', 'April White', 'Diane Hensley', 'Marit Lember', 'iwabaaras', 'NAGULESWARAN MAYURAN', 'brittmg13', 'Amber Rodriguez', 'Caylyn Adamko', 'Amanda Blythe', 'Maham Siddiqui', 'Reene', 'Bernadette Nadine', 'kawa ii', 'Jeff Findlay', 'ana bella', 'mrssyiem', 'dis murrart', 'Jackie Hosking', 'Carina M', 'луциано', 'Jessica Rose', 'Patricia Clair', 'Bree Marie', 'Susan OBrien', 'Regina Mortis', 'Golden Sugar', 'Dana Tate', 'Zoe John', 'Violet Banks', 'Ashley Moore', 'Luisa Estrada', 'Stephani Nichelle', 'Dottie Ndots', 'Claire Lieutier', 'stephanie romero', 'Abby Normelius', 'B K', 'Reagan DeLeon', 'Jannat Queen', 'Rachel Ellison', 'star 15', 'Laura Marie', 'Gabbie Ashley', 'Bree e', 'Smiling_az', 'Teralyn Jackson', 'Coral More', 'Stephanie Ann', 'Lauren Minor', 'Natacha', 'Cindy Rossi', 'Sagar Raut', 'Tiana Gordon', 'Melissa Boomer', 'Seema Noor', 'Amber Rose', 'Carina Dunhill', 'Alexa Valenzuela', 'animemangalover94', 'Janet Perkins', 'Maya Harper', 'Stacey Caiola', 'SuperAnimegirlz', 'Priscilla Bernal', 'Samantha Hernandez', 'Mehar Kaur', 'Aimee X', 'Saray Segoviano', 'Max Thomas', 'Farzana Rahman Tinni', 'Adriana Navarro', 'Daya Lopez', 'mxren .s', 'mjespinosa4452', 'Summer XO', 'plus size teranae loves hauls', 'Vellia Rahma', 'jenotization', 'Robin Andriatz', 'Christina Fico', 'MonShea', 'Phương Nhi Nguyễn', 'Beauty_ Shi', 'Fayline Wise', 'Ginna Beltrán', \"Stephanie D'Souza\", 'Marilyn Murillo', 'esmeralda reynoso', 'M S', 'Caitlin King', 'Tiffany Mejia', 'Jordan White', \"Jenny's Mundo\", 'lacy elizabeth', 'Christina Casapulla', 'JNelsDotCom', 'Kaylee Vasquez', 'KALELUVR', 'Long Siria Silver', 'Sherry Faith', 'karla villalpando', 'Ayy', 'Alicia Marie', 'Gail Viel', 'TGeezy', 'Tamira Bennett Volk', 'Jennifer Woods', 'Larissa Hostetter', 'Fatima Diallo', 'Muriel Frazier', 'Kimberly Perplies', 'Wolf Girl', 'kristenispupasbff', 'Angely Marie', 'yadira Perez', 'Christel Eilander', 'Rachel Petterson', 'skye reilly', 'Alexis Frohlich', 'Caroline Thompson', 'Sheyla Virgen', 'RL H', 'Erica Rhein', 'Xinger Zheng', 'Phoenix Fire', 'bostongal912', 'daphne lee', 'Crys Style', 'rida', 'Leelou Iehl', 'Klint Hugh', 'Patricia McKeen', 'Valerie Elliot', 'Peggy Esquivel', 'SC', 'Becky’s Beautiful Life', 'Paris Stewart', 'leungbabe', 'Dairy Dream', 'Anne Smithers', '3680 Diamond Mason', 'Technicolor-mom', 'Miss Bling', 'Kelly Herman', 'EnajCosta', 'Kennedy Dunn', 'Zion Heather', 'Suzanne White', 'Laquan Harris', 'Jocelyn Torres', 'ar15.blakeson takeout', 'Talia Acevedo', 'Audrey Pargeter', 'Tara Is Bored', 'Zoé zoe', 'Jason Smith', 'Amy Eden', 'TheWorldOfCrazy', 'lil kay', 'Animu Pebs', 'Flannery Clark', 'Ally Garza', 'Boo Boo', 'Danielle Jost', 'Alasha Williams', 'Confidence Crown', 'KDXQUE', 'dada eueu', 'Seni Olateju', 'Shammyon Sears', 'Viki', 'chai latte', 'hello there', 'Samantha Hall', 'Lena Nguyen', 'Palesa Mosaka', 'Queen Be', 'Metal Head', 'Joley Beck', 'Sadie Weaver', 'Tara Johnson', 'Bailey Carter', 'Sky Xiong', 'Darko', 'Malika Sanders', 'k m', 'yahaira8a', 'Amanda Melaram', 'Leslie', 'Maria Victoria Chakarian', 'tyra nguyen', 'Kayla Merida', 'Liz Davis', 'Polixenia Bubulache', 'Caroline Kingscott', 'YouuLoveBri', 'nusrat jahan', 'Irene Magallan', 'Courtney Miller', 'Samantha Clifford', 'Alex iliev', 'Temí Oliveira', 'ELVA ROJAS', 'Bo Brucie', 'Maki-chan Yagami', 'Toni Reeves', 'itzmaggy', 'bubblegumhanna', 'Barbara Pastori', 'Mikal Jade', 'love bunny', 'Katie Leese', 'Mariah Rose', 'wendy andrade', 'deepak bidgar', 'Shine B', 'Breana Thompson-guy', 'silvia acevedo', \"Ciegi La'Priest\", 'The Luxury Hybrid', 'Joshua Morris', 'Michal Summers', 'Carla Laza Jane', 'Amanda Ibarra', 'Spencer Chidley', 'lucysoto198931', 'simone sanders', 'Lefty Virginia', 'Makayla Smile', 'Kate S.', 'Thomas Cool', 'Nzanyu Liinyu', 'iampangwen', 'Sig S', 'Shonda Schultz', 'Bianca Kate', 'Arna Alayne', 'Sherilyn Dickerson', 'Lori Testy', 'Danielle Ingerson', 'Nicole Montecalvo', 'Jamie H', 'iram masood', 'Shykiera wheeler Wheeler', 'Aaron Gonzales', 'Stephanie G', 'KaryQeez', 'Macnastyyyy', 'TX Ginger', 'Linda Plouffe', 'Danielle Filkins', 'Ann Cisneros', 'Morgan Elise', 'Bence Godina', 'georgia bond', 'Carol S.', 'Sally J', 'Alexandra Meininger', 'scarlett Blood', 'Sigita Ventyte', 'Lench Gigers', 'Desiree Kimura', 'Nur Hayati', 'Sounds Space', 'sweet0dementian', 'Nyc Butterfly Braids Hair Story Podcast', 'danyy Duaa', 'Denyse Figueroa', 'Nimdicky sherpa', 'Tensi Perez', 'bisma noor', 'Elva McDonald', 'Leysan Kulbarisova', 'Will I am Musiq', 'elina lopez', 'Kellee Takeshita', 'Karelyn Fuentes', 'maria delaney', 'Hayley Sowards', 'Liz Trejo', 'Paige Loudenslager', 'Michael Scott', 'Reina RN', 'Charita Martin', 'Azucena Varin', 'Emma Sorensen', 'Rebecca V', 'Jaylynn Poole', 'AttEase Evie', 'cherrypicked', 'Sonia Martinez', 'Maddie Beckhurst', 'Elizabeth H', '1Guzzy', 'Catrina Morrow', 'Paisley McGee', 'Rhett Graham', 'Veronica Ackley', 'Cinthya Peralta', 'Ashli Smith', 'Sophia Danna', 'Amber Gustafson', 'Jayde Meeks', 'Vam', 'Isabella Larrazabal', 'cry6 baby66', 'Sam Weezer', 'Mariana Collins', 'Jacqueline Yepe', 'Byrd Al', 'Dominique Silva', 'Nhi Huynh', 'Shawn Jones', 'Steene', 'kelkel5169', 'Heda A', 'Lisa Ford', 'Abbey Dvorak', 'Miranda Sokalofsky', 'Ann Nunley', 'Angelica Anguiano', 'Diana Leyva', '꧁Hilda. RG꧂', 'Katy H.', 'Maria G', 'Bunny M', 'Britney Allen', 'bailey mason', 'Cherrie Potter', 'monica matos', 'moodylala123', 'Hansy Pansy', 'Kris', 'Cat TV', 'Febrith Darkstar', 'Tanira begum Shamoly', 'Jennifer LaMonica', 'Aspyn Answeeney', 'Kira Hutchinson', 'MATEO SEBASTIAN GOMEZ ALVAREZ', 'bailee yup', 'Leti Beecroft', 'Deedee Smith', 'Ronniechops', 'Eliska Charlotte W.', 'LittleCaduceus', 'Hey!', 'Beauty&Coffee', 'Junior Barbosa', 'yourmom isa', 'Kelly van der Berg', 'Anastasia S', \"lynn's journey\", 'dgloser', 'Veteranswife', \"It's Maddi\", 'Divya sewa', '᯽Kella᯽', 'Dainy Jose', 'Valentina Lilly', '19hen70', 'I Love SIA', 'moonstrukk', 'Chrisspy', 'Chiquita Palacios', 'CC A', 'stylemewhimsical', 'Bombay Lover', 'BITCH BAD', 'Samra Bendjebbour', 'Wahida Miah', 'Nikcole Santana', 'Noura jk', 'Lil Bitch', 'Makeup by TheTatyana !', 'Sakisunification', 'vania calista', 'Cristina Marie', 'GabiJacke', 'M K', 'Court C', 'sheebalizninan', 'Mel sue', 'Irene Ch', 'johanne cowan', 'Charlie Myers', 'karla işcimen', 'Tay C', 'abcdef ghijkl', 'ann annmare', 'Pérola', 'June Cremeans', 'Cynthia Chapman', 'Emily Rose', 'connor collette', 'Jordan Taylor', 'A1c2b3', 'Cheese Supreme', 'Aubrey Nelson', 'Molly Seymour', 'Lissa Hernandez', 'Gentry Childers', 'Gwen Peterson', 'Val Martínez', 'becca edwards', 'coco04ish', 'Petite Cherie', 'Sydnee Davis', 'Watching For Jesus', 'Brenda hipp', 'Name Here', 'Brooke K.', 'Mercy H', 'j e n n i f e r g a r c i a', 'Lilia Avelar', 'oxnayelixo', 'ADOS Hebrewess', 'AaronP11', 'Jamie Lynn', 'Cassie Hinkley', 'Me Not you', 'Kelz Mo', 'Ava Lynn', 'Shay McArdle', 'Brittney Harper', 'Heidi Martínez', 'Concerned Citizen', 'Alla M', 'Ariette Hung Co', 'Golden Garnet', 'Simply enni', 'nursekds', 'Vanessaa Tobarr', 'Yuut Fhhf', 'marsbars1818', 'Sussie Domingo', 'Angelica Reyes', 'EcSyncTric Life', 'Glaiza Ventanilla', 'Queen Ganja', 'Kakor Godis', 'Laiklyne Gatlin', 'Maddy Faith', 'MAGALI OBREGON', 'Happy', 'sarai salgado', 'Nora L', 'Rúna á Steinamørk', 'Tim', 'czarina hicks', 'Kare Kaus Nicolli', 'Angie Middleton', 'Lisa F', 'Karol Fragoso', 'Karina Cruz', 'Sasha Cool', 'Veronica Zamora', 'Mar Yam', 'Furrymellow Spy', 'carlo', 'Leah Stuart- makeup__by__leah', 'Mary Sing', 'Bea Lucile', 'Victoria Slamovits', 'Breanne Holroyd', 'Maghfiroh Pausa', 'Princess Njoku', 'Amy Lamb', 'G D', 'Angie M', 'Anne Hutch', 'Alina Herrera', 'Chury Guevara', 'Melina Parangoni', 'Sara Louden', 'Shannan Theys', 'Avery Gray', 'Tika X', 'Rol fems', \"Patricia Renee'\", 'Sheri Townsend', 'jennifernordy', 'iaster her', 'Tisha Burton', '1114kristin', 'Heathersama', 'Aliya Snider', 'Elysia M', 'Cass O', 'Day Night', 'Mayjane Gabato Cassell', '1jillianrose', 'Jessica Felice', 'Amber Gillespie', 'Jacinda Carter', 'Mr Bojangle', 'srcoloma', 'Supermer _89', 'Sumaiya Mahmud', 'july2hyy', 'dhanisha khatri', 'Astrid Louise', 'Dilshara koralage', 'Amy Jenkins', 'mariana valenzuela', 'Megan', 'priya mehta', 'Favsunsky', 'tyberlong', 'Gamze Cihan', \"Myri's Vlogs\", 'Paul Grandy', 'Brandi Greene', 'H H', 'i cannot englishi?', 'Julie Reinke', 'Krisley Hilera', 'aisha omar', 'Michelle Toloza', 'Myna Byrd', 'CherishLove', 'Yadira Guajardo', 'Mariam Meite', 'Alejandra Sanchez', 'Kayla Buckner', 'Melinda Leander', 'Jessica Asa-Ailts', 'Ruth McCormick', 'Lakisha Finley', 'Evi Claflin', 'Hobbes Entrikin', 'Kirsten MacDougall', 'Sara Elizabeth', 'Angelica Dzana', 'Bridget Cohn', 'alyssa s', 'q. m.', 'Flickan', 'Jodie Pope', 'Allen wang', 'harlow jean 1975 deymonaz', 'DeAnna Calloway', 'Elizabeth Perez', 'Zoe Quinn', 'Brown Giles', 'Taylor Myers', 'Brianna Hall', 'Liberty Powers', 'Angel of God', 'Deb White', 'Gilly Bean', 'layla bear', 'Lex WeBeefy', 'Lakers_Champs2020', 'Christa Bella', 'Mona Miller', 'alireza sheikhatar', 'missmayhem_ x0x', 'I am Rosslyn TV', 'Estela Queliz', 'Jessy Sea', 'Megan Holland', 'FARSHAD', 'Ederlyn crisanto', 'MysticQueen', 'WithLove L ASMR', 'Courtney Anderson', 'xo havven', 'Sam Wanvig', 'April VS', 'andrea', 'kaneko stokes', 'EMILIA Martineli', 'Maxineee Gutierrez-Evans', 'pracheta arya', 'Erin Brightman', 'Christina Swainbank', 'Abeeha Muhammad', 'RykaStar', 'mah0817', 'maddie ˊᴗˋ', 'Jen Dunn', 'jay Payne', 'Miriam King', 'E 123', 'Céline Hübner', 'Mary Beth Pipes', 'Hannah', 'Melissa G', 'Alessandra Ferla', 'Emmlyne Nelson', 'sandrraa86', 'Stephanie Joseph', 'McKenna Perez', 'josue', 'patrochilles', 'Lorraine Mejias', 'illest gal', 'So Good', 'Brenna Maynard', 'Mia Stef', 'Life of Lyn', 'Bræ_ Bæ', 'AMA Mae', 'Charbonelle Weese', 'Salena Roopram', 'Jessica Evelisse', 'Priscila H.', 'Linsey Montes', 'Teerosa And Co', 'Hala Youssef', 'Prasad Bala', 'belinda destin', 'Southeast by Midwest', 'Nena Zepeda', 'Pink Bell', 'Joanna Alday', 'Ly Phan', 'Jennifer Rivera', 'maryam mohammed', 'nbabombshell', 'nikki narciso', 'Roxy Peña', 'Emily Hernandez', 'Landrine Morin', 'V laloca777', 'lillymarlen3', 'StormWolf', 'Pamela’s Life of Wellness', 'Meriem’s Everyday Kitchen', 'Rashmi Mahjabin', 'Arif', 'iris esp', 'Sillie82', 'Amelia WILKES', 'Rachel Dallman', 'Shannon Johnson', 'Marialena Mekeridou', 'Annabella Warren', 'Mary Turk', 'Heidi Gonzalez', 'all4one1fourall', 'Maria Isabel Gonzalez', \"Kayla Boo's Corner\", 'Nichole Bullock', 'Emily Sanchez', 'Stella Gove', 'Rachael M', 'Maskaatu Saafu', 'Angel b', 'Coco Manzano', 'Kt Q', 'Tineke', 'KajalPandey', 'Afifa rahman', 'Brooke Cassady', 'ladee wesley', 'Shahy Hassan', 'ememstarr37', 'Down Home with the Melton’s', 'Brenda Albright', 'Shelley Lynn', 'libby newman ツ', 'Raghad Mosaed', 'Zhaorongg_', 'Mary Leaf', 'Teodora Gayoso Camacho', 'Stunna2k18', 'Suly Otb', 'Mari Hdz', '0 0', 'Veronique Ramirez', 'kaylynn mae', 'Lizmarie Salas', 'Whit Stone', 'Amy Mcintosh', 'AndreaGalaxyEdits', 'npknittingaddict', 'Michela Scheuerman', 'loves2play1', 'Nya Watson', 'Janette Diaz', 'Elizabeth McKay', 'k h a d i j a h w .', 'Leah Cummins', 'M. L.', 'Roxy Lillard', 'Monique Wilson', 'Shazeda H. Chowdhury', 'Tina Hale', 'Taylor Joseph', '고고유니 gogouni', 'Hello Jesska', 'Marissa Case', 'Shweta Vijay', 'Maria Abutin ✨', 'Sweet Love', 'Savannah Seehawer', 'Katharine Al', 'Julia Whittal', 'Stephanie Roberts', 'Girl On A Planet', 'ChocolateDream Doll', 'Amber Avery', 'Destiny Young', 'Rhonda Thornton', 'Benafsha Shahsamand', 'Terri-Anne King', 'Ashley maher', 'Jasmine Kapuuo', 'Samantha Cregan', 'mommey dearest', 'Tyria Marwens', 'sami bressette', 'Whatever Whatever', 'sharon jacobs', 'FitFatBrittRNY', 'Léa B.', 'E. E.', 'dancediva310', 'Noëlle Rietveld', 'Amund Bentzen', 'Littlebit Lauren', 'Beverly R', 'Tamara Herrera', 'Lisa V', 'Heather Rush Crestol', 'Oumji', 'Leslie T', 'back then', 'Miriam', 'Ashraf Juhi', 'Em Le', 'Gina R', 'jose Ventura', 'weloveruel', 'lscohrs1982', 'Mindy Gallo', 'detsnumber1', 'pc', 'Mayra Alejandra', 'AXEL Sylvian', 'Céline Chat', 'Alexandra Jane', 'renee larsen', 'Kimberley', 'Evangeline Archer', 'Anonymous', 'katarinacro08', 'lizitis', 'Monique S', \"I don't know\", \"Nick's Life on a Budget\", 'Rochana Gopal', 'Gabrielle Bilo', 'Bhumi Kove', 'Naruchu • 56 years ago', 'brownangel926', 'Diane S', 'shauniedee', 'Zahra Mohammed', 'R J', 'Heidi Huiss', 'Emily L', 'Grace Lee Vlog’s', 'Jeanette Ferrer', 'Luanne Santos', 'Bryan Try hard!', 'Violeta Noy', 'Jessica Leah Monroe', 'Beatrix Kiddo', 'ryan.eileen. flores', 'Jessica Wong', 'Edie N.', 'GlammedByEz', 'Liz Martinez', 'Gwendolyn Burns', 'gabby', 'Rachael Horner', 'Lord Douglas', 'Nora Brown', 'Katie Hernández', 'Jana Farhat', 'mariyam dawood', 'looksidewalkpenguin', 'Adria', 'Dawson Carpenter', 'Dazed Ema', 'Lola Bird', 'SCRATCH&SUPPORT YOURGURL', 'Shelby Marbury', 'Dinah Kordei', 'Tammy', 'PatriotForThePlanet', 'lelechim', 'Angel Stephens', 'gabby springer', 'S. Yoshikawa', 'Anna Sin', 'E ZE', 'Wil Nester', 'СЕРГЕЙ H', 'clarisse mizrahi', 'Tablet Tablet', 'Caila K', 'Addie Wood', 'Taline Torossian', 'Amylu Vazquez', 'Jason Mitchell', 'Taylor Ann', 'KurlyKy !', 'Apple Fan', 'T R', 'Skull Queen', 'wellsparker', 'project 2501', 'Elishiva Sharitye', 'JadorecocoTV', 'Minnie Fonder', 'Nicole Elissa - Love Coach', 'Gabriela Xavier', 'Alexandra Baquero', 'Sarah Goldsmith', 'Chibby Kookie97', 'Rym BS', 'Beautiful Queen Wolf', 'Mel B', 'Sherese Jones', 'Jasmine Lové', 'Laila Wilson', 'Alessandra Enright', 'Lesly', 'Paula Grove', 'J. C.R.', 'Serena Fonseca', 'Camm Lynn', 'Dead Account and no more videos', 'Musfirat Hasan', 'Raven Lewis', 'Kortni Hines', 'Paola Plata', 'N o n E x i s t a n t', 'Loni Dament', 'Andrea Carpenter', 'P e a c h y', 'Liviana Blessing Mupanda', 'Towanna', 'Angela Moulton', 'Jimena Tamayo', 'Annette D.', 'Nadia Piatek', 'ana gomez', 'Syl Marie', 'Brooke B', 'msksllsk', 'Roxanne', 'Sabrina Russo', 'Michelle Reyna', 'Rose Dang', 'Koncepcyon Fontenot', 'Karen Beal', 'Gilmour11', 'Rachel Ortega', 'K AA', 'mnelson2008', 'chilope', 'Beauty With Lakshmi', 'Jessica Betenson', 'Holly Latimer', 'Faye Schueler', 'Rosella Pia Picciuto', 'Alyson Plumley', 'Jennifer Leigh Arthur', 'Cristy Moradel', 'Brandy Flora', 'Oh Sweetie', \"I'Yana Layton\", 'All Things Beauty', 'Chevy Brown', 'Elisey Girl', 'Glam Enough', 'Post Cancer Beauty / Candy Jones', 'Kira Faith', '1966 Hillbilly', 'Milagros Carrasquillo', 'Kristen Summers', 'Courtney Pean', 'Jennifer MacAllister', 'Amber S', 'Bee', 'Rosemary Gonzalez', 'savanna rogers', 'Chloe S', 'S F', 'Angela N', 'Waiting2soar13', 'Emma Gillett', 'Noura Gr', 'Noor Sofia Daniel', 'Sally Ma', 'kabita handique', 'JENNY PETIT FRERE', 'Lili Lili', 'Natalia Estrada', 'Chelsea Cheyenne', 'Rosalie van Veen', 'Marissa Janae', 'Taco House', 'Riley Ashley', 'Darianna Diggs', 'Chlxdaisy', 'N B', 'SierrasWorld', 'Vida Hp', 'Lucero Garcia', 'Sheri Morgan', 'Natalie Brown', 'Thomanormal', 'rachel james', 'Johanna', 'Hunter Goins', 'Serena Y', 'Mistina Kinsly', \"I DON'T CARE\", 'Brianna David', 'heavyn gabrielle', 'Anika', 'Ani A.', 'JOANNA JIGA', 'Briana Rios', 'Y,N Jeon', 'Tate Anderson', 'claire cia', 'Priscilla Pixels', 'Allyson Botzum', 'Kween KAY', 'Zana rahman', 'Peanut butter Jelly', 'WilNSteph', 'Sleepy Jones', 'Melissa M Carela D', 'Dash Linggit', 'Collin Jarvis', 'p a e c h', 'Kathryn', 'Punjabi Princess', 'Liliana Guevara', 'Helix Moore', 'Only Lauren', 'Petite Vibrant', 'christina smith', 'Haleigh Davis', 'Brigid Frum', 'Shannon Braun', 'cmedina1330', 'Hanna C', 'Carly Wolfgang', 'Dominiquebeauty', 'luvlost03', 'Jizz Gt', 'Gisele Souza Amorin', 'Maria', 'Litisha Latifah', 'Cloudfart 0.o', 'Bee Joy', 'Brooke Gomez Vlogs', 'Tomi Plume', 'Jan L', 'Angie C.', 'Slime Sounds', 'thiskingbusiness', 'Michelle Sun', 'FYIit ME', 'Jayy P', 'PrincessNyu', 'Heidi', 'Shaye Alyce', 'Madison Marie', 'Sage Beauty Blog', 'DJ JJO', 'Eric Martin', 'Melanie March', 'Beatriz Lazo', 'Esha Puri', 'Mel Rad', 'Bella Diaz', 'moonlightbae', 'Dominick Alegria', 'Tinisha Austin', 'Katelynn Miller', 'The Hamster', 'amhauck', 'Carmz Rey', 'Kelly Bohan', 'Hope Bullard', 'uhavemooface', 'nina nam', 'Michelle Lamirande', 'Luz Marianna 493', 'Layla X', 'Fas 101', 'A Aluak', 'Giant Boy', 'Sundus Ejaz', 'Carmen Chan', 'Angela C', 'Par Reh', 'DC Villar', 'Sydni Amber', 'Cellsansar Mobile and photo studio', 'Avril Julius', 'Lauren Trick', 'Th3lite', 'Roshonda Blackmon', 'Emma', 'b33p', 'Nancy Tremaine', 'Jessica Sneed', 'Damala Kaya', 'Diana Gonzalez', 'Julia Zisman', 'Brandy Yolidio', 'Shailaja Chudasma', 'Gemma Hemens', 'Fray Jay', 'GENESIS BAZA', 'Tiarra Johnson', 'Kim7808', 'Ashli Mathews', 'nomalaura', 'Jerssy Mendez', 'cold hotdog water', 'TropikalBarbie', 'Ela Castellanos', 'Abigail Peña', 'KristyJ -', 'The Life of Being Kaye', \"Paige's of Beauty\", 'Breon Manning', 'Mumhil Naqvi', 'Alicia Harris', 'lia eve', 'Yesenia Valencia', 'The Adkins Edition', 'alexis 10', 'Ashley Prentice', 'Esther Christelle', 'Irene Bernal', 'Porsche Marie', 'freeangie11', 'lessthan_three beauty', 'Paige Henry', 'JAGDEV SINGH', 'Dunn with Kait', 'Brenda Williams', 'DENAYU', 'Gail Hopkins', 'Erika Soriano', 'KEENAMEENA', 'leika ikuma', 'Haley Bobbitt', 'Audrey M', 'Berkah Ikhtiar', 'Marina A', 'Amber Hillier', 'Farm Girl', 'Steph Dickinson', 'Anna Hodges', 'Kristina Sanchez', 'Biby Glam', 'Eliza Bauler', 'Nicole M', 'A loyal yt watcher', 'Zinzi Bam', 'Douglas Aidan', 'Kajal B', 'Alaynna Mimbela', 'Karina Cstorena', 'Ava Simpson', 'chrissy roberts', 'Happy Star', 'Sophie L', 'Sabrina A', 'Isabel Ciavarella', 'Lovely Kei’ona', 'LaNia Markham', 'Jake Wells', 'Claudia Okyere-Fosu', 'Humaira Ali', 'Serena McPherson', 'Mar Lou', 'jamie rose', 'dorito006', 'IcedCupcakes', 'Alicia Thomas', 'Sarah Harbin', 'ildi', 'rochelle cezar', 'A New Kind of Normal', 'creeikuko', 'Michele Condon', 'Ari Adams', 'Shelbee Israel', 'LadyChann Dun Dem Season', 'Llesses A', 'Merna M', 'Lourdes Bogaerts', 'Vitaluv', 'Finest TikToks', 'Madhuparna Ghosh', 'Sara findlay', 'Natalie Ruiz', 'Heather Terry', 'Oh Cool', 'JoM Abbey', 'yona yona', '2020 vision', 'Allie Bens', 'Lorene R.', 'sonia rahman', 'Clickie', 'Preethy Kurian', 'Kamila Rosa', 'Cassandra Ott', 'Emma Maples', 'Kaumadie Wickramasinghe Nugawela', 'Kit Lee', '__ lauriee', 'Rebecca Regina Flecha Braschi', 'Cate the Great !!!!', 'Caffeinated Chickadee', 'Briana Williams', 'Byron Quin', 'Alondra Chavez', 'Mow Angela', 'Rene Knight', 'Em 12344', 'Giselle MorningStar', 'Bigjig2011', 'CurlyBeautyBlogger', 'Alissa R', 'Melinda Huynh', 'MbuL', 'Inga Girard', 'Loyal Jean', 'monica hayashi', \"Ari' J\", 'Leah Quinn', 'Savanna LaVera', 'cami Azevedo', 'Cindy Ramirez', 'M Eggen', 'nefertiti thomas', 'Alexa Botello', 'linda Stevens 777', 'Desi G', 'L L', 'Angie Franklin', 'Nania Franklin', 'Monika Willow Matic', 'Maria Lee', 'Dana Ritter', 'Samii B', 'Realyty22', 'cosmo Beauty', 'Amber Brown', 'amybca333', 'maimaimaired', 'LeoGrrrL13', 'Aiden Winiarski', 'Rita Johanna', 'Veronica Serna', 'My_Fair_Vanity', 'Quadiasia Hayward', 'Patricia Ferri', 'Justine Mark Padro', 'Ajay magar', 'Arif Sanif', 'somethingclever redclover', 'MrsMds', 'Randi Rollins', 'slowrunner40', 'Liana Soares', 'zenaida rodriguez', 'Ayyitstaytay', 'Ya Know', 'TheBeautybound', 'Kelsey Lyn', '👻', 'Brenda Yates', 'Angel chin', 'Avila Avila', 'Fatma Kuşçu', 'Bianca Betancourt', 'london hair', 'Catalyna Music', 'Marquise Steward', 'Jenna LaPerriere', 'Carb Zilla', 'Nurin Syahirah Qistina', 'JAy ROdriguez', 'DJ On The Beat', 'GUS GUY69', 'Nicole F', 'Kristen Berntson', 'Presley Laine', 'Ayasha Choudhury', 'Fiona Wu', 'marbetka k', 'kandie hopp', 'saya parast', 'Tashi Newland', 'Mrs Deale', 'Gloria Sol', 'Yasmin Kennedy', 'SDD Williams34', 'Christine Frizzell', 'Albanelly Herrera', 'NLPhotos86', 'Katelyn B.', 'vybewithari', 'Alicia Moreno', 'Deira Razzaaq Darsono', 'Mya Barahona', 'Sarwath Wahid', 'irina vallejos', 'CHILL FROST', 'Jovannie Tobias', 'Sheena Khanam', 'Bruna Lanna', 'Gabriela Valenzuela', 'terri-ann byrne', 'Stacey Okino', 'Yawmiyat Kaoutar', 'miss b', 'Leanne Elliott', 'Caroline Nakitto', 'Mom_skincare_wine and life', 'Kay Flip', 'Nikola', 'Noemi Gonzalez', 'Eileen Cornell', 'Vee Plopez', 'Olivia Sieminski', 'Brenda Singh', 'JESSICA ROMERO', 'Sweet Heart', 'Ms. April', 'QUEEN KAYREN', 'Ditra Wells', 'Cassandra Cappuccio', 'Diane Rose', 'Erin Fair', 'Katie Byrd', 'ژين S', 'Shay Taliaferro', 'TheophaniaVLOGS', 'Nancy', 'Mrs Rogers', '08 _011', 'Alyssa Jones', 'rztsfyn', 'Gyankosh and current affairs', 'Sarah Lee', 'phil gonzalez', 'Toya Williams', 'Stephanie Horner', 'Windy Eevee', 'Claunet Vida y estilo vlogs', 'Aimee Bailey', 'Cara Howell', 'Hewan Assefa', 'Wagon Wheel', 'Randomness with Maya and Carter', 'Javerin Rabaino', 'Maeghan the Bombshell', 'Jamilah Hendricks', 'Guiles Capacillo', 'Megan R', 'LandInbetween', 'mroper324', 'Nathaniel Gray', 'Elizabeth Garland', 'MZTTYL', 'Boogie-xo!', 'Estee Lauder', 'mohammed asif', 'Gi Thomas', 'Jessie W', 'Amanda McKinney', 'ivi blue20', 'Sabrina Montano', 'Reem5964', 'NaturallyBella', 'That GirlGenesis', 'Kaylin Blue', 'Sidney Cox', 'Taiylor Cobb', 'ochikeron', 'Tammy Ko', 'Katelyn Stewart', 'Georgia Hamilton', 'Jen Jen', 'Dorina Kis', 'XdM', 'Leigh Baker', 'panita k', 'mykie star', 'doritos locos tacos', 'Kassandra Smith', 'Allison M. Allieallday336', 'OMGjeshka', 'helen beijens', 'Deysy Mendez', 'Mina_btw :3', 'Ivanna V', 'Agent koopa', 'Roxie Turner', 'בר מלאכי', 'Yateseblogs', 'Felisa Boston', 'La Luna', 'Vivian King', 'Jess Bertram', 'Amanda Gunn', 'Amy B', 'Preston Morris', 'Ellie Smith', 'Hana Shaikh', 'Kylee Strand', 'Julie Vei', 'ParadoxicallySweet', 'Bridget Mienkowski', 'baarbs', 'AnaMCaro', 'Britt Boppin', 'ArtsySoph', 'TheMCvamp', 'MsStephers', 'Dani District', 'Marcia Mincey', 'Lucrezia Morganti', 'NIHAD SNDI', 'Alicia Williams', 'Linda Reed', 'Ghadah', 'Curly ringlets', 'shadow-enigma', 'Amina Hajdar', 'vinisha shetty', 'Kim Schmidt', 'rose mageed2', 'Art.4.Love.', 'Molly Bruno', 'Sasha-marie Mayo', 'TaSha Ruckman', 'umm umm', 'Vivian Stewart', 'Dot', 'Stina Nina', 'I love James Charles', 'Pauline', 'Laura Sarabia', 'Serina', 'Crystal Ankeny', 'Alexia M', 'Gymnastics Pro', 'Maritza Rosales', 'Princess Madero', 'Reese DePontee', 'Northern Snowbird', 'sara alvarez', 'Cosmic Love', 'Ariel Ryan', 'Manisha Saini', 'salvatore', 'Veronica Baker', 'wolfpacksis2007', 'Mary Jane Donohoe', 'Life Is GRAND', 'Runsontrails', 'Danielle Riley', 'Lindsey Savage', 'Alya zoha', 'susleila •', 'Keyana Smith', 'LEO Whatever!', 'Elaine Duddy', 'Dori’s Stories', 'mountaindewprincess', 'Megan Steinlage', 'Teri Doster', 'Jennifer Diaz Rodriguez', 'Joan Smith', 'Eigroej OtNa', 'csrvegas', 'Denise', 'rainepanda', 'Cooking Creations', 'Christina Willson', 'Jessica Robinson', 'Lady Lecter', 'barbaranotav', 'ki ki', 'Daisy Garcia', 'Sydney #lifestylist', 'Nancy Maschio', 'Jamie D', 'weeziebam', 'Elisa Mendez', 'Betty Montes', 'LadyE100', 'E M', 'Dwan Brooks', 'KAREN YULIETH ORTIZ PERDOMO', 'Anu Joseph', 'PajHuab Ncua Vwj', 'Erlita Novi', 'Mindy Sue', 'Art Lady', 'Akimi Weller', 'Nina Ysabella', 'kira', 'Bmc2011', 'Nikοl. Eta', 'Yeni Rabanal', 'Annie Walker', 'NatNRealLIFE !', 'Edu Oslord', 'Emma Bumann', 'Marisol Illustrates', 'stelapuklin', 'Meg Sand', 'Phoenix Lindseth', 'Anita Isaac', 'nischon', 'Stephanie Cunningham', 'Hanu', 'Lauren Graham', 'Samantha Stitt', 'Makeup_ Mamaxo', 'Chelsea Lemburg', 'Erika R', 'Samantha Grace', 'Afra Khan', 'CLAUDIA ESPINO SANCHEZ', 'Marlyn Ocampo', 'Michael Elijah', '蔡孟凌', 'Terri Baran', 'Tiffany Thompson', 'Alex Arrizon', 'cuenta personal', 'All Things Mo', 'Chelsea Wilmot', 'Paige Zeibert', 'Maiti Riley-Belew', 'HairXtensions.co.uk Direct Ltd', 'monique hage', 'Elizabeth Hernandez', 'CARMEN DANLEY', 'Chica On the Go', 'Kimberly Gregor', 'steph tinsley', 'Lizzy Donovan', 'Elizabeth Hui', 'Syndicate, The Lonely Gun', 'Tamy C', 'Stephanie Chaplinski', 'Brenna Spaulding', 'CoccoSofiaa', 'Azaleah Bumpus-Barnett', 'Chanelle Edwards', 'ashack09', 'Tee Simone', 'TiTT Butt', 'Scarlett Roger', 'Lee3angels', 'AL Presidiuos', 'Frida Ramirez', 'bluesatfire101 z', 'Katherine Miller', 'Mousy Leigh', 'Brooklyn Barnett', 'Deairsee Irons', 'visionsogeurope 1', 'Daniella H.', 'faty kiani', 'Amber C', 'JAGS', 'War Sa', 'Saldana Films', 'Alice Cat', 'Jelena Stanković', 'Marina Machado-Monroy', 'Will’s MM2 UNWILD Vlogs Minecraft Channel', 'Jessica Estrada', 'Ronisha Elizabeth Phillip', 'Aurelio Castaneda', 'Ash Froman', 'Jennifer Reyna', 'Life On A Budget', 'Lisa Austin', '1969Vanessa G', 'OgLilJanice', 'Jessica Barrera', 'Vanessa Lee', 'JOSEPH WOOD', 'alittlekiran', 'TSpaceFullstop', 'Aneta K', 'Baran kağan Elisa Balcı', 'Daisy Beagles', 'Kiera Cook', 'Francie Caroline', 'Tierra Shea', 'Zabrina', '21johnja', 'pamela kitchens', 'Alex Mcvaigh', 'Nessie Torres', 'K Leigh', 'BeautyByNoelia 67', 'VanessaLou Conti', 'Ayan', 'ramonaliza romeo', 'TheDiaz Kids', 'ANGEL xo', 'Annie Liu', 'minmelethuireb2 (Rebekah)', 'Wong Elizabeth', 'Carlyell 92', 'Maggie Schweitzer', 'vix4x41', 'FLORENCE TSEKA', 'Venus The Model', 'Clara Gordon', 'Qonita BadegesTM', 'Karla Colin Gomez', 'Creative Cheers of Fashion Laura Flohr', 'Car Arly', 'Elliot Isaacs', 'M Smith', 'Joe Krause', 'minh Nguyen', 'jerkphobia', 'Heather F', 'Asly Espitia', 'CRANB3RRYJU1CE', 'bundle wade', 'Blaze Amstaff Agility NZ', 'Jen Bardos', \"Don't Worry about it\", 'Jo S', 'vanessa medeiros', 'Bree Edmonds', 'Kristina Marie', 'Abby Stephens', 'Misselle', 'ninki minjaj', 'Paula Laye', 'The spice of life taste it', 'LoveCammi', 'April Garcia14', 'VRS_3300 Vrs_3300', 'nicole johnson', 'Marley Murphy', 'Halie Malicoat', 'chloe d', 'Karen Higuera', 'Jmelody Hanna', 'StelinaJaffee', 'Melissa W Farias', \"Mike and Mari's Life and Beauty\", 'Jessica Burris', 'S M', 'beyondthismortalcanvas', 'Cataleya Pyro', 'allan LPT', 'Sophie Ortega', 'Krystiana Palomar', 'maya gurung', 'Highlight-88', 'Nusrath Hussain', 'marichat _lover', 'Dina Music', 'stephanie camp', 'Faith Liggett', 'Kay Kay', 'Megan Daniels', 'Rhonda Whitt', 'Keshia Murray', 'pup girl', 'Tracey Schneider', 'Annie Kurtz', 'noshin zaman', 'Pilialoha Vrba', 'roxanardh', 'Bertha Tally', 'Laura H', 'Teleisha Thomas', 'Megan Koch', 'Keisha Huet', 'Luxellot', 'Thay Accioly', 'Mind Body Spirit Bliss', 'JY A.', 'Karla May', 'CeCe Forrest', 'Gladys Kennedy', 'Maddie', 'Brian torres', 'Ruth Ann Hewitt', 'alysha gross-troutman', 'Louweezart. H', 'Cannon Powell', 'SquonkeroniMackereloni', 'Koreen King', 'Fit By Dolee', 'Gaby Solis', 'Wake up and Make up with Anna M', 'ShaniaHalliwell', 'Mike Villanueva', 'Monica G', 'Laura Lamb', 'hanh tran', 'Agboola Taiwo', 'Madalyn McArthur', 'saffron fields', 'Brittany Heflin', 'ravit reitman', 'JadeTheExplorer', 'Jeanette Dombroski', 'sushisnowshoes', 'Jean Pierre Cheveroux', 'ToriZee', 'Lisa Stach', 'Donosaur', 'B. Avila', 'CurlsandBeauty82 xxx', 'leelee w', 'Everything Ellie', 'Alissa Ashley', 'Juana Aguilar', 'Peter Corideo', 'Ariana Monique', \"cookie's & coconut cream\", 'marisa alonso', 'Ariel Summer', 'Falecia Samuels', 'goodtobeinmt', 'Jessica Preci', 'Sydnee K', 'lysette2381', 'EviL Buu', 'Courtney Oliver', 'Demi Power', 'ana', 'thatHIPPgirl', 'alligallegos', 'Aurora Bolton', 'Ann Joyce', 'Sian Sian', 'Diana Camacho', 'Lulue', 'Jaimee Vicencio', 'Hey Addles', 'Myra', 'Desi Perkins', 'Pacific coast piper', 'Mariam Diallo', 'K S', 'Lizzy D', 'P Keys', 'log', 'LáMimí Marié', 'Kristina Balinskaite', 'Jesslyn Ballard', 'April Cabral', 'may • 27 years ago', 'Jen Phan', 'allieg', 'Stacey Tejada', 'Chloe Mackay', 'Thais Machado', 'Kristen Ronyak', 'Tanja Zdravkovic', 'Miya Vaughn', 'Vicki Duncan', 'Nancy Diaz805', 'Katya Stachura', 'Auniel kilane', 'John S', 'Kanika Vuthy', 'Awaking Beauty', 'Janice Chang', \"Erin O'Hara\", 'ΕΥΑΓΓΕΛΙΑ ΚΑΛΟΤΥΧΟΥ', 'Julia Chehab', 'Sandy Gonzalez', 'Terri Presley', 'Carly 22', 'Lauren Marie', 'Yamna Mirza', 'Lemon Vate', 'Rose Vlogs', 'SARAH GHALAY', 'Alyssa Sadler', 'Courtney S.', 'Janine Perkins', 'Hannah Bennett', 'Staneisha H', 'Lily Uzunova', 'Cecilia Montejo', 'EMY', 'Alexandra', 'Comment Generator88', 'Krowned One', 'Alexia Foutch', 'Jewel Elizabeth', 'Daiyanna Infante', 'Julian Hernandez', 'Dale Broyles', 'This Is Kassia', 'Tammy Roy', 'Grace Castro', 'redheadgirlygirl7', 'Sophia Miranda', 'Snowkeimakeup', 'Riley Canalejo', 'T Reyes', 'VirginiaGirl 66', 'Abby Burke', 'bonnie lee', 'MandolineMoon', 'StylesByB', 'zuni abbasi', 'eyein ashburn', 'Samantha Walden', 'Moon M', 'Jennifer Badillo', 'Nafisa Islam', 'maria mena', 'lidia rubio', 'Evelyn Guadalupe Rojas', 'CatchYouLaterr', 'Lauren Garcia', 'Amanda Wills', 'lydia prior', 'Haram Fatima', 'Anna Massey', 'Leya Lee', 'Tiffaney', 'LuluBelle220', 'Ashley LoveDancePlay', 'Melissa D', 'Kealy Ny', 'Giselle Ocasio', 'urbvn child', 'Regina Marie Garcia', 'Dany D', 'perth45', 'Corina Salazar.', 'Sergey Ostrikov', 'Charlieroxs13', 'Itz Ashley', 'Karla Rivera', 'LeeAnne Hazel', 'Ann McCubbin', 'nani grogrofor', 'Vannessa Vlogs', 'Imaan Jaffri', 'Ameh', 'Victoria’s makeup box', 'Roselyn samir', 'evelyn frias', 'Charlotte Suarez', 'term cee', 'Starry Mari', 'Shehnaaz Mia', 'Amanda Mills', 'Thatsnotmyname Tingting', 'Gypsy Moon', 'Cristina Gonzalez', 'Vayda Grace', 'Jayda Monae', 'Xavier Siji Paul', 'Yeri Park', 'lisa curtis', 'Brittney Snoddy', 'Ashley Lo', 'Miss Goldie', 'hippotrot123', 'Sonia Lal', 'ChrisLately', 'ABAGAIL MAES', 'Perla Flores', 'Jahhh05', 'Trudi Johnson', 'LASHONDA', 'Robin Fairchild', 'Kim Arnold', 'Annalee Waight', 'Jen S', 'Joe Castiglione', 'Zoriah Neal', 'Freya Humberstone', 'Eri Ker', 'MonaTalisa', 'Beth Mccarthy', 'jnfet', 'Nomige Skincare', 'Nunna B', 'Samantha Sexton', 'Sarah Ibby', 'GlamMariaa', 'qibcakes', 'UnBoxIt with Maureen McD', 'Mommyof 4', 'PanDora Box', 'janelle l', 'JerricaLee', 'Justine Ugarenko', 'Susan Sam', 'Xiaolongbao', 'Serena Wilson', 'Ary Gutierrez', 'Angela Michelle', 'clare Rawlins', 'leigh anne edwards', 'the happy pancake', 'ThatOneWeirdGal', 'Dayana Santillan', 'Danielle Boecking', 'Emily Chicken', 'Melanie', 'kachy2388', 'Jackelyn G.M', 'Jessica.', 'Raymond Raigoza', 'Shamara Hoard', 'NewAge Goddess', 'LIBRIAN Sana', 'Hugh Man', 'beautibyboochi *', 'Zaneta', 'Irene Zharnitsky', 'Carolina Herrera', 'Mari Z', 'Rohima Khatun', 'Business XX', 'Alejandra Sulbaran', 'Jeanette Blake', 'um ok', 'Ashley Tarango', 'Armando Garza', 'wynne chrysilla', 'Hanie Hedayati', 'Tanya Clair', 'kt032', 'boarding711', 'Roxanne Cadelina', 'Laetitia s', 'Shaleema Simpson', 'arianna carrillo', 'Umar Khan', 'Heathers Sparkly Rainbow', 'J3nnif3r L', 'Shirley Hidalgo', 'Just Julie', 'Naomi Gamiz', 'Sandi Mann', 'Debra O', 'iam daniii', 'Karleen Kincaid', 'Henna Sahota', 'Nat Kuhn', 'Tati', 'Stephanie Caparrós', 'Limbos World', 'Miriam Sheikhmamondi', 'Bela Zia', 'Analiah Gaspard', 'chel chel', 'Sanskriti Sharma', 'Riyandita Mandari', 'Alan Castle', 'sarahjulie ibasco', 'Chantell Rodriguez', 'WRAPEDINSILK', 'Helene 06', 'Regina YouTube', 'Berfin Salman', 'Laura Perez', 'Franco S. Cardozo', 'sam Malik', 'Ioanna Polizos', 'Natasha Pullin', 'Life As Jas', 'Jessica A', 'Mandana Egan', 'Jennifer Waupoose', 'Lara Mijatov', 'andrea_20306', 'Happiness forever', 'Brittney Jewell', 'Heather Duncan', 'Brittany Bohorquez Buele', 'cinnamon girl 🌙🖤🔮', \"Hi'ilani Gutierrez\", 'Dick Stephanchick', 'Litza M. González', 'Anabelle Dao', 'Desiree Torres', 'zoiababy', 'Irlanda Sandoval', 'Rocio Rivera', 'Fee Williams', 'Lonely Hot Pocket', 'no name', 'Cristina Hinckley', 'Lucky Wong', 'Beatrice S', 'Luciana Pagano', 'Danielle Crosser', 'Marissa J Lewis', 'D Sarg', 'Itzz Me Ilene', 'Douglas Flores', 'Dulce Vida Hernandez', 'Stephanie Hilliard', 'Colleen Hart', 'cntrygal2007', 'Steffi Remorca', 'A A', 'gapeach14', 'Cindie213 Mya213', 'Emma Vaughan', 'destineee Wong', 'Jacqueline M', 'janqjin', 'Pragati Ramani', 'That Kro Kro Bird', 'Hannah B', 'Katherine Karen', 'shahid Ch', 'alyssa jerry', 'Marlene Gonzalez', 'Kathy Castrejon', 'Heidi Wilson', 'Dina A.', 'Fanfan Lin', 'devan penza', 'Tasha Goode', 'Vy Nguyen', 'Shelby Austin', 'Isabel Cristina', 'John Mark Tejoso', 'Linda Solorio', 'Maria Antoniette', 'Sophie Meow', 'Wendy Rucker', 'It’s Laila', 'Hali', 'Bobbie Jo Ashton', 'Heather Valenzuela', 'Justyna Ju', 'Karen Sanz-Rod', 'Makeup By zo', 'Uz Archille', 'Melina Olivas', 'Melissa Woodward', 'tyra chun', 'F M', 'Carter Sams', 'ki0k0', \"Ja'Miyah Adams\", 'Michele Flores', 'Dafne Kelley', 'Sarita Hsa', 'xoaitana', 'Trina Kae Renfroe', 'Elena Luna', 'Leslie Dion', 'Middle_Aged_Maven', 'Sakura Mobile Partnerships', \"Jin's forehead is almost as talented as him\", 'Kathy McCoy', 'muchumoja', 'Megan Webb', 'Tambi Masom', 'Juddyth fun Corner', 'Daim Chughtai', 'natcaren', 'lolergirl82', 'Lily Hoppe', 'Sina C', 'Lily Anderson', 'Kayla', 'Vanessa Guzman', 'Daniela Rivera', 'nomigoesrawr', 'Miu Miu', 'Joel Leach', 'Tiffany Schindler', 'Molly Coleman', 'Charley-Jade Pope', 'Claudia', 'E p i h a c x n y', 'EmmaRhonda Wilson', 'Youtubyfien', 'Zainatola', 'hoyjustine', 'Mikaela', 'Jenny Lux', 'Alexis Zinkovitch-Helu', \"Claire O'Neill\", 'Mayra Meraz', 'Piper Lytton', 'Colette McCullough', 'Michelle Gallegos', 'Ashley Baker', 'Ashley Sosa', 'Jurate Z', 'Ariel Bustos', 'Joselyn Jimenez', 'Ami Melaine', 'rechelle ivy', 'Katy McGuire', 'Veronique Desean', 'Witchy Wiccan', 'orilocs', 'Nadia Nowakowska', 'Chris Navarro', 'Jenna Taylor', 'Jodi B Tygrest', 'itsmykieee', 'Madison Lowden', 'Roshini K', 'Sara Marie', 'Jessica Turpin', 'Jiro Kyoka', 'Yenixa Galvez', 'Morgan Morton', 'Samantha Allen', 'Manuel Carrillo', 'Eva R. Martin', 'Gunnar Berli', 'BIG BIG LONG LONG', 'ForeverRia101', 'Jade Grozen', 'ladybug2313', 'MINIMALish', 'Eva Melton', 'Noor Ul Ain', 'Shehnaaz', 'Robin Howard', 'Zahra Nabeel', 'Konnor Carley', 'Lupe Gonzalez', 'Lola Brooklyn', 'Janet Cowan', 'Sherri Baker', 'cassidykal', 'Emma McClain', 'Norma Castillo', 'Allison', 'Nathalie Royce', 'sw290272', 'A Chil', 'Bonnie Jeremy', 'Winny Been', 'sadusei', 'naocojp', 'Johanna Perez', 'Sienna Amodeo', 'Megs Ruffing', 'coline pollock', 'D Jones', 'ladieessence', 'Pamela Dandley', 'Madeline Vega', 'Sophia Minor', 'M Ramirez', 'Sara Buckley', 'NC85 ann', 'Kiki Drum Bento', 'Lily Trinh', 'Andi Marus', 'Yolut x', 'Linda Anderson', 'J. P.', 'Sarah Doros', 'Daniella G', 'Charli Majdecki', 'Cierah Salazar', 'ashleyd27', 'Maja Dimitrijevic', 'Kate Weinstein', 'Sabihah Kauser', 'NilaaaMejia Vlogs', 'V V', 'Myst Pryss', 'Shannon O', 'gen jimenez', 'Erica Camarena', 'milikoshki', 'Sweetestdrug Foryou', 'Alexia Mariel Tan', 'pamela vega', 'Patricia Dietrich', 'Angelina', 'Andrea', 'Carpet Cleaning Guy', 'mena955', 'steph. j.g', 'Hawa Mansaray', 'Inoffensive Name', 'krystaaaalkay', 'Desiree Gonzalez', 'zhane cervantes', 'Jonni Caldwell', 'Jaeni29 _', 'Carrie St. MUA', 'mayra plascencia', 'Arianny Mercedes', 'Noe Ramos', 'Maribella Rami', 'Leigh Harwood', 'b h', 'Trinaaaax', 'Yola Yolie', 'Liz Jacqu', 'Tati Rodriguez', 'lilliana reyes', 'Rachel Fajardo', 'Colten Gray', 'mollyjane01', 'Estefania Smee', 'Catherine C', 'Anika A', 'Nadine Smith', \"It'sMeHim SOA\", 'Rhonda Williams', '626 SGV Shotgun', 'monawar shah abrar', 'Siobhain Roche', 'Diamonds Diamonds', 'koko johl', 'D Lightz1', 'bullsfix6', 'Tai W', 'Michelle Hoang', 'April', 'Tatosh Poghosyan', 'Zviad Buadze', 'Haii People', 'The Glow By Lo', 'desiree leighton', 'Anu', 'Nonomous', 'Liz C.', 'HTownChick09', 'Libia Malvido', 'Prince funny', 'Andrea Palomares', 'Sami Motaghedi', 'Tasnim Islam', '77svilla', 'Idkwhat thisis', 'galaxy wolves', 'Jillian Piering', 'Kayla Lamouche', 'Buggy Lynn', 'Donna Rose Spiro', 'Jay James', 'rebecca', 'Samaher Ha', 'Laura Valverde', 'shelby bates', 'Amber Mcguire', 'Kris Miranda', 'Maria Rose', 'Blanca', 'Beth Lovett', 'M a m a z a b a b e 6 1', 'Krishna Gupta', 'Anastasia Wortham', 'Emily Ritter', 'Mia Hernandez', 'Stacey Robertson', 'White Alliance', 'MarieKhris8', 'MR. R', 'Joshua de la Paz', 'Giselle Torres, Esquire', 'Deanna Sanchez', 'Nia Whitaker', 'Valerie Williams', 'Kuttiesmith03', 'Cindy Gutierrez', 'SilentAnonymity', 'Cicelia Therawan', 'Lavonne Hester', 'Chloe Lydia', 'Scitechk', 'Vanessa A', 'Guy Bernard', 'Olena Semenova', 'Dayzha llewellyn', 'Veronica Velasco', 'karlie Jacqueline', 'Yvette Cardenas', 'Brandy B', 'Rebecca Higgins', 'Sabrina AnnMarie', 'klaud hennessy', 'kkwavey cay', 'Crystal Chiquito', 'Brittany Davis', 'terrarium', 'Sam', 'Emma Collins', 'Μαρια Λιανου', 'Satisfying Asmr', 'hrdillon1980', 'Morgan snyder-adams', 'Alyssa Alli', 'ninoosh', 'KOREEN B', 'Simply J', 'TaD D', 'Shawn Irene', 'Caroline Weil', 'melody claghorn', 'R 0291', 'knbdv13', 'Berenice 87', 'Maya Papaya', 'chris mireles', 'Tiana Senn', 'Luisa Massey', 'fannymack', 'Aleah Eileen', 'Oliver Reynolds', 'Co Duss', 'ManriqueGaby', 'Veronica dos Santos Domingues', 'Alliera M.', 'Ani Pinachyan', 'NAT TOUCH', 'zaira gonzalez', 'pvige s', 'Farida Nur', 'Queen of Blending', 'Claudia Concha', 'Miranda A', 'VIBE Creation', 'Temi Tope Adebayo', 'Kristine Keers', 'Natalia F.', 'G M. Sanchez', 'larltm23', 'Kuljeet Pannu', 'angeland', '🌫️', 'Nicole Roberts', 'Cindy Suarez', 'Priya S', 'patin319', 'Arianna Haverly', 'seoul sistahhh', 'Siobhan Lee', 'Emely Balbuena', 'Kristine S.', 'Carolyn Monte', 'theluxeplanner', 'Saoirse Kennah', 'Crys Michele', 'AnaCelia', 'GachaSquad U-U', 'Shonte Nacole', 'Ashley Henson', 'Zoila Lulu', 'Diyana Tesfagabir', 'LindasPerspective', 'Sajia Hanif', 'Miles is Garcia', 'Laura Lehoux', 'Divya Rao', 'Amanda Blum', 'D3ad} H3art*', 'It’s missnursehorton', 'Juliet Broadway', 'Simply Smith', 'Dere Aela', 'hdb80', 'علياء بدر', 'Alyssa Chiappe', 'Louisa Kristina', 'Rodney Pereira', 'alyssa Dee', 'Rachel Gierak', 'Scarlet Black', 'Alyssa Miller', 'Purple Peggy', 'Kay Harris', 'MathandMakeup', 'Josie Beckmann', 'bunmei06', 'Valeria', 'Blair Vo-le', 'betzabe pozuelos', '¡Arabella L!', 'Jocy Leon', 'Abigail Fuentes', 'Tatiana Angel', 'Maddie Sutton', 'Yuridia Cabrera', 'Devin and Mandie Moore', 'jchai20', 'LaurenAsh', 'Qinfei Liu', 'donnatrocks', 'Anissa Azzouz', 'Katey Rizentale', 'Mallory Mcmahon', 'Brigit Louella', 'jacquline theis', 'Ervin Mujkic', 'Matti Y.', 'Robyn', 'Chelsea Lung', 'Javeria Irum', 'LoriWatt', 'Slayy Mary', 'Noom Lao', 'Teine Hunkin', 'tlcarr08', 'Bianca Alvarado', 'Hansn Jsjsjs', 'Courtney Wolfe', 'Amanda K', 'Lilly V Gutierrez', 'Nora Mineo', 'Kayla chum', 'Cute Classy', 'Krish Krish', 'amanda castillo', 'Ms oddballz', 'The Fisayo', 'Ashley Hudson', 'Angela Hill', 'Lyric Taylor', 'Tara Brooke', 'Danielle Nicole Beyer', 'Amber Spade', 'Mary Goldstein', 'Ellie Weiss', 'Posh', 'Briana Schino', 'litaki', 'Van K', 'armani fossie', 'MrMrsaranda', 'Daliena Dal', 'Fyvon ong', 'AsianPapita', 'Israr Khan', 'John 3:17', 'Claudia Bidoia', 'JB B', 'Linborghini', 'Vanessa Tena', 'Chula Balbas', 'Nancy Arce', 'Karol Blizzard', 'Janna', 'Ana Dias', 'Idalia Magana', 'Adam Rushton', 'Courtney Mullins', 'Sugar Mcdoodles', 'Laura Nolasco', 'Janet Plowden', 'Joel Prainha', 'sthembile', 'josh 2732', 'Audrey stamm', 'Marianthi Malami', 'Ludmila Baciu', 'Desiray Layton', 'hawaa', 'Ewannka Nowak', 'Kristyn Jones', 'Ashley Potier', 'Julie Marie', 'Léonie Gáva', 'Stylez By Shanii B.', 'Kristen Nguyen', 'daisy mosquera', 'Vanessa L', 'stefany layata', 'T&J watch us play', 'Ray', 'Leaping lily', 'Ashley Tolbert', 'slytherqueen_snape 137', 'Heather Wohl', 'emmy', 'Sophia Iskander', 'Alastor', 'Wardah Rahman', 'Amy Winehouse', 'Brenda Dawson', 'Eboni Murphy', 'Stelauren Media', 'Kiera Watts', 'lindsey Smith', 'Danielle James', 'Leanne Laney', 'maly h', 'Gumi', 'Justice bratz', 'Princess Patriot', 'Vanessa Perez', 'lexican foreigner', 'Maharani Priantini', 'Ana Laura', 'Teresa Mcmillian', 'Hello World', 'Lady Di', 'livesupergirl', 'Prabhleen Parmar', 'Cassandra Rose', 'Kimberly Hudson', 'Heavy Metal Kendra', 'Abigail Weber', 'Jamie Maillette', 'Jamie Huynh', 'S. J.', 'Ironell Rodriguez', 'Sweet Girl', 'Diann Larry', 'Bianca Nieves', 'nimra arain', 'Berenice Martinez', 'Maison de Châtillon', 'Lexi Spensley', 'shopblushbeauty', 'Veronica Norene', \"Nicky's Art Channel\", 'Lexii J', 'STARSHIP Creative Network', 'Alejandra Angarita', 'ItsMeJenniferLee', 'Renee Toler', 'Yes Paris', '**', 'Halo2glitchlover22', 'Kate Murphy', 'Carla San Martín', 'Isabel Cimino', 'sharon lewis', 'Faces On TV', 'Lydia Williams', 'Brianne Jaexo', 'Gio Marrocco', '·Purple Galaxy·', 'Chelae Diggs', 'Emily Ianniciello', 'Rivero Family', 'Jacky Neufeld', 'Amily Kolomoisky', 'Brittany Zahara Davalos', 'Claire Ho', 'Violette Luv', 'Ana Duarte', 'jennie', 'kristyn young', 'Sabrina Bouca', 'phloxyloxy', 'Rina Concepcion', 'Lina Henriquez', 'Alicia Reynolds', 'G gurl Brown', 'Janelle Alzate', 'Allnaturality4ac', 'Syaza Nany', 'Marcus Penney', 'Shelby Webb Simmons', 'captainbao', 'Julien Sandoval', 'Stephanie Crespo', 'kainath khaiser', 'Jessica Rabbit', 'Raelina Campos', 'MOR ITZHAK', 'sontzi', 'Fargol Jenabieh', 'Tiara Goshien', 'Feya Zamora', 'Affirmation Queen', 'Emma Rodgers', 'Emmy Loo', 'Alexa Pugh', 'Cherylb1113', 'Kaitlin Nichols', 'Erika Smith', 'Rosie Sree', '4everlovable', 'BeautyFam& AllThatGlam', 'Nas Nas', 'MJ Oliver', 'Marisol Duran', 'Prim Moyo', 'Shelbi Higginbotham', 'Julia_enjoys', 'shani hansamali', 'Ashley Quam', 'No Name', 'en _', 'jellybane411', 'Ashlynn Block', 'Rubi Benavides', 'Kara Soholt', 'Leesa Warshauer', 'Rehana Pirani', 'Paige Sword', 'Arely Martinez', 'Leilani Perez', 'Angie B', 'Shaden Almomani', 'Shawna Stahl', 'Irene Vitali', 'Nikole P', 'Raven Richardson', 'Ériróna Lee', 'eric nicole tapp', 'B Buendia', 'Graceanna Petty', 'sheccabaw', 'Beklyn', 'cecilia conde', 'The Mesha Brand', 'Princess Yin', 'Isabelle Hughes', 'Connie Werner', 'Rainy Summer', 'Logan Gamer', 'AlondraaT', 'Surviving FibroMyWhat', 'MsPinkFrosted', 'Bee B', 'maham shaikh', 'Erika C.', 'chelsia matej', 'Nicole Green', 'Paige Mann', 'lilacshine9', 'lynsey carrier', 'Claudia E', 'Bee Gerardino', 'S K', 'Angie H', 'Isabella carlee vidal', 'Shaaanxo', 'Hanh Dao', 'Nancy Davis', 'LaQuanda Baker', 'Catherine Morris', 'x positivevibesonly x', 'Angie Martinez', 'Zaynab RG', 'bricel perez', 'Dana Zahabi', 'Graced with Beauty', 'f5371p', 'Trisha Stites', 'Ss Cx', 'Jennifer Church', 'Jennifer L', 'Kenza baifouh', 'Chuck Michael', 'Rachel Kelly', 'Jeremiah Owens', 'Patrice grissam', 'Fabiana Rivas', 'mackenzie watson', 'Loryann Hernandez', 'Joeli Jolie', 'Moksha R', 'Jaine Yu Hilliard', 'Kimberly Nelson', 'Houlda Kinvuidi', 'Lelitza Ford', 'Alex Kortscheff', 'Virginia Flores', 'Ileana', 'Vee B.', 'Glitter Glamour', 'Cute.vibes.besties !!!', 'Help The Homeless!', 'Amore Love', 'glory Apo', 'jess jesse', 'Ella Lewis', 'Sen Cast', 'Yar SO', 'Kitzia Acuna', 'Lil Sunn', 'millieb', 'Expand Beauty', 'Makeup Junkie', 'Cyra de Silva', 'Linea Munk Petersen', 'Lisa Hall', 'Belkees Ahmed', 'kiwifruit138', 'myungsook yu', 'Briggett Mumphrey', 'AnneLindsey1', 'Cherry Bomb', 'Deb Machin', 'Hengameh salma', 'Shay Christensen', 'Tasha M. Santiago-Rodriguez', 'Bree The Simly', 'Rebeca Hills', 'Emily Stevens', 'joshua mendiola', 'Khadeeja Muneeb', 'TheOfficialTyraRenee', 'Ina Thompson', 'Tessa Van Parys', 'Jo Mobley', 'Tash Velez', 'Khadija Tul Kobra', \"Hey It's Dom!\", 'heidip613', 'Aliyah M', 'Panda Lenses', 'itireleng niyad zaltana chikyu bodibe', 'Julie Bilodeau', 'Elei Villegas', 'ashleyatkinson', 'Suzy Hall', 'Parastu Basaran', 'Diamond Phelts', 'Miss GIJoe', 'mary dwyer', 'spicy1ize', 'Caitlin Cole', 'priddysillygirls', 'BAM 24', 'Grecia Ortiz', 'Robbah99', 'Mini T', 'HeyyChi', 'Gabrielle Chugg', 'Nechi', 'Elisabeth', 'Tea Sisters', 'kathy DeMara', 'Jordan', 'Smaccdatelii GoLooney', 'Ale Mendoza', 'PinkJG619', 'Faith Lemtur', 'Erin Foster', 'mary merkaj', 'Steven Moffett', 'Cate S', 'Milon Ghosh', 'Carine Cadet', 'Malia Perkins', 'Andriya Nugera', 'FoodSTOP //', 'BooitsJasper', 'IshaMoy Williams', 'Shifa Shahzad', 'Nansi', 'Gabriela Maldonado', 'Iqra Javaid', 'Honey Colonna Covers', 'Lautaro Riveros', 'dahliaa7892 corrine', 'Talita Allam', 'constanca ezequiel', 'Ashlee Pawelczyk', 'Bass BassMilam', 'KBellaBeauty', 'Mehereen Chowdhury', 'Bag me a bargain', 'Tweet2742 timmy1', 'PureDoe', 'Egg Sausage', 'Herlie Kim', 'Sariyah Moorehead', 'Trinidad Sinogo', 'Michael Jackson', 'Akemiko', 'Dαɾk Kíss', 'Charli McNeal', 'Alina Ferrell', 'Lia Moreau', 'dimitra akon', 'Natalie El-Zayat', 'La Niña Del Norte', 'Lisa Piercy', 'Lark', 'Edd 07', 'ashley laughter', 'the13corinne', 'Mara Mignon', 'raaay celina', 'Charizze Abellanosa', 'abby grace', '90 s Brat', 'diasyang', 'julieta martinez', 'Crazy Teen Vlogs', 'Helana betsaberh Solano Carrera', 'Jess Dierfield', 'MARIA PIA GIAMBRUNO', 'Sarah Jaworski', 'Vane Lerma', 'Jessica Santana', 'lacuna', 'beteenz x', 'Just Brooklyn', 'ThuggyMacho', 'Siham Abdi', 'Danielle Malles', 'Frainy Gutierrez', 'Trina Moitra', 'Ruby Munoz', 'teo', 'Minori Ruba', 'Lewis P', 'Piyumi Esselle', 'Leila Moss', 'Leona Lepcha', 'Jennifer Mayberry', 'Demetra Hornbuckle', 'Sayed Mohammed Rafi', 'Ashberg', 'sarai diaz', 'Linny D', 'Angie Díaz', 'Rachel Taylor', 'Janet Gron', 'Mona Peterson', 'Tia', 'shabfokeera mua', 'Fathima Farahna', 'Jamie Plunkett', 'Agatha Soares', 'KHADYAJAH J', 'Catherine Tames', 'Linde Lois Smit', 'Emily Babunovic', 'Melissa Arose', 'We Are Legion', 'Evelyn c L', 'Pilar Guerrero', 'Elizabeth Conley', 'Maya Alwail', 'Priya Roy', 'Kassandre Casimir', 'Sofia Thomopoulou Make up artist', 'Joshua Jacob', 'Meredith Elizabeth', 'Audrey Chihara', 'Monica Stoqnova', 'Hosne Ara Begum', 'Yzabel Braun', 'Fabyana Oro', \"Li' Momma\", 'Luzmila Hernandez', 'Oblivion', 'Priyanka Ali', 'HIROKI TRAVELS', 'E Stewart', 'Richelle Jose', 'Rebecca Van', 'Therese sends roses', 'Jenny Rivera', 'Kieu Tran', 'Michelle Bocanegra', 'Jay Skelley', 'Rachna Arora', 'Qa’Maria D’Shay', 'Tam Pham', 'SP', 'Janna Jones', 'Jill Dinius', 'Nicole Hubbell', 'anonymous', 'Kimberly Smith', 'ADILENE AMBRIZ', 'sarasallam78', 'Chrys T', 'Cmeyering1', 'R Sh', 'Authentic Mars', 'Michelle M', 'Essence B', 'Kendra Coleman', \"Izzy's Got the Frizzies\", 'greenorangeviolet', 'sofi and chiquitin gomez', 'Amanda Webb', 'Silvia Munguia', 'Inez Perez', 'Denise Marie', 'arri wynter', 'Style Moments', 'Besa Shaqiri', 'p.Tanishka Namdev', 'Christina Maclang', 'Andrea Montes', 'Olivia Black', 'Hey Trini', 'Cassie G Films', 'Ishtar Oshún', 'DANYELL', 'Janelle Focht', 'Adrianna Gonzalez', 'Chloe Kallaos', 'Mariah Batres', 'Andrea Martinez', 'Lindsey Wilson', 'Girl Team Tv Vlogs', 'Kimberly Brown', 'Victoria Mader', 'Kristine Yang', 'Miranda Hall', 'Karma Kauffman', 'Sharmin Jahan', 'Shevannie Nicole', 'Teresa frontz', 'Jenny Gross', 'amateur creatives', 'NLanigan1', 'Spicy mami', 'Sleez Boy', 'Ale 01', 'K N', 'hannah urriza', 'Robin Mcclain', 'DejaTianaVlogs', 'Ayana Nguyen', 'Christine Dizon-Manansala', 'yucky pup', 'Dev C', 'nner', 'Ariana Centeno', 'nimnim H', 'Jeanie Wooten', 'Jane Cory', 'Lady_V_Royalty _1', 'Canal Leidi Rocha', 'Trish F', 'Linda Shanks', 'Robina Seddiq', 'Holly Henderson', 'Deju De Cruz', 'Sammy BeGood', 'Kendall Rotar', 'suhad alnoor', 'Mahardhika Muslich', 'Dyna Zatty', 'Selena Lambert', 'Monique Castello', 'hey_chelleigh', 'Lyla Susy', 'Illtis illtis', 'Dave K', 'Kerstine Vergara', 'Ruth Raye', 'MuSIc CoVErs', 'Giorgia Brotto', 'Bonnie Rodriguez', 'Maci Miller', 'Lisa', 'Scribbling Pudding', 'Agala Precious', 'F Red', 'Willow', 'Lorene Daniel', 'Jenn B', 'lola d', 'THE JRO', 'jessica morera', 'Emily Powers', 'Cynthia Kraay', 'Jaclyn Kovach', 'Amanda Peterson', 'Kayle Dawson', 'Ghizou Ghazal', 'Magicalmom 2013', 'taylorsmom14', 'Suse Santos', 'Linda Walsh', 'Samantha J Radosevich', 'Sarah Fox', 'Nic', 'Love Love', 'Harshitha', 'Lydiadoesstuff', '-tae miso-', 'Anna BlahBlah', 'Cupid Gray', 'Jinx Abbott-Kilpatrick', 'AU RA', 'Nelly Boo', 'Amara Woolery', 'Hiba Shahid', 'Natasha C. Boorom', 'Neelam Kinger', 'Loner Lovebytes', 'Caro Lin', 'Ericamma', 'sunfloweralkh', 'Florentine Selimi', 'Cait', 'Samantha A', 'Shanty Martis', 'CJ', 'Nekea Valentine', 'jadyn lane', 'gottahaveshades', 'areulivingthelife', 'KingRashid57 !!!', 'Mari Zamudio', 'Deondra Harder', 'Mascara to Midnight', 'nicolle aquije', 'brooklyn', 'Racharina B.', 'BeSAN', 'Prisc Cordero', \"Sarah's Silhouettes\", 'Lupin', 'Elaine Obando', 'Maria Juarez', 'FURTALK', 'Ryan and Caroline', 'knics33', 'Majeeda Green', 'Ava Chamberlain', 'katerinafle', 'Dolan Twins Editzzz', 'Theresia B', 'Bobbi Kumari', 'Windy Zheng', 'Amanda Reis', 'Noah 123', 'Lauren Ramos', 'Tes s', 'Pauline Hubbard', 'Jennifer Walsh', 'Ally Barclay', 'Sam Harper', 'Emma Frodl', 'Teri Montgomery', 'astalindaplease', 'Myjana Chen-Ough', 'Samantha Chua', 'Hanan Elsayed', 'TERESA HUFF', 'Prisca Love', 'Summer Breeze', 'Mathilde Ingemann', 'Isabella', 'Shayla P', 'nickj12', 'H. L.', 'Emilia Reiñanco', 'Karen Chi', 'Gamer Girl', 'briahcarter23', 'McKenzie Elisha Moore', 'Sydney Marie', 'Rebeca Barrios', 'Shea Cox', 'Aerusha Jenall', 'mika 264', 'Shaelyn R', 'Carmen Lucila Flores Guerrero', 'LYRIXX U OFF', 'Cynthia Pena', 'Kimani K.', 'citlali villegas', 'Sara Mofford', 'Dominique XOXO', 'Laced WithLacey', 'Liz Cencula', 'Sakiba Sauda', 'butterflysugarbby', 'Simmergame123', 'Sarah Welstead', 'KKasp2018', '최모험', 'j rene', 'Einavi A', 'Lynn Ball', 'csayum m', 'Mansi Kayam', 'Jas L.H.', 'Natur Flex Sato', 'Look Good & Feel Good DollyCruz', 'Danayla Duran', 'Rawaya Zi', 'Wendy S.', 'Bear 9', 'Michelle Reynoso', 'Mia Kwon', 'ashley rupert', 'Raven Bassett', 'Anabel V', 'Jasmine', 'Michelle Potchak', 'Elizabeth Gonzalez', 'nadine amanta', 'Daina Fuller', 'Sindy Tineo', 'Jamileth Pena', 'John Warner', 'ioanna _agg', 'Shiela Mae Soriano', 'Kianna B', 'Julia Prajapati', 'eelooiisee', 'Emily Lowe', 'Tatiana Kuzmin', 'Adriane Smith', 'S Frank', 'Chichi Ada', 'Jovana Kocić', 'Kira Xo', 'Carly Smith', 'Courtney', 'Adriana López', 'HelloSaguaro', 'Amber Lema', 'Erin Soward', 'Vanessa Garibay', 'Khun Sereisopor', 'kirstie wilson', 'Diamonds R4ever', 'Eszter Szatmári', 'Kirigaya Misaki', 'Jenny Stoeffler', 'Summer Soul', 'omg wth', 'Riri Van Den Berg', 'SHAKHZODA RAKHMATJONOVA', 'Megan Goodhart', 'Gail Gale', 'Rachel Aranda', 'Alexis F', 'Mary Duff', 'Princess Fiona', 'Marissa G.', 'Annette Puccio', 'christopher james', 'A P', 'Riana Sage', 'SR', 'Sam Sid', 'Madison Pettway', 'B Sz', 'A V', 'Deidra P', 'Monique Stearns', 'Katie Garrison', 'Maggie P']\n"
     ]
    }
   ],
   "source": [
    "isolates = list(nx.isolates(first_graph))\n",
    "print(isolates)\n",
    "np.save('analysis/positive/isolates.npy',isolates)\n",
    "df_metrics_values_rows.append(('Number of isolates',len(isolates)))"
   ]
  },
  {
   "cell_type": "markdown",
   "metadata": {},
   "source": [
    "# Connettività"
   ]
  },
  {
   "cell_type": "code",
   "execution_count": 65,
   "metadata": {},
   "outputs": [
    {
     "name": "stdout",
     "output_type": "stream",
     "text": [
      "The network is not connected.\n",
      "There are 4434 components.\n"
     ]
    }
   ],
   "source": [
    "print(\"The network is {}.\".format(\"connected\" if nx.is_connected(first_graph) else \"not connected\"))\n",
    "n_components = nx.number_connected_components(first_graph)\n",
    "print(\"There are {} components.\".format(n_components))\n",
    "df_metrics_values_rows.append(('Number of connected components',n_components))"
   ]
  },
  {
   "cell_type": "code",
   "execution_count": 66,
   "metadata": {},
   "outputs": [],
   "source": [
    "connected_components = []\n",
    "for component in nx.connected_components(first_graph):\n",
    "    connected_components.append(component)\n",
    "np.save('analysis/positive/connected_components.npy',connected_components)"
   ]
  },
  {
   "cell_type": "markdown",
   "metadata": {},
   "source": [
    "## Studio della giant component"
   ]
  },
  {
   "cell_type": "code",
   "execution_count": 67,
   "metadata": {},
   "outputs": [],
   "source": [
    "giant_component = max([(first_graph.subgraph(c).copy(),first_graph.subgraph(c).copy().order()) for c in nx.connected_components(first_graph)],key = lambda x:x[1])\n",
    "giant_component=giant_component[0]"
   ]
  },
  {
   "cell_type": "code",
   "execution_count": 68,
   "metadata": {},
   "outputs": [
    {
     "name": "stdout",
     "output_type": "stream",
     "text": [
      "Average degree:\t\t52.628482972136226\n",
      "Density:\t\t0.0090535838589603\n",
      "Standard deviation:\t34.638492568131035\n",
      "Median:\t\t\t48.0\n",
      "Minimum:\t\t2\n",
      "Maximum:\t\t250\n"
     ]
    }
   ],
   "source": [
    "giant_degrees_dict = dict(giant_component.degree()).values()\n",
    "giant_degrees_list = list(giant_degrees_dict)\n",
    "giant_density = nx.density(giant_component)\n",
    "giant_avg_degree = np.mean(giant_degrees_list)\n",
    "giant_std_dev =np.std(giant_degrees_list)\n",
    "giant_median = np.median(giant_degrees_list)\n",
    "giant_minimum=np.min(giant_degrees_list)\n",
    "giant_maximum=np.max(giant_degrees_list)\n",
    "df_giant_metrics_values_rows.append(('Average degree',avg_degree))\n",
    "df_giant_metrics_values_rows.append(('Density',density))\n",
    "df_giant_metrics_values_rows.append(('Degree standard deviation',std_dev))\n",
    "df_giant_metrics_values_rows.append(('Median degree',median))\n",
    "df_giant_metrics_values_rows.append(('Minimum degree',minimum))\n",
    "df_giant_metrics_values_rows.append(('Maximum degree',maximum))\n",
    "print(\"Average degree:\\t\\t{}\".format(giant_avg_degree))\n",
    "print('Density:\\t\\t{}'.format(giant_density))\n",
    "print('Standard deviation:\\t{}'.format(giant_std_dev))\n",
    "print('Median:\\t\\t\\t{}'.format(giant_median))\n",
    "print('Minimum:\\t\\t{}'.format(giant_minimum))\n",
    "print('Maximum:\\t\\t{}'.format(giant_maximum))"
   ]
  },
  {
   "cell_type": "markdown",
   "metadata": {},
   "source": [
    "## Distribuzione della size delle componenti connesse"
   ]
  },
  {
   "cell_type": "code",
   "execution_count": 69,
   "metadata": {},
   "outputs": [
    {
     "name": "stdout",
     "output_type": "stream",
     "text": [
      "Saving figure Connected component size distribution\n"
     ]
    },
    {
     "data": {
      "image/png": "[encoded data removed]",
      "text/plain": [
       "<Figure size 576x288 with 1 Axes>"
      ]
     },
     "metadata": {
      "needs_background": "light"
     },
     "output_type": "display_data"
    }
   ],
   "source": [
    "x = np.unique([len(c) for c in connected_components])\n",
    "\n",
    "y = []\n",
    "counter=0\n",
    "for sz in x:\n",
    "    for c in connected_components:\n",
    "        if len(c) == sz:\n",
    "            counter+=1\n",
    "    y.append(counter)\n",
    "    counter = 0\n",
    "fig_ecdf = plt.figure(figsize=(8,4))\n",
    "axes = fig_ecdf.gca()\n",
    "axes.loglog(x,y,marker = 'o', ms = 6, linestyle='None')\n",
    "axes.set_xlabel('Component size')\n",
    "axes.set_ylabel('Number of components')\n",
    "plt.title('Connected component size distribution')\n",
    "\n",
    "save_fig('Connected component size distribution')"
   ]
  },
  {
   "cell_type": "markdown",
   "metadata": {},
   "source": [
    "# Transitività"
   ]
  },
  {
   "cell_type": "code",
   "execution_count": 70,
   "metadata": {},
   "outputs": [],
   "source": [
    "avg_clustering_coeff = nx.average_clustering(first_graph)\n",
    "df_metrics_values_rows.append(('Average local clustering coefficient',avg_clustering_coeff))"
   ]
  },
  {
   "cell_type": "code",
   "execution_count": null,
   "metadata": {
    "scrolled": true
   },
   "outputs": [],
   "source": [
    "transitivity = nx.transitivity(first_graph)\n",
    "df_metrics_values_rows.append((\"Transitivity (global clustering)\",transitivity))"
   ]
  },
  {
   "cell_type": "code",
   "execution_count": null,
   "metadata": {},
   "outputs": [],
   "source": [
    "clustering=nx.clustering(first_graph)\n",
    "np.save('analysis/positive/clustering.npy',clustering)"
   ]
  },
  {
   "cell_type": "code",
   "execution_count": null,
   "metadata": {},
   "outputs": [],
   "source": [
    "print('Transitivity (global clustering):{}'.format(transitivity))\n",
    "print('Average local clustering coefficient:{}'.format(avg_clustering_coeff))\n",
    "print('Local clustering:{}'.format(clustering))"
   ]
  },
  {
   "cell_type": "code",
   "execution_count": null,
   "metadata": {},
   "outputs": [],
   "source": [
    "local_clustering_dev_std = np.std(list(clustering.values()))\n",
    "local_clustering_min = np.min(list(clustering.values()))\n",
    "local_clustering_max = np.max(list(clustering.values()))\n",
    "local_clustering_mean = np.mean(list(clustering.values()))\n",
    "local_clustering_median = np.median(list(clustering.values()))\n",
    "df_metrics_values_rows.append((\"Average local clustering (mediated)\",local_clustering_mean))\n",
    "df_metrics_values_rows.append((\"Local clustering standard deviation (mediated)\",local_clustering_dev_std))\n",
    "df_metrics_values_rows.append((\"Median local clustering (mediated)\",local_clustering_median))\n",
    "df_metrics_values_rows.append((\"Minimum local clustering (mediated)\",local_clustering_min))\n",
    "df_metrics_values_rows.append((\"Maximum local clustering (mediated)\",local_clustering_max))\n",
    "print(\"Average local clustering (mediated):\\t\\t{}\".format(local_clustering_mean))\n",
    "print('Local clustering standard deviation (mediated):\\t{}'.format(local_clustering_dev_std))\n",
    "print('Median local clustering (mediated):\\t\\t{}'.format(local_clustering_median))\n",
    "print('Minimum local clustering (mediated):\\t\\t{}'.format(local_clustering_min))\n",
    "print('Maximum local clustering (mediated):\\t\\t{}'.format(local_clustering_max))"
   ]
  },
  {
   "cell_type": "code",
   "execution_count": null,
   "metadata": {},
   "outputs": [],
   "source": [
    "x = np.unique([item for item in list(clustering.values())])\n",
    "\n",
    "y = []\n",
    "counter=0\n",
    "for sz in x:\n",
    "    for item in list(clustering.values()):\n",
    "        if item == sz:\n",
    "            counter+=1\n",
    "    y.append(counter)\n",
    "    counter = 0\n",
    "fig_ecdf = plt.figure(figsize=(8,4))\n",
    "axes = fig_ecdf.gca()\n",
    "axes.loglog(x,y,marker = 'o', ms = 6, linestyle='None')\n",
    "axes.set_xlabel('Local clustering coefficient')\n",
    "axes.set_ylabel('Number of nodes')\n",
    "plt.title('Local clustering coefficient distribution')\n",
    "\n",
    "save_fig('Local clustering coefficient distribution')"
   ]
  },
  {
   "cell_type": "code",
   "execution_count": null,
   "metadata": {},
   "outputs": [],
   "source": [
    "ecdf = ECDF(list(clustering.values()))\n",
    "x = np.unique(list(clustering.values()))\n",
    "y = ecdf(x)\n",
    "fig_ecdf = plt.figure(figsize=(8,4))\n",
    "axes = fig_ecdf.gca()\n",
    "axes.loglog(x,y,marker = 'o', ms = 6, linestyle='None')\n",
    "axes.set_xlabel('Local clustering coefficient')\n",
    "axes.set_ylabel('ECDF')\n",
    "plt.title('ECDF Local clustering coefficient distribution')\n",
    "\n",
    "save_fig('ECDF Local clustering coefficient distribution')"
   ]
  },
  {
   "cell_type": "markdown",
   "metadata": {},
   "source": [
    "# Assortativity"
   ]
  },
  {
   "cell_type": "code",
   "execution_count": null,
   "metadata": {},
   "outputs": [],
   "source": [
    "degree_assortativity = nx.degree_assortativity_coefficient(first_graph)\n",
    "df_metrics_values_rows.append((\"Degree assortativity\",degree_assortativity))"
   ]
  },
  {
   "cell_type": "code",
   "execution_count": null,
   "metadata": {},
   "outputs": [],
   "source": [
    "print(\"Degree assortativity:{}\".format(degree_assortativity))"
   ]
  },
  {
   "cell_type": "code",
   "execution_count": null,
   "metadata": {},
   "outputs": [],
   "source": [
    "nodes_attributes = []\n",
    "for n in first_graph.nodes().values():\n",
    "    nodes_attributes = list(n.keys())\n",
    "    break"
   ]
  },
  {
   "cell_type": "code",
   "execution_count": null,
   "metadata": {},
   "outputs": [],
   "source": [
    "assortativity_coefficients = []\n",
    "for idx, attr in enumerate(nodes_attributes):\n",
    "    print('{}/{}'.format(idx,len(nodes_attributes)))\n",
    "    clear_output(wait=True)\n",
    "    assortativity_coefficients.append((attr,nx.attribute_assortativity_coefficient(first_graph,attr)))\n",
    "np.save('analysis/positive/assortativity_coefficients.npy',assortativity_coefficients)"
   ]
  },
  {
   "cell_type": "code",
   "execution_count": null,
   "metadata": {},
   "outputs": [],
   "source": [
    "assortativity_coefficients"
   ]
  },
  {
   "cell_type": "code",
   "execution_count": null,
   "metadata": {},
   "outputs": [],
   "source": [
    "assortativity_min = min(assortativity_coefficients, key=lambda x: x[1])\n",
    "assortativity_max = max(assortativity_coefficients, key=lambda x: x[1])\n",
    "nan_assortativity_values = [item for item in assortativity_coefficients if math.isnan(item[1])]\n",
    "np.save('analysis/positive/nan_assortativity_values.npy',nan_assortativity_values)\n",
    "df_metrics_values_rows.append((\"Minimum assortativity cofficient\",assortativity_min))\n",
    "df_metrics_values_rows.append((\"Maximum assortativity cofficient\",assortativity_max))\n",
    "df_metrics_values_rows.append((\"Number of NaN assortativity values\",len(nan_assortativity_values)))\n",
    "print('Minimum assortativity cofficient:\\t\\t{}'.format(assortativity_min))\n",
    "print('Maximum assortativity cofficient:\\t\\t{}'.format(assortativity_max))\n",
    "print('NaN assortativity values:\\t\\t{}\\n{}'.format(len(nan_assortativity_values),nan_assortativity_values))"
   ]
  },
  {
   "cell_type": "markdown",
   "metadata": {},
   "source": [
    "## Assortatività nella giant component"
   ]
  },
  {
   "cell_type": "code",
   "execution_count": null,
   "metadata": {},
   "outputs": [],
   "source": [
    "print(\"GIANT COMPONENT\")\n",
    "giant_degree_assortativity = nx.degree_assortativity_coefficient(giant_component)\n",
    "df_giant_metrics_values_rows.append((\"Degree assortativity\",giant_degree_assortativity))\n",
    "print(\"Degree assortativity:{}\".format(giant_degree_assortativity))\n",
    "giant_nodes_attributes = []\n",
    "for n in giant_component.nodes().values():\n",
    "    giant_nodes_attributes = list(n.keys())\n",
    "    break\n",
    "giant_assortativity_coefficients = []\n",
    "for idx, attr in enumerate(giant_nodes_attributes):\n",
    "    print('{}/{}'.format(idx,len(giant_nodes_attributes)))\n",
    "    clear_output(wait=True)\n",
    "    giant_assortativity_coefficients.append((attr,nx.attribute_assortativity_coefficient(giant_component,attr)))\n",
    "np.save('analysis/positive/giant_assortativity_coefficients.npy',giant_assortativity_coefficients)\n",
    "giant_assortativity_min = min(giant_assortativity_coefficients, key=lambda x: x[1])\n",
    "giant_assortativity_max = max(giant_assortativity_coefficients, key=lambda x: x[1])\n",
    "giant_nan_assortativity_values = [item for item in giant_assortativity_coefficients if math.isnan(item[1])]\n",
    "df_giant_metrics_values_rows.append((\"Minimum assortativity cofficient\",giant_assortativity_min))\n",
    "df_giant_metrics_values_rows.append((\"Maximum assortativity cofficient\",giant_assortativity_max))\n",
    "df_giant_metrics_values_rows.append((\"Number of NaN assortativity values\",len(giant_nan_assortativity_values)))\n",
    "print('Minimum assortativity cofficient:\\t\\t{}'.format(giant_assortativity_min))\n",
    "print('Maximum assortativity cofficient:\\t\\t{}'.format(giant_assortativity_max))\n",
    "print('NaN assortativity values:\\t\\t{}\\n{}'.format(len(giant_nan_assortativity_values),giant_nan_assortativity_values))"
   ]
  },
  {
   "cell_type": "markdown",
   "metadata": {},
   "source": [
    "# Community detection"
   ]
  },
  {
   "cell_type": "code",
   "execution_count": null,
   "metadata": {},
   "outputs": [],
   "source": [
    "partition_louvain = community_louvain.best_partition(first_graph)\n",
    "np.save('analysis/positive/partition_louvain.npy',partition_louvain)\n",
    "number_of_communities = len(set(partition_louvain.values()))\n",
    "print('Number of communities: ', number_of_communities)\n",
    "df_metrics_values_rows.append((\"Number of communities\",number_of_communities))\n",
    "print(Counter(partition_louvain.values()))"
   ]
  },
  {
   "cell_type": "code",
   "execution_count": null,
   "metadata": {},
   "outputs": [],
   "source": [
    "modularity = community.modularity(partition_louvain,first_graph)\n",
    "df_metrics_values_rows.append((\"Modularity\",modularity))\n",
    "print('Modularity:', modularity)"
   ]
  },
  {
   "cell_type": "markdown",
   "metadata": {},
   "source": [
    "## Community detection nella giant component"
   ]
  },
  {
   "cell_type": "code",
   "execution_count": null,
   "metadata": {},
   "outputs": [],
   "source": [
    "giant_partition_louvain = community_louvain.best_partition(giant_component)\n",
    "np.save('analysis/positive/giant_partition_louvain.npy',giant_partition_louvain)\n",
    "giant_number_of_communities = len(set(giant_partition_louvain.values()))\n",
    "print('Number of communities: ', giant_number_of_communities)\n",
    "df_giant_metrics_values_rows.append((\"Number of communities\",giant_number_of_communities))\n",
    "print(Counter(giant_partition_louvain.values()))"
   ]
  },
  {
   "cell_type": "code",
   "execution_count": null,
   "metadata": {},
   "outputs": [],
   "source": [
    "giant_modularity = community.modularity(giant_partition_louvain,giant_component)\n",
    "df_giant_metrics_values_rows.append((\"Modularity\",giant_modularity))\n",
    "print('Modularity:', giant_modularity)"
   ]
  },
  {
   "cell_type": "markdown",
   "metadata": {},
   "source": [
    "# Saving lines"
   ]
  },
  {
   "cell_type": "code",
   "execution_count": null,
   "metadata": {},
   "outputs": [],
   "source": [
    "df_metrics_values = pd.DataFrame(df_metrics_values_rows, columns=['Metric name','Value'])\n",
    "df_metrics_values.to_csv('analysis/positive/df_metrics_values.csv')"
   ]
  },
  {
   "cell_type": "code",
   "execution_count": null,
   "metadata": {},
   "outputs": [],
   "source": [
    "df_metrics_values"
   ]
  },
  {
   "cell_type": "code",
   "execution_count": null,
   "metadata": {},
   "outputs": [],
   "source": [
    "giant_df_metrics_values = pd.DataFrame(df_giant_metrics_values_rows, columns=['Metric name','Value'])\n",
    "giant_df_metrics_values.to_csv('analysis/positive/giant_df_metrics_values.csv')\n",
    "giant_df_metrics_values"
   ]
  },
  {
   "cell_type": "code",
   "execution_count": null,
   "metadata": {},
   "outputs": [],
   "source": []
  }
 ],
 "metadata": {
  "kernelspec": {
   "display_name": "Python 3",
   "language": "python",
   "name": "python3"
  },
  "language_info": {
   "codemirror_mode": {
    "name": "ipython",
    "version": 3
   },
   "file_extension": ".py",
   "mimetype": "text/x-python",
   "name": "python",
   "nbconvert_exporter": "python",
   "pygments_lexer": "ipython3",
   "version": "3.7.6"
  }
 },
 "nbformat": 4,
 "nbformat_minor": 4
}
