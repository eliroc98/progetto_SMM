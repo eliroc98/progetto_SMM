{
 "cells": [
  {
   "cell_type": "code",
   "execution_count": 2,
   "metadata": {},
   "outputs": [],
   "source": [
    "import pandas as pd\n",
    "\n",
    "import os\n",
    "\n",
    "import numpy as np\n",
    "\n",
    "import networkx as nx\n",
    "\n",
    "import matplotlib.pyplot as plt\n",
    "\n",
    "from IPython.display import clear_output"
   ]
  },
  {
   "cell_type": "code",
   "execution_count": 3,
   "metadata": {},
   "outputs": [],
   "source": [
    "df_comments = pd.read_csv('data/get_comment_threads_output/comments_thread_sentiment_reduced_5.csv')\n",
    "df_videos = pd.read_csv('data/get_videos_details/videos_details_computed.csv')\n",
    "df_youtuber_videos = pd.read_csv('data/get_youtuber_videos_output/youtuber_videos.csv')\n",
    "df_youtubers = pd.read_csv('data/get_youtubers_output/youtubers.csv')"
   ]
  },
  {
   "cell_type": "code",
   "execution_count": 4,
   "metadata": {},
   "outputs": [
    {
     "data": {
      "text/html": [
       "<div>\n",
       "<style scoped>\n",
       "    .dataframe tbody tr th:only-of-type {\n",
       "        vertical-align: middle;\n",
       "    }\n",
       "\n",
       "    .dataframe tbody tr th {\n",
       "        vertical-align: top;\n",
       "    }\n",
       "\n",
       "    .dataframe thead th {\n",
       "        text-align: right;\n",
       "    }\n",
       "</style>\n",
       "<table border=\"1\" class=\"dataframe\">\n",
       "  <thead>\n",
       "    <tr style=\"text-align: right;\">\n",
       "      <th></th>\n",
       "      <th>video_id</th>\n",
       "      <th>category_id</th>\n",
       "      <th>topics</th>\n",
       "      <th>brands</th>\n",
       "      <th>youtubers</th>\n",
       "    </tr>\n",
       "  </thead>\n",
       "  <tbody>\n",
       "    <tr>\n",
       "      <th>0</th>\n",
       "      <td>WyUyJKm-MiY</td>\n",
       "      <td>Entertainment</td>\n",
       "      <td>['social media', 'music', 'review']</td>\n",
       "      <td>['jeffree star cosmetics']</td>\n",
       "      <td>[]</td>\n",
       "    </tr>\n",
       "    <tr>\n",
       "      <th>1</th>\n",
       "      <td>5mUQo6lQG-U</td>\n",
       "      <td>Howto &amp; Style</td>\n",
       "      <td>['new product launch', 'lifestyle', 'review']</td>\n",
       "      <td>['jeffree star cosmetics']</td>\n",
       "      <td>[]</td>\n",
       "    </tr>\n",
       "    <tr>\n",
       "      <th>2</th>\n",
       "      <td>QhbR5TEAMco</td>\n",
       "      <td>Howto &amp; Style</td>\n",
       "      <td>['pet', 'lifestyle']</td>\n",
       "      <td>[]</td>\n",
       "      <td>[]</td>\n",
       "    </tr>\n",
       "    <tr>\n",
       "      <th>3</th>\n",
       "      <td>3qYykmHx5gc</td>\n",
       "      <td>Entertainment</td>\n",
       "      <td>['social media', 'lifestyle', 'review']</td>\n",
       "      <td>[]</td>\n",
       "      <td>[]</td>\n",
       "    </tr>\n",
       "    <tr>\n",
       "      <th>4</th>\n",
       "      <td>SxixuClI2vA</td>\n",
       "      <td>Howto &amp; Style</td>\n",
       "      <td>['lifestyle', 'review']</td>\n",
       "      <td>['colourpop cosmetics', 'jeffree star cosmetics']</td>\n",
       "      <td>[]</td>\n",
       "    </tr>\n",
       "    <tr>\n",
       "      <th>...</th>\n",
       "      <td>...</td>\n",
       "      <td>...</td>\n",
       "      <td>...</td>\n",
       "      <td>...</td>\n",
       "      <td>...</td>\n",
       "    </tr>\n",
       "    <tr>\n",
       "      <th>2587</th>\n",
       "      <td>bm-3Qrr7EUA</td>\n",
       "      <td>Howto &amp; Style</td>\n",
       "      <td>['lifestyle']</td>\n",
       "      <td>[]</td>\n",
       "      <td>[]</td>\n",
       "    </tr>\n",
       "    <tr>\n",
       "      <th>2588</th>\n",
       "      <td>hkxRjDS_Cjw</td>\n",
       "      <td>Howto &amp; Style</td>\n",
       "      <td>['lifestyle']</td>\n",
       "      <td>[]</td>\n",
       "      <td>[]</td>\n",
       "    </tr>\n",
       "    <tr>\n",
       "      <th>2589</th>\n",
       "      <td>8kElrRAa1ws</td>\n",
       "      <td>Howto &amp; Style</td>\n",
       "      <td>[]</td>\n",
       "      <td>[]</td>\n",
       "      <td>[]</td>\n",
       "    </tr>\n",
       "    <tr>\n",
       "      <th>2590</th>\n",
       "      <td>7x6tX5T7LOs</td>\n",
       "      <td>Howto &amp; Style</td>\n",
       "      <td>['lifestyle']</td>\n",
       "      <td>['maybelline']</td>\n",
       "      <td>[]</td>\n",
       "    </tr>\n",
       "    <tr>\n",
       "      <th>2591</th>\n",
       "      <td>NSdUFKOkKnc</td>\n",
       "      <td>Howto &amp; Style</td>\n",
       "      <td>['lifestyle']</td>\n",
       "      <td>[]</td>\n",
       "      <td>[]</td>\n",
       "    </tr>\n",
       "  </tbody>\n",
       "</table>\n",
       "<p>2592 rows × 5 columns</p>\n",
       "</div>"
      ],
      "text/plain": [
       "         video_id    category_id  \\\n",
       "0     WyUyJKm-MiY  Entertainment   \n",
       "1     5mUQo6lQG-U  Howto & Style   \n",
       "2     QhbR5TEAMco  Howto & Style   \n",
       "3     3qYykmHx5gc  Entertainment   \n",
       "4     SxixuClI2vA  Howto & Style   \n",
       "...           ...            ...   \n",
       "2587  bm-3Qrr7EUA  Howto & Style   \n",
       "2588  hkxRjDS_Cjw  Howto & Style   \n",
       "2589  8kElrRAa1ws  Howto & Style   \n",
       "2590  7x6tX5T7LOs  Howto & Style   \n",
       "2591  NSdUFKOkKnc  Howto & Style   \n",
       "\n",
       "                                             topics  \\\n",
       "0               ['social media', 'music', 'review']   \n",
       "1     ['new product launch', 'lifestyle', 'review']   \n",
       "2                              ['pet', 'lifestyle']   \n",
       "3           ['social media', 'lifestyle', 'review']   \n",
       "4                           ['lifestyle', 'review']   \n",
       "...                                             ...   \n",
       "2587                                  ['lifestyle']   \n",
       "2588                                  ['lifestyle']   \n",
       "2589                                             []   \n",
       "2590                                  ['lifestyle']   \n",
       "2591                                  ['lifestyle']   \n",
       "\n",
       "                                                 brands youtubers  \n",
       "0                            ['jeffree star cosmetics']        []  \n",
       "1                            ['jeffree star cosmetics']        []  \n",
       "2                                                    []        []  \n",
       "3                                                    []        []  \n",
       "4     ['colourpop cosmetics', 'jeffree star cosmetics']        []  \n",
       "...                                                 ...       ...  \n",
       "2587                                                 []        []  \n",
       "2588                                                 []        []  \n",
       "2589                                                 []        []  \n",
       "2590                                     ['maybelline']        []  \n",
       "2591                                                 []        []  \n",
       "\n",
       "[2592 rows x 5 columns]"
      ]
     },
     "execution_count": 4,
     "metadata": {},
     "output_type": "execute_result"
    }
   ],
   "source": [
    "df_videos"
   ]
  },
  {
   "cell_type": "code",
   "execution_count": 5,
   "metadata": {},
   "outputs": [],
   "source": [
    "user_name_set= set()\n",
    "nan_number=0\n",
    "for comment in df_comments.values:\n",
    "    if comment[2]!= None:\n",
    "        user_name_set.add(comment[2])\n",
    "    else:\n",
    "        nan_number+=1"
   ]
  },
  {
   "cell_type": "code",
   "execution_count": 10,
   "metadata": {},
   "outputs": [
    {
     "data": {
      "text/plain": [
       "0"
      ]
     },
     "execution_count": 10,
     "metadata": {},
     "output_type": "execute_result"
    }
   ],
   "source": [
    "df_comments[df_comments.columns[2]].isnull().sum(axis = 0)#buono!"
   ]
  },
  {
   "cell_type": "code",
   "execution_count": 11,
   "metadata": {},
   "outputs": [],
   "source": [
    "youtuber_video_join=df_youtubers.set_index('channel_id').join(df_youtuber_videos.set_index('channel_id'), on='channel_id',lsuffix='_yt', rsuffix='_ytvd')"
   ]
  },
  {
   "cell_type": "code",
   "execution_count": 12,
   "metadata": {},
   "outputs": [],
   "source": [
    "youtuber_video_join = youtuber_video_join[youtuber_video_join.columns[[0,2]]]"
   ]
  },
  {
   "cell_type": "code",
   "execution_count": 13,
   "metadata": {},
   "outputs": [],
   "source": [
    "youtuber_video_join = youtuber_video_join.set_index('video_id').join(df_videos.set_index('video_id'),on='video_id',lsuffix='_yt', rsuffix='_ytvd')"
   ]
  },
  {
   "cell_type": "code",
   "execution_count": 14,
   "metadata": {},
   "outputs": [
    {
     "data": {
      "text/html": [
       "<div>\n",
       "<style scoped>\n",
       "    .dataframe tbody tr th:only-of-type {\n",
       "        vertical-align: middle;\n",
       "    }\n",
       "\n",
       "    .dataframe tbody tr th {\n",
       "        vertical-align: top;\n",
       "    }\n",
       "\n",
       "    .dataframe thead th {\n",
       "        text-align: right;\n",
       "    }\n",
       "</style>\n",
       "<table border=\"1\" class=\"dataframe\">\n",
       "  <thead>\n",
       "    <tr style=\"text-align: right;\">\n",
       "      <th></th>\n",
       "      <th>display_name</th>\n",
       "      <th>category_id</th>\n",
       "      <th>topics</th>\n",
       "      <th>brands</th>\n",
       "      <th>youtubers</th>\n",
       "    </tr>\n",
       "    <tr>\n",
       "      <th>video_id</th>\n",
       "      <th></th>\n",
       "      <th></th>\n",
       "      <th></th>\n",
       "      <th></th>\n",
       "      <th></th>\n",
       "    </tr>\n",
       "  </thead>\n",
       "  <tbody>\n",
       "    <tr>\n",
       "      <th>WyUyJKm-MiY</th>\n",
       "      <td>jeffreestar</td>\n",
       "      <td>Entertainment</td>\n",
       "      <td>['social media', 'music', 'review']</td>\n",
       "      <td>['jeffree star cosmetics']</td>\n",
       "      <td>[]</td>\n",
       "    </tr>\n",
       "    <tr>\n",
       "      <th>5mUQo6lQG-U</th>\n",
       "      <td>jeffreestar</td>\n",
       "      <td>Howto &amp; Style</td>\n",
       "      <td>['new product launch', 'lifestyle', 'review']</td>\n",
       "      <td>['jeffree star cosmetics']</td>\n",
       "      <td>[]</td>\n",
       "    </tr>\n",
       "    <tr>\n",
       "      <th>QhbR5TEAMco</th>\n",
       "      <td>jeffreestar</td>\n",
       "      <td>Howto &amp; Style</td>\n",
       "      <td>['pet', 'lifestyle']</td>\n",
       "      <td>[]</td>\n",
       "      <td>[]</td>\n",
       "    </tr>\n",
       "    <tr>\n",
       "      <th>3qYykmHx5gc</th>\n",
       "      <td>jeffreestar</td>\n",
       "      <td>Entertainment</td>\n",
       "      <td>['social media', 'lifestyle', 'review']</td>\n",
       "      <td>[]</td>\n",
       "      <td>[]</td>\n",
       "    </tr>\n",
       "    <tr>\n",
       "      <th>SxixuClI2vA</th>\n",
       "      <td>jeffreestar</td>\n",
       "      <td>Howto &amp; Style</td>\n",
       "      <td>['lifestyle', 'review']</td>\n",
       "      <td>['colourpop cosmetics', 'jeffree star cosmetics']</td>\n",
       "      <td>[]</td>\n",
       "    </tr>\n",
       "    <tr>\n",
       "      <th>...</th>\n",
       "      <td>...</td>\n",
       "      <td>...</td>\n",
       "      <td>...</td>\n",
       "      <td>...</td>\n",
       "      <td>...</td>\n",
       "    </tr>\n",
       "    <tr>\n",
       "      <th>bm-3Qrr7EUA</th>\n",
       "      <td>maybellinenewyork</td>\n",
       "      <td>Howto &amp; Style</td>\n",
       "      <td>['lifestyle']</td>\n",
       "      <td>[]</td>\n",
       "      <td>[]</td>\n",
       "    </tr>\n",
       "    <tr>\n",
       "      <th>hkxRjDS_Cjw</th>\n",
       "      <td>maybellinenewyork</td>\n",
       "      <td>Howto &amp; Style</td>\n",
       "      <td>['lifestyle']</td>\n",
       "      <td>[]</td>\n",
       "      <td>[]</td>\n",
       "    </tr>\n",
       "    <tr>\n",
       "      <th>8kElrRAa1ws</th>\n",
       "      <td>maybellinenewyork</td>\n",
       "      <td>Howto &amp; Style</td>\n",
       "      <td>[]</td>\n",
       "      <td>[]</td>\n",
       "      <td>[]</td>\n",
       "    </tr>\n",
       "    <tr>\n",
       "      <th>7x6tX5T7LOs</th>\n",
       "      <td>maybellinenewyork</td>\n",
       "      <td>Howto &amp; Style</td>\n",
       "      <td>['lifestyle']</td>\n",
       "      <td>['maybelline']</td>\n",
       "      <td>[]</td>\n",
       "    </tr>\n",
       "    <tr>\n",
       "      <th>NSdUFKOkKnc</th>\n",
       "      <td>maybellinenewyork</td>\n",
       "      <td>Howto &amp; Style</td>\n",
       "      <td>['lifestyle']</td>\n",
       "      <td>[]</td>\n",
       "      <td>[]</td>\n",
       "    </tr>\n",
       "  </tbody>\n",
       "</table>\n",
       "<p>2594 rows × 5 columns</p>\n",
       "</div>"
      ],
      "text/plain": [
       "                  display_name    category_id  \\\n",
       "video_id                                        \n",
       "WyUyJKm-MiY        jeffreestar  Entertainment   \n",
       "5mUQo6lQG-U        jeffreestar  Howto & Style   \n",
       "QhbR5TEAMco        jeffreestar  Howto & Style   \n",
       "3qYykmHx5gc        jeffreestar  Entertainment   \n",
       "SxixuClI2vA        jeffreestar  Howto & Style   \n",
       "...                        ...            ...   \n",
       "bm-3Qrr7EUA  maybellinenewyork  Howto & Style   \n",
       "hkxRjDS_Cjw  maybellinenewyork  Howto & Style   \n",
       "8kElrRAa1ws  maybellinenewyork  Howto & Style   \n",
       "7x6tX5T7LOs  maybellinenewyork  Howto & Style   \n",
       "NSdUFKOkKnc  maybellinenewyork  Howto & Style   \n",
       "\n",
       "                                                    topics  \\\n",
       "video_id                                                     \n",
       "WyUyJKm-MiY            ['social media', 'music', 'review']   \n",
       "5mUQo6lQG-U  ['new product launch', 'lifestyle', 'review']   \n",
       "QhbR5TEAMco                           ['pet', 'lifestyle']   \n",
       "3qYykmHx5gc        ['social media', 'lifestyle', 'review']   \n",
       "SxixuClI2vA                        ['lifestyle', 'review']   \n",
       "...                                                    ...   \n",
       "bm-3Qrr7EUA                                  ['lifestyle']   \n",
       "hkxRjDS_Cjw                                  ['lifestyle']   \n",
       "8kElrRAa1ws                                             []   \n",
       "7x6tX5T7LOs                                  ['lifestyle']   \n",
       "NSdUFKOkKnc                                  ['lifestyle']   \n",
       "\n",
       "                                                        brands youtubers  \n",
       "video_id                                                                  \n",
       "WyUyJKm-MiY                         ['jeffree star cosmetics']        []  \n",
       "5mUQo6lQG-U                         ['jeffree star cosmetics']        []  \n",
       "QhbR5TEAMco                                                 []        []  \n",
       "3qYykmHx5gc                                                 []        []  \n",
       "SxixuClI2vA  ['colourpop cosmetics', 'jeffree star cosmetics']        []  \n",
       "...                                                        ...       ...  \n",
       "bm-3Qrr7EUA                                                 []        []  \n",
       "hkxRjDS_Cjw                                                 []        []  \n",
       "8kElrRAa1ws                                                 []        []  \n",
       "7x6tX5T7LOs                                     ['maybelline']        []  \n",
       "NSdUFKOkKnc                                                 []        []  \n",
       "\n",
       "[2594 rows x 5 columns]"
      ]
     },
     "execution_count": 14,
     "metadata": {},
     "output_type": "execute_result"
    }
   ],
   "source": [
    "youtuber_video_join"
   ]
  },
  {
   "cell_type": "code",
   "execution_count": 15,
   "metadata": {
    "scrolled": true
   },
   "outputs": [
    {
     "data": {
      "text/html": [
       "<div>\n",
       "<style scoped>\n",
       "    .dataframe tbody tr th:only-of-type {\n",
       "        vertical-align: middle;\n",
       "    }\n",
       "\n",
       "    .dataframe tbody tr th {\n",
       "        vertical-align: top;\n",
       "    }\n",
       "\n",
       "    .dataframe thead th {\n",
       "        text-align: right;\n",
       "    }\n",
       "</style>\n",
       "<table border=\"1\" class=\"dataframe\">\n",
       "  <thead>\n",
       "    <tr style=\"text-align: right;\">\n",
       "      <th></th>\n",
       "      <th>video_id</th>\n",
       "      <th>top_level_comment_id</th>\n",
       "      <th>author_display_name</th>\n",
       "      <th>sentiment</th>\n",
       "    </tr>\n",
       "  </thead>\n",
       "  <tbody>\n",
       "    <tr>\n",
       "      <th>0</th>\n",
       "      <td>WyUyJKm-MiY</td>\n",
       "      <td>UgxmeuEGKaTnjr18AVZ4AaABAg</td>\n",
       "      <td>Imaan Jaffri</td>\n",
       "      <td>0</td>\n",
       "    </tr>\n",
       "    <tr>\n",
       "      <th>1</th>\n",
       "      <td>WyUyJKm-MiY</td>\n",
       "      <td>UgzlwPwyC3XlmzgzBr54AaABAg</td>\n",
       "      <td>Karlee Nash</td>\n",
       "      <td>0</td>\n",
       "    </tr>\n",
       "    <tr>\n",
       "      <th>2</th>\n",
       "      <td>WyUyJKm-MiY</td>\n",
       "      <td>UgynycPfXmKJePLzAEp4AaABAg</td>\n",
       "      <td>Bernice Ayer</td>\n",
       "      <td>1</td>\n",
       "    </tr>\n",
       "    <tr>\n",
       "      <th>3</th>\n",
       "      <td>WyUyJKm-MiY</td>\n",
       "      <td>UgwamwomyWMY8bpiPjp4AaABAg</td>\n",
       "      <td>Molly Seymour</td>\n",
       "      <td>1</td>\n",
       "    </tr>\n",
       "    <tr>\n",
       "      <th>4</th>\n",
       "      <td>WyUyJKm-MiY</td>\n",
       "      <td>Ugx7NWDtnzTkeACe5yJ4AaABAg</td>\n",
       "      <td>Charbonelle Weese</td>\n",
       "      <td>0</td>\n",
       "    </tr>\n",
       "    <tr>\n",
       "      <th>...</th>\n",
       "      <td>...</td>\n",
       "      <td>...</td>\n",
       "      <td>...</td>\n",
       "      <td>...</td>\n",
       "    </tr>\n",
       "    <tr>\n",
       "      <th>12522</th>\n",
       "      <td>8kElrRAa1ws</td>\n",
       "      <td>UgwFBotqMk8PHYtjGlJ4AaABAg</td>\n",
       "      <td>Liana Soares</td>\n",
       "      <td>1</td>\n",
       "    </tr>\n",
       "    <tr>\n",
       "      <th>12523</th>\n",
       "      <td>8kElrRAa1ws</td>\n",
       "      <td>UgwSdanGKGsGd4DUmIl4AaABAg</td>\n",
       "      <td>Bree e</td>\n",
       "      <td>0</td>\n",
       "    </tr>\n",
       "    <tr>\n",
       "      <th>12524</th>\n",
       "      <td>8kElrRAa1ws</td>\n",
       "      <td>Ugy-wtIUI069bRoN9K14AaABAg</td>\n",
       "      <td>Tonya Wykle</td>\n",
       "      <td>1</td>\n",
       "    </tr>\n",
       "    <tr>\n",
       "      <th>12525</th>\n",
       "      <td>8kElrRAa1ws</td>\n",
       "      <td>UgwtkQootxJ6rfJzvPh4AaABAg</td>\n",
       "      <td>Lesly</td>\n",
       "      <td>0</td>\n",
       "    </tr>\n",
       "    <tr>\n",
       "      <th>12526</th>\n",
       "      <td>8kElrRAa1ws</td>\n",
       "      <td>Ugz_Yj_AX5darh32Y7t4AaABAg</td>\n",
       "      <td>Scarlet Black</td>\n",
       "      <td>0</td>\n",
       "    </tr>\n",
       "  </tbody>\n",
       "</table>\n",
       "<p>12527 rows × 4 columns</p>\n",
       "</div>"
      ],
      "text/plain": [
       "          video_id        top_level_comment_id author_display_name  sentiment\n",
       "0      WyUyJKm-MiY  UgxmeuEGKaTnjr18AVZ4AaABAg        Imaan Jaffri          0\n",
       "1      WyUyJKm-MiY  UgzlwPwyC3XlmzgzBr54AaABAg         Karlee Nash          0\n",
       "2      WyUyJKm-MiY  UgynycPfXmKJePLzAEp4AaABAg        Bernice Ayer          1\n",
       "3      WyUyJKm-MiY  UgwamwomyWMY8bpiPjp4AaABAg       Molly Seymour          1\n",
       "4      WyUyJKm-MiY  Ugx7NWDtnzTkeACe5yJ4AaABAg   Charbonelle Weese          0\n",
       "...            ...                         ...                 ...        ...\n",
       "12522  8kElrRAa1ws  UgwFBotqMk8PHYtjGlJ4AaABAg        Liana Soares          1\n",
       "12523  8kElrRAa1ws  UgwSdanGKGsGd4DUmIl4AaABAg              Bree e          0\n",
       "12524  8kElrRAa1ws  Ugy-wtIUI069bRoN9K14AaABAg         Tonya Wykle          1\n",
       "12525  8kElrRAa1ws  UgwtkQootxJ6rfJzvPh4AaABAg               Lesly          0\n",
       "12526  8kElrRAa1ws  Ugz_Yj_AX5darh32Y7t4AaABAg       Scarlet Black          0\n",
       "\n",
       "[12527 rows x 4 columns]"
      ]
     },
     "execution_count": 15,
     "metadata": {},
     "output_type": "execute_result"
    }
   ],
   "source": [
    "df_comments"
   ]
  },
  {
   "cell_type": "code",
   "execution_count": 57,
   "metadata": {},
   "outputs": [],
   "source": [
    "edges = []"
   ]
  },
  {
   "cell_type": "code",
   "execution_count": 62,
   "metadata": {},
   "outputs": [],
   "source": [
    "edges_1 = []"
   ]
  },
  {
   "cell_type": "code",
   "execution_count": 21,
   "metadata": {},
   "outputs": [],
   "source": [
    "limit = 1000"
   ]
  },
  {
   "cell_type": "code",
   "execution_count": 64,
   "metadata": {},
   "outputs": [
    {
     "name": "stdout",
     "output_type": "stream",
     "text": [
      "Computing 2593/2594\n"
     ]
    }
   ],
   "source": [
    "for idx_row_1, row_1 in enumerate(zip(youtuber_video_join.index[id_0:],youtuber_video_join.values[id_0:])):\n",
    "    print('Computing {}/{}'.format(idx_row_1+id_0,len(youtuber_video_join.index)))\n",
    "    row_1_idx = row_1[0]\n",
    "    row_1_val = row_1[1]\n",
    "    matches_topics = set([item.strip()[1:-1] for item in row_1_val[2][1:-1].split(',')]) if type(row_1_val[2]) is str else set()\n",
    "    matches_brands = set([item.strip()[1:-1] for item in row_1_val[3][1:-1].split(',')]) if type(row_1_val[3]) is str else set()\n",
    "    matches_youtubers = set([item.strip()[1:-1] for item in row_1_val[4][1:-1].split(',')]) if type(row_1_val[4]) is str else set()\n",
    "    matches_youtubers.add(row_1_val[0])\n",
    "    rows_0 = (df_comments.loc[df_comments['video_id'] == row_1_idx]).values\n",
    "    for idx_row_2, row_2 in enumerate(zip(youtuber_video_join.index[idx_row_1+id_0+id_1:],youtuber_video_join.values[idx_row_1+id_0+id_1:])):\n",
    "        row_2_idx = row_2[0]\n",
    "        row_2_val = row_2[1]\n",
    "        details = {'youtubers':[],'topics':[],'brands':[], 'sentiment':0}\n",
    "        topics_ = set([item.strip()[1:-1] for item in row_2_val[2][1:-1].split(',')]) if type(row_2_val[2]) is str else set()\n",
    "        brands_ = set([item.strip()[1:-1] for item in row_2_val[3][1:-1].split(',')]) if type(row_2_val[3]) is str else set()\n",
    "        youtubers_ = set([item.strip()[1:-1] for item in row_2_val[4][1:-1].split(',')]) if type(row_2_val[4]) is str else set()\n",
    "        youtubers_.add(row_2_val[0])\n",
    "\n",
    "        common_topics = matches_topics.intersection(topics_)\n",
    "        common_brands = matches_brands.intersection(brands_)\n",
    "        common_youtubers = matches_youtubers.intersection(youtubers_)\n",
    "\n",
    "        union_topics = matches_topics.union(topics_)\n",
    "        union_brands = matches_brands.union(brands_)\n",
    "        union_youtubers = matches_youtubers.union(youtubers_)\n",
    "\n",
    "        if len(common_topics)>0:\n",
    "            [details['topics'].append(item) for item in common_topics]\n",
    "        if len(common_brands)>0:\n",
    "            [details['brands'].append(item) for item in common_brands]\n",
    "        if len(common_youtubers)>0:\n",
    "            [details['youtubers'].append(item) for item in common_youtubers]\n",
    "        w = (len(common_topics)+len(common_brands)+len(common_youtubers))/(len(union_topics)+len(union_brands)+len(union_youtubers))\n",
    "\n",
    "        for id_c_0,comment_0 in enumerate(rows_0[id_2:]):\n",
    "            rows_1 = (df_comments.loc[df_comments['video_id'] == row_2_idx]).values\n",
    "            for id_c_1,comment_1 in enumerate(rows_1[id_3:]):\n",
    "                if comment_0[3] == comment_1[3]:\n",
    "                    if comment_0[3] == 1:\n",
    "                        details['sentiment'] = 1\n",
    "                    else:\n",
    "                        details['sentiment'] = 0\n",
    "                else:\n",
    "                    details['sentiment'] = -1\n",
    "\n",
    "                edges_1.append([(comment_0[2],comment_1[2],w),details])\n",
    "        id_2 = 0\n",
    "        id_3 = 0\n",
    "    id_1 = 0\n",
    "    clear_output(wait=True)\n",
    "    \n",
    "    \n",
    "id_0 = id_0 + idx_row_1\n",
    "np.save('data/make_network_output/id_0.npy', id_0)\n",
    "np.save('data/make_network_output/edges_var2_5_5.npy', edges_1[:int(len(edges_1)/2)])\n",
    "np.save('data/make_network_output/edges_var2_5_6.npy', edges_1[int(len(edges_1)/2):])"
   ]
  },
  {
   "cell_type": "code",
   "execution_count": null,
   "metadata": {},
   "outputs": [],
   "source": []
  },
  {
   "cell_type": "code",
   "execution_count": 25,
   "metadata": {},
   "outputs": [],
   "source": [
    "np.save('data/make_network_output/edges_var2_5_1.npy', edges_1[:int(len(edges_1)/2)])"
   ]
  },
  {
   "cell_type": "code",
   "execution_count": 26,
   "metadata": {},
   "outputs": [],
   "source": [
    "np.save('data/make_network_output/edges_var2_5_2.npy', edges_1[int(len(edges_1)/2):])"
   ]
  },
  {
   "cell_type": "code",
   "execution_count": 47,
   "metadata": {},
   "outputs": [
    {
     "data": {
      "text/plain": [
       "1029"
      ]
     },
     "execution_count": 47,
     "metadata": {},
     "output_type": "execute_result"
    }
   ],
   "source": [
    "idx_row_1"
   ]
  },
  {
   "cell_type": "code",
   "execution_count": 63,
   "metadata": {},
   "outputs": [
    {
     "data": {
      "text/plain": [
       "2311"
      ]
     },
     "execution_count": 63,
     "metadata": {},
     "output_type": "execute_result"
    }
   ],
   "source": [
    "id_0"
   ]
  },
  {
   "cell_type": "code",
   "execution_count": 53,
   "metadata": {},
   "outputs": [],
   "source": [
    "id_0 = 1310"
   ]
  },
  {
   "cell_type": "code",
   "execution_count": 29,
   "metadata": {},
   "outputs": [
    {
     "data": {
      "text/plain": [
       "[('Glaydz21', 'Scarlet Black', 0.2857142857142857),\n",
       " {'youtubers': [''], 'topics': [], 'brands': [''], 'sentiment': -1}]"
      ]
     },
     "execution_count": 29,
     "metadata": {},
     "output_type": "execute_result"
    }
   ],
   "source": [
    "edges_1[-1]"
   ]
  },
  {
   "cell_type": "code",
   "execution_count": 48,
   "metadata": {},
   "outputs": [
    {
     "data": {
      "text/plain": [
       "'xSMCSp1KNao'"
      ]
     },
     "execution_count": 48,
     "metadata": {},
     "output_type": "execute_result"
    }
   ],
   "source": [
    "row_1_idx"
   ]
  },
  {
   "cell_type": "code",
   "execution_count": 52,
   "metadata": {},
   "outputs": [
    {
     "name": "stdout",
     "output_type": "stream",
     "text": [
      "1309\n"
     ]
    }
   ],
   "source": [
    "for idx_prova, ind in enumerate(youtuber_video_join.index):\n",
    "    if ind == row_1_idx:\n",
    "        print(idx_prova)\n",
    "        break"
   ]
  },
  {
   "cell_type": "code",
   "execution_count": 49,
   "metadata": {},
   "outputs": [
    {
     "data": {
      "text/plain": [
       "'NSdUFKOkKnc'"
      ]
     },
     "execution_count": 49,
     "metadata": {},
     "output_type": "execute_result"
    }
   ],
   "source": [
    "row_2_idx"
   ]
  },
  {
   "cell_type": "code",
   "execution_count": 31,
   "metadata": {},
   "outputs": [],
   "source": [
    "edges = np.load('data/make_network_output/edges_var2_5.npy', allow_pickle = True)"
   ]
  },
  {
   "cell_type": "code",
   "execution_count": 32,
   "metadata": {},
   "outputs": [],
   "source": [
    "edges=list(edges)"
   ]
  },
  {
   "cell_type": "code",
   "execution_count": 16,
   "metadata": {},
   "outputs": [],
   "source": [
    "id_1 = 1741"
   ]
  },
  {
   "cell_type": "code",
   "execution_count": 17,
   "metadata": {},
   "outputs": [],
   "source": [
    "id_0 = 309"
   ]
  },
  {
   "cell_type": "code",
   "execution_count": 18,
   "metadata": {},
   "outputs": [],
   "source": [
    "id_2 = 4"
   ]
  },
  {
   "cell_type": "code",
   "execution_count": 19,
   "metadata": {},
   "outputs": [],
   "source": [
    "id_3 = 4"
   ]
  },
  {
   "cell_type": "code",
   "execution_count": null,
   "metadata": {},
   "outputs": [],
   "source": []
  },
  {
   "cell_type": "code",
   "execution_count": 1,
   "metadata": {},
   "outputs": [
    {
     "ename": "NameError",
     "evalue": "name 'edges' is not defined",
     "output_type": "error",
     "traceback": [
      "\u001b[1;31m---------------------------------------------------------------------------\u001b[0m",
      "\u001b[1;31mNameError\u001b[0m                                 Traceback (most recent call last)",
      "\u001b[1;32m<ipython-input-1-8f0dc154e2d9>\u001b[0m in \u001b[0;36m<module>\u001b[1;34m\u001b[0m\n\u001b[1;32m----> 1\u001b[1;33m \u001b[0medges\u001b[0m\u001b[1;33m\u001b[0m\u001b[1;33m\u001b[0m\u001b[0m\n\u001b[0m",
      "\u001b[1;31mNameError\u001b[0m: name 'edges' is not defined"
     ]
    }
   ],
   "source": []
  },
  {
   "cell_type": "code",
   "execution_count": 18,
   "metadata": {},
   "outputs": [
    {
     "name": "stdout",
     "output_type": "stream",
     "text": [
      "309 1741 4 4\n"
     ]
    }
   ],
   "source": [
    "id_0 = idx_row_1\n",
    "id_1 = 1741\n",
    "id_2 = id_c_0\n",
    "id_3 = id_c_1\n",
    "print(id_0,id_1,id_2,id_3)"
   ]
  }
 ],
 "metadata": {
  "kernelspec": {
   "display_name": "Python 3",
   "language": "python",
   "name": "python3"
  },
  "language_info": {
   "codemirror_mode": {
    "name": "ipython",
    "version": 3
   },
   "file_extension": ".py",
   "mimetype": "text/x-python",
   "name": "python",
   "nbconvert_exporter": "python",
   "pygments_lexer": "ipython3",
   "version": "3.7.6"
  }
 },
 "nbformat": 4,
 "nbformat_minor": 4
}
