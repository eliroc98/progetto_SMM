{
 "cells": [
  {
   "cell_type": "code",
   "execution_count": 5,
   "metadata": {},
   "outputs": [],
   "source": [
    "import pandas as pd\n",
    "\n",
    "import os\n",
    "\n",
    "import numpy as np\n",
    "\n",
    "import networkx as nx\n",
    "\n",
    "import matplotlib.pyplot as plt\n",
    "\n",
    "from IPython.display import clear_output"
   ]
  },
  {
   "cell_type": "markdown",
   "metadata": {},
   "source": [
    "# nodi"
   ]
  },
  {
   "cell_type": "code",
   "execution_count": 6,
   "metadata": {},
   "outputs": [],
   "source": [
    "df_comments = pd.read_csv('data/get_comment_threads_output/comments_thread_sentiment_reduced_5.csv')"
   ]
  },
  {
   "cell_type": "code",
   "execution_count": 7,
   "metadata": {},
   "outputs": [],
   "source": [
    "user_name_set= set()\n",
    "nan_number=0\n",
    "for comment in df_comments.values:\n",
    "    if comment[2]!= None:\n",
    "        user_name_set.add(comment[2])\n",
    "    else:\n",
    "        nan_number+=1"
   ]
  },
  {
   "cell_type": "code",
   "execution_count": 8,
   "metadata": {},
   "outputs": [],
   "source": [
    "first_graph = nx.Graph()\n",
    "tot_nodes= list(user_name_set)\n",
    "#tolgo il nan\n",
    "tot_nodes = tot_nodes[1:]\n",
    "first_graph.add_nodes_from(tot_nodes)"
   ]
  },
  {
   "cell_type": "code",
   "execution_count": 9,
   "metadata": {},
   "outputs": [],
   "source": [
    "gephi_graph = nx.Graph()\n",
    "tot_nodes= list(user_name_set)\n",
    "#tolgo il nan\n",
    "tot_nodes = tot_nodes[1:]\n",
    "gephi_graph.add_nodes_from(tot_nodes)"
   ]
  },
  {
   "cell_type": "code",
   "execution_count": null,
   "metadata": {},
   "outputs": [],
   "source": []
  },
  {
   "cell_type": "markdown",
   "metadata": {},
   "source": [
    "# edge"
   ]
  },
  {
   "cell_type": "code",
   "execution_count": 10,
   "metadata": {},
   "outputs": [],
   "source": [
    "selected_percentiles = range(4,10)"
   ]
  },
  {
   "cell_type": "code",
   "execution_count": null,
   "metadata": {},
   "outputs": [
    {
     "name": "stdout",
     "output_type": "stream",
     "text": [
      "87665/703445\n"
     ]
    }
   ],
   "source": [
    "for i in range(7):\n",
    "    for j in range(4,10):\n",
    "        print('Reading file percentile_{}_{}.npy'.format(j,i))\n",
    "        edges = list(np.load('data/percentile/percentile_{}_{}.npy'.format(j,i), allow_pickle = True))\n",
    "        for idx, e in enumerate(edges):\n",
    "            print('{}/{}'.format(idx,len(edges)))\n",
    "            first_graph.add_edge(e[0][0],e[0][1],weight=e[0][2],youtubers = [item for item in e[1]['youtubers'] if item != ''], topics = e[1]['topics'], brands = e[1]['brands'], sentiment = e[1]['sentiment'])\n",
    "            gephi_graph.add_edge(e[0][0],e[0][1],weight=e[0][2])\n",
    "            clear_output(wait=True)"
   ]
  },
  {
   "cell_type": "code",
   "execution_count": 12,
   "metadata": {},
   "outputs": [],
   "source": [
    "nx.write_gexf(gephi_graph,'data/prova.gexf')"
   ]
  },
  {
   "cell_type": "code",
   "execution_count": null,
   "metadata": {},
   "outputs": [],
   "source": []
  }
 ],
 "metadata": {
  "kernelspec": {
   "display_name": "Python 3",
   "language": "python",
   "name": "python3"
  },
  "language_info": {
   "codemirror_mode": {
    "name": "ipython",
    "version": 3
   },
   "file_extension": ".py",
   "mimetype": "text/x-python",
   "name": "python",
   "nbconvert_exporter": "python",
   "pygments_lexer": "ipython3",
   "version": "3.7.6"
  }
 },
 "nbformat": 4,
 "nbformat_minor": 4
}
