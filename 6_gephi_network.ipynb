{
 "cells": [
  {
   "cell_type": "code",
   "execution_count": 5,
   "metadata": {},
   "outputs": [],
   "source": [
    "import pandas as pd\n",
    "\n",
    "import os\n",
    "\n",
    "import numpy as np\n",
    "\n",
    "import networkx as nx\n",
    "\n",
    "from IPython.display import clear_output"
   ]
  },
  {
   "cell_type": "markdown",
   "metadata": {},
   "source": [
    "# nodi"
   ]
  },
  {
   "cell_type": "code",
   "execution_count": 6,
   "metadata": {},
   "outputs": [],
   "source": [
    "df_comments = pd.read_csv('data/get_comment_threads_output/comments_thread_sentiment_reduced_5.csv')"
   ]
  },
  {
   "cell_type": "code",
   "execution_count": 7,
   "metadata": {},
   "outputs": [],
   "source": [
    "user_name_set= set()\n",
    "nan_number=0\n",
    "for comment in df_comments.values:\n",
    "    if comment[2]!= None:\n",
    "        user_name_set.add(comment[2])\n",
    "    else:\n",
    "        nan_number+=1"
   ]
  },
  {
   "cell_type": "code",
   "execution_count": 13,
   "metadata": {},
   "outputs": [],
   "source": [
    "first_graph = nx.Graph()\n",
    "tot_nodes= list(user_name_set)\n",
    "#tolgo il nan\n",
    "tot_nodes = tot_nodes[1:]\n",
    "first_graph.add_nodes_from(tot_nodes)"
   ]
  },
  {
   "cell_type": "code",
   "execution_count": 14,
   "metadata": {},
   "outputs": [],
   "source": [
    "gephi_graph = nx.Graph()\n",
    "tot_nodes= list(user_name_set)\n",
    "#tolgo il nan\n",
    "tot_nodes = tot_nodes[1:]\n",
    "gephi_graph.add_nodes_from(tot_nodes)"
   ]
  },
  {
   "cell_type": "code",
   "execution_count": null,
   "metadata": {},
   "outputs": [],
   "source": []
  },
  {
   "cell_type": "markdown",
   "metadata": {},
   "source": [
    "# edge"
   ]
  },
  {
   "cell_type": "code",
   "execution_count": 10,
   "metadata": {},
   "outputs": [],
   "source": [
    "selected_percentiles = range(4,10)"
   ]
  },
  {
   "cell_type": "code",
   "execution_count": 15,
   "metadata": {},
   "outputs": [
    {
     "name": "stdout",
     "output_type": "stream",
     "text": [
      "File percentile_9_6.npy\n",
      "10244/10245\n"
     ]
    }
   ],
   "source": [
    "for i in range(4,7):\n",
    "    for j in range(6,10):\n",
    "        edges = list(np.load('data/percentile/percentile_{}_{}.npy'.format(j,i), allow_pickle = True))\n",
    "        for idx, e in enumerate(edges):\n",
    "            print('File percentile_{}_{}.npy'.format(j,i))\n",
    "            print('{}/{}'.format(idx,len(edges)))\n",
    "            first_graph.add_edge(e[0][0],e[0][1],weight=e[0][2],youtubers = [item for item in e[1]['youtubers'] if item != ''], topics = e[1]['topics'], brands = e[1]['brands'], sentiment = e[1]['sentiment'])\n",
    "            gephi_graph.add_edge(e[0][0],e[0][1],weight=e[0][2])\n",
    "            clear_output(wait=True)"
   ]
  },
  {
   "cell_type": "code",
   "execution_count": 17,
   "metadata": {},
   "outputs": [],
   "source": [
    "gephi_graph.remove_edges_from(nx.selfloop_edges(gephi_graph))"
   ]
  },
  {
   "cell_type": "markdown",
   "metadata": {},
   "source": [
    "# unisco i grafi"
   ]
  },
  {
   "cell_type": "code",
   "execution_count": 20,
   "metadata": {},
   "outputs": [],
   "source": [
    "first_graph_1 = nx.read_gpickle('data/first_graph_1.gpickle')"
   ]
  },
  {
   "cell_type": "code",
   "execution_count": 28,
   "metadata": {},
   "outputs": [],
   "source": [
    "first_graph.add_edges_from(first_graph_1.edges)"
   ]
  },
  {
   "cell_type": "code",
   "execution_count": 29,
   "metadata": {},
   "outputs": [],
   "source": [
    "first_graph.remove_edges_from(nx.selfloop_edges(first_graph))"
   ]
  },
  {
   "cell_type": "code",
   "execution_count": 34,
   "metadata": {},
   "outputs": [],
   "source": [
    "nx.write_gpickle(first_graph,'data/first_graph.gpickle')"
   ]
  },
  {
   "cell_type": "code",
   "execution_count": 21,
   "metadata": {},
   "outputs": [],
   "source": [
    "gephi_graph_1 = nx.read_gpickle('data/gephi_graph_1.gpickle')"
   ]
  },
  {
   "cell_type": "code",
   "execution_count": 30,
   "metadata": {},
   "outputs": [],
   "source": [
    "gephi_graph.add_edges_from(gephi_graph_1.edges)"
   ]
  },
  {
   "cell_type": "code",
   "execution_count": 31,
   "metadata": {},
   "outputs": [],
   "source": [
    "gephi_graph.remove_edges_from(nx.selfloop_edges(gephi_graph))"
   ]
  },
  {
   "cell_type": "code",
   "execution_count": 35,
   "metadata": {},
   "outputs": [],
   "source": [
    "nx.write_gexf(gephi_graph,'data/gephi_graph.gexf')"
   ]
  },
  {
   "cell_type": "code",
   "execution_count": 41,
   "metadata": {},
   "outputs": [
    {
     "name": "stdout",
     "output_type": "stream",
     "text": [
      "('Jennifer Lumbra', 'Lucy Clark')\n"
     ]
    }
   ],
   "source": [
    "for e in nx.get_edge_attributes(first_graph,'youtubers'):\n",
    "    print(e)\n",
    "    break"
   ]
  },
  {
   "cell_type": "code",
   "execution_count": 46,
   "metadata": {},
   "outputs": [
    {
     "data": {
      "text/plain": [
       "['lifestyle', 'review']"
      ]
     },
     "execution_count": 46,
     "metadata": {},
     "output_type": "execute_result"
    }
   ],
   "source": [
    "first_graph['Jennifer Lumbra']['Lucy Clark']['topics']"
   ]
  },
  {
   "cell_type": "code",
   "execution_count": null,
   "metadata": {},
   "outputs": [],
   "source": []
  }
 ],
 "metadata": {
  "kernelspec": {
   "display_name": "Python 3",
   "language": "python",
   "name": "python3"
  },
  "language_info": {
   "codemirror_mode": {
    "name": "ipython",
    "version": 3
   },
   "file_extension": ".py",
   "mimetype": "text/x-python",
   "name": "python",
   "nbconvert_exporter": "python",
   "pygments_lexer": "ipython3",
   "version": "3.7.6"
  }
 },
 "nbformat": 4,
 "nbformat_minor": 4
}
