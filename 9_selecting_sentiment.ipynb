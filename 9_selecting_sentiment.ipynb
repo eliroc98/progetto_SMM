{
 "cells": [
  {
   "cell_type": "code",
   "execution_count": 1,
   "metadata": {},
   "outputs": [],
   "source": [
    "import os\n",
    "\n",
    "import numpy as np\n",
    "\n",
    "import networkx as nx\n",
    "\n",
    "import matplotlib.pyplot as plt\n",
    "\n",
    "from IPython.display import clear_output"
   ]
  },
  {
   "cell_type": "code",
   "execution_count": 4,
   "metadata": {},
   "outputs": [],
   "source": [
    "complete_graph = nx.read_gpickle('data/graphs/complete_graph.gpickle')"
   ]
  },
  {
   "cell_type": "code",
   "execution_count": 10,
   "metadata": {},
   "outputs": [],
   "source": [
    "positive_graph = nx.Graph()\n",
    "negative_graph = nx.Graph()\n",
    "positive_gephi_graph = nx.Graph()\n",
    "negative_gephi_graph = nx.Graph()"
   ]
  },
  {
   "cell_type": "code",
   "execution_count": 11,
   "metadata": {},
   "outputs": [],
   "source": [
    "positive_graph.add_nodes_from(complete_graph.nodes(data=True))\n",
    "negative_graph.add_nodes_from(complete_graph.nodes(data=True))\n",
    "positive_gephi_graph.add_nodes_from(complete_graph.nodes(data=True))\n",
    "negative_gephi_graph.add_nodes_from(complete_graph.nodes(data=True))"
   ]
  },
  {
   "cell_type": "code",
   "execution_count": 13,
   "metadata": {},
   "outputs": [],
   "source": [
    "for key_edge, value_edge in zip(complete_graph.edges.keys(),complete_graph.edges.values()):\n",
    "    #entrambi negativi\n",
    "    if value_edge['sentiment'] == 0:\n",
    "        negative_graph.add_edge(key_edge[0],key_edge[1],weight=value_edge['weight'],youtubers=value_edge['youtubers'], topics = value_edge['topics'], brands=value_edge['brands'])\n",
    "        negative_gephi_graph.add_edge(key_edge[0],key_edge[1],weight=value_edge['weight'])\n",
    "    #entrambi positivi\n",
    "    if value_edge['sentiment'] == 1:\n",
    "        positive_graph.add_edge(key_edge[0],key_edge[1],weight=value_edge['weight'],youtubers=value_edge['youtubers'], topics = value_edge['topics'], brands=value_edge['brands'])\n",
    "        positive_gephi_graph.add_edge(key_edge[0],key_edge[1],weight=value_edge['weight'])"
   ]
  },
  {
   "cell_type": "code",
   "execution_count": 14,
   "metadata": {},
   "outputs": [],
   "source": [
    "nx.write_gpickle(positive_graph,'data/graphs/positive_graph.gpickle')\n",
    "nx.write_gpickle(negative_graph,'data/graphs/negative_graph.gpickle')\n",
    "nx.write_gpickle(positive_gephi_graph,'data/graphs/positive_gephi_graph.gpickle')\n",
    "nx.write_gpickle(negative_gephi_graph,'data/graphs/negative_gephi_graph.gpickle')"
   ]
  },
  {
   "cell_type": "code",
   "execution_count": 15,
   "metadata": {},
   "outputs": [],
   "source": [
    "nx.write_gexf(positive_gephi_graph,'data/graphs/positive_gephi_graph.gexf')\n",
    "nx.write_gexf(negative_gephi_graph,'data/graphs/negative_gephi_graph.gexf')"
   ]
  },
  {
   "cell_type": "code",
   "execution_count": null,
   "metadata": {},
   "outputs": [],
   "source": []
  }
 ],
 "metadata": {
  "kernelspec": {
   "display_name": "Python 3",
   "language": "python",
   "name": "python3"
  },
  "language_info": {
   "codemirror_mode": {
    "name": "ipython",
    "version": 3
   },
   "file_extension": ".py",
   "mimetype": "text/x-python",
   "name": "python",
   "nbconvert_exporter": "python",
   "pygments_lexer": "ipython3",
   "version": "3.7.6"
  }
 },
 "nbformat": 4,
 "nbformat_minor": 4
}
