{
 "cells": [
  {
   "cell_type": "code",
   "execution_count": 1,
   "metadata": {},
   "outputs": [],
   "source": [
    "import pandas as pd\n",
    "\n",
    "import os\n",
    "\n",
    "import numpy as np\n",
    "\n",
    "import networkx as nx\n",
    "\n",
    "import matplotlib.pyplot as plt\n",
    "\n",
    "from IPython.display import clear_output\n"
   ]
  },
  {
   "cell_type": "code",
   "execution_count": 2,
   "metadata": {},
   "outputs": [],
   "source": [
    "#importo il grafo completo\n",
    "first_graph = nx.read_gpickle('data/first_graph.gpickle')"
   ]
  },
  {
   "cell_type": "code",
   "execution_count": 17,
   "metadata": {},
   "outputs": [],
   "source": [
    "gephi_graph = nx.read_gexf('data/gephi_graph.gexf')"
   ]
  },
  {
   "cell_type": "code",
   "execution_count": 3,
   "metadata": {},
   "outputs": [],
   "source": [
    "df_youtuber_videos = pd.read_csv('data/get_youtuber_videos_output/youtuber_videos.csv')\n",
    "df_youtubers = pd.read_csv('data/get_youtubers_output/youtubers.csv')\n",
    "df_comments = pd.read_csv('data/get_comment_threads_output/comments_thread_sentiment_reduced_5.csv')\n",
    "df_videos = pd.read_csv('data/get_videos_details/videos_details_computed.csv')"
   ]
  },
  {
   "cell_type": "code",
   "execution_count": 4,
   "metadata": {},
   "outputs": [],
   "source": [
    "youtuber_video_join=df_youtubers.set_index('channel_id').join(df_youtuber_videos.set_index('channel_id'), on='channel_id',lsuffix='_yt', rsuffix='_ytvd')\n",
    "youtuber_video_join = youtuber_video_join[youtuber_video_join.columns[[0,2]]]\n",
    "youtuber_video_join = youtuber_video_join.set_index('video_id').join(df_videos.set_index('video_id'),on='video_id',lsuffix='_yt', rsuffix='_ytvd')"
   ]
  },
  {
   "cell_type": "code",
   "execution_count": 5,
   "metadata": {},
   "outputs": [],
   "source": [
    "topics_set =set()\n",
    "brands_set = set()\n",
    "youtubers_set = set()"
   ]
  },
  {
   "cell_type": "code",
   "execution_count": 6,
   "metadata": {},
   "outputs": [
    {
     "name": "stdout",
     "output_type": "stream",
     "text": [
      "10576/10577\n"
     ]
    }
   ],
   "source": [
    "#per set\n",
    "for idx, n in enumerate(first_graph.nodes):\n",
    "    print('{}/{}'.format(idx,len(first_graph.nodes)))\n",
    "    clear_output(wait=True)\n",
    "    topics = []\n",
    "    brands= []\n",
    "    youtubers= []\n",
    "    user_name = n\n",
    "    video_idx = df_comments.set_index('author_display_name').loc[[user_name],['video_id']]['video_id'][0]\n",
    "    row = youtuber_video_join.loc[[video_idx],:]\n",
    "    [topics.append(item.strip()[1:-1]) for item in row['topics'][0][1:-1].split(',') if item.strip()[1:-1]!= \"\"] if type(row['topics'][0]) is str else []\n",
    "    [brands.append(item.strip()[1:-1]) for item in row['brands'][0][1:-1].split(',') if item.strip()[1:-1]!= \"\"] if type(row['brands'][0]) is str else []\n",
    "    [youtubers.append(item.strip()[1:-1]) for item in row['youtubers'][0][1:-1].split(',') if item.strip()[1:-1]!= \"\"] if type(row['youtubers'][0]) is str else []\n",
    "    if row['display_name'][0].strip()!= \"\":        \n",
    "        youtubers.append(row['display_name'][0])\n",
    "    [topics_set.add(item) for item in topics]\n",
    "    [brands_set.add(item) for item in brands]\n",
    "    [youtubers_set.add(item) for item in youtubers]\n",
    "    #first_graph.nodes[n]['topics'] = topics\n",
    "    #first_graph.nodes[n]['brands'] = brands\n",
    "    #first_graph.nodes[n]['youtubers'] = youtubers\n",
    "    "
   ]
  },
  {
   "cell_type": "code",
   "execution_count": 7,
   "metadata": {},
   "outputs": [
    {
     "data": {
      "text/plain": [
       "238"
      ]
     },
     "execution_count": 7,
     "metadata": {},
     "output_type": "execute_result"
    }
   ],
   "source": [
    "topics_complete = topics_set.union(brands_set).union(youtubers_set)\n",
    "len(topics_complete)"
   ]
  },
  {
   "cell_type": "code",
   "execution_count": 31,
   "metadata": {},
   "outputs": [],
   "source": [
    "for n in gephi_graph.nodes:\n",
    "    for t in topics_complete:\n",
    "        gephi_graph.nodes[n][t] = 0"
   ]
  },
  {
   "cell_type": "code",
   "execution_count": 8,
   "metadata": {},
   "outputs": [],
   "source": [
    "for n in first_graph.nodes:\n",
    "    for t in topics_complete:\n",
    "        first_graph.nodes[n][t] = 0"
   ]
  },
  {
   "cell_type": "code",
   "execution_count": 9,
   "metadata": {},
   "outputs": [
    {
     "name": "stdout",
     "output_type": "stream",
     "text": [
      "10576/10577\n"
     ]
    }
   ],
   "source": [
    "#per first_graph\n",
    "for idx, n in enumerate(first_graph.nodes):\n",
    "    print('{}/{}'.format(idx,len(first_graph.nodes)))\n",
    "    clear_output(wait=True)\n",
    "    topics = []\n",
    "    brands= []\n",
    "    youtubers= []\n",
    "    user_name = n\n",
    "    video_idx = df_comments.set_index('author_display_name').loc[[user_name],['video_id']]['video_id'][0]\n",
    "    row = youtuber_video_join.loc[[video_idx],:]\n",
    "    if type(row['topics'][0]) is str:\n",
    "        for item in row['topics'][0][1:-1].split(','):\n",
    "            if item.strip()[1:-1]!= \"\":\n",
    "                first_graph.nodes[n][item.strip()[1:-1]] = 1 \n",
    "    if type(row['brands'][0]) is str:\n",
    "        for item in row['brands'][0][1:-1].split(','):\n",
    "            if item.strip()[1:-1]!= \"\":\n",
    "                first_graph.nodes[n][item.strip()[1:-1]] = 1\n",
    "    if type(row['youtubers'][0]) is str:\n",
    "        for item in row['youtubers'][0][1:-1].split(','):\n",
    "            if item.strip()[1:-1]!= \"\":\n",
    "                first_graph.nodes[n][item.strip()[1:-1]] = 1 \n",
    "    if row['display_name'][0].strip()!= \"\":  \n",
    "        first_graph.nodes[n][row['display_name'][0]] = 1\n"
   ]
  },
  {
   "cell_type": "code",
   "execution_count": 10,
   "metadata": {},
   "outputs": [],
   "source": [
    "nx.write_gpickle(first_graph,'data/first_graph_node_attributes_coded.gpickle')"
   ]
  },
  {
   "cell_type": "code",
   "execution_count": 34,
   "metadata": {},
   "outputs": [
    {
     "name": "stdout",
     "output_type": "stream",
     "text": [
      "10576/10577\n"
     ]
    }
   ],
   "source": [
    "#per gephi_graph\n",
    "for idx, n in enumerate(gephi_graph.nodes):\n",
    "    print('{}/{}'.format(idx,len(gephi_graph.nodes)))\n",
    "    clear_output(wait=True)\n",
    "    topics = []\n",
    "    brands= []\n",
    "    youtubers= []\n",
    "    user_name = n\n",
    "    video_idx = df_comments.set_index('author_display_name').loc[[user_name],['video_id']]['video_id'][0]\n",
    "    row = youtuber_video_join.loc[[video_idx],:]\n",
    "    if type(row['topics'][0]) is str:\n",
    "        for item in row['topics'][0][1:-1].split(','):\n",
    "            if item.strip()[1:-1]!= \"\":\n",
    "                gephi_graph.nodes[n][item.strip()[1:-1]] = 1 \n",
    "    if type(row['brands'][0]) is str:\n",
    "        for item in row['brands'][0][1:-1].split(','):\n",
    "            if item.strip()[1:-1]!= \"\":\n",
    "                gephi_graph.nodes[n][item.strip()[1:-1]] = 1\n",
    "    if type(row['youtubers'][0]) is str:\n",
    "        for item in row['youtubers'][0][1:-1].split(','):\n",
    "            if item.strip()[1:-1]!= \"\":\n",
    "                gephi_graph.nodes[n][item.strip()[1:-1]] = 1 \n",
    "    if row['display_name'][0].strip()!= \"\":  \n",
    "        gephi_graph.nodes[n][row['display_name'][0]] = 1\n"
   ]
  },
  {
   "cell_type": "markdown",
   "metadata": {},
   "source": [
    "for n in gephi_graph.nodes:\n",
    "    del gephi_graph.nodes[n]['topics']\n",
    "    del gephi_graph.nodes[n]['brands']\n",
    "    del gephi_graph.nodes[n]['youtubers']"
   ]
  },
  {
   "cell_type": "code",
   "execution_count": 9,
   "metadata": {},
   "outputs": [],
   "source": [
    "nx.set_node_attributes(first_graph, topics, 'topics')\n",
    "nx.set_node_attributes(first_graph, brands, 'brands')\n",
    "nx.set_node_attributes(first_graph, youtubers, 'youtubers')"
   ]
  },
  {
   "cell_type": "code",
   "execution_count": 35,
   "metadata": {},
   "outputs": [],
   "source": [
    "nx.write_gpickle(gephi_graph,'data/gephi_graph_node_attributes.gpickle')"
   ]
  },
  {
   "cell_type": "code",
   "execution_count": 20,
   "metadata": {},
   "outputs": [],
   "source": [
    "nx.write_gpickle(first_graph,'data/first_graph_node_attributes.gpickle')"
   ]
  },
  {
   "cell_type": "code",
   "execution_count": 36,
   "metadata": {},
   "outputs": [],
   "source": [
    "nx.write_gexf(gephi_graph,'data/gephi_graph_node_attributes.gexf')"
   ]
  },
  {
   "cell_type": "code",
   "execution_count": null,
   "metadata": {},
   "outputs": [],
   "source": []
  }
 ],
 "metadata": {
  "kernelspec": {
   "display_name": "Python 3",
   "language": "python",
   "name": "python3"
  },
  "language_info": {
   "codemirror_mode": {
    "name": "ipython",
    "version": 3
   },
   "file_extension": ".py",
   "mimetype": "text/x-python",
   "name": "python",
   "nbconvert_exporter": "python",
   "pygments_lexer": "ipython3",
   "version": "3.7.6"
  }
 },
 "nbformat": 4,
 "nbformat_minor": 4
}
