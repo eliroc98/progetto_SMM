{
 "cells": [
  {
   "cell_type": "code",
   "execution_count": 1,
   "metadata": {},
   "outputs": [],
   "source": [
    "import os\n",
    "\n",
    "import numpy as np\n",
    "\n",
    "import networkx as nx\n",
    "\n",
    "import matplotlib.pyplot as plt\n",
    "\n",
    "from IPython.display import clear_output\n",
    "\n",
    "from statsmodels.distributions.empirical_distribution import ECDF"
   ]
  },
  {
   "cell_type": "code",
   "execution_count": 2,
   "metadata": {},
   "outputs": [],
   "source": [
    "#dict percentili\n",
    "percentili = {0.1:0,0.2:0,0.3:0,0.4:0,0.5:0,0.6:0,0.7:0,0.8:0,0.9:0,1.0:0}"
   ]
  },
  {
   "cell_type": "code",
   "execution_count": null,
   "metadata": {},
   "outputs": [
    {
     "name": "stdout",
     "output_type": "stream",
     "text": [
      "11055469/20391903 of file 1\n"
     ]
    }
   ],
   "source": [
    "for i in range(7):\n",
    "    percentili_edges = {0.1:[],0.2:[],0.3:[],0.4:[],0.5:[],0.6:[],0.7:[],0.8:[],0.9:[],1.0:[]}\n",
    "    print('_________________________________________________')\n",
    "    print('Computing file {}'.format(i))\n",
    "    edges = list(np.load('data/make_network_output/edges_var2_5_{}.npy'.format(i), allow_pickle = True))\n",
    "    print('Done with {}'.format(i))\n",
    "    for idx, e in enumerate(edges):\n",
    "        print('{}/{} of file {}'.format(idx,len(edges),i))\n",
    "        for percentile in percentili_edges.keys():\n",
    "            if e[0][2] < percentile and e[0][2]>=(percentile-0.1):\n",
    "                percentili[percentile] += 1\n",
    "                percentili_edges[percentile].append(e)\n",
    "        if e[0][2] == 1.0:\n",
    "            percentili[1.0] += 1\n",
    "            percentili_edges[1.0].append(e)\n",
    "        clear_output(wait=True)   \n",
    "    print('Printing output files')\n",
    "    for id_p, percentiles in enumerate(percentili_edges.values()):\n",
    "        np.save('data/percentile/percentile_{}_{}.npy'.format(id_p, i), percentiles)\n",
    "        \n",
    "np.save('data/percentile/counter_percentile_0.npy', percentili)"
   ]
  },
  {
   "cell_type": "markdown",
   "metadata": {},
   "source": [
    "# loading final data"
   ]
  },
  {
   "cell_type": "code",
   "execution_count": 10,
   "metadata": {},
   "outputs": [],
   "source": [
    "percentili = {0.1:0,0.2:0,0.3:0,0.4:0,0.5:0,0.6:0,0.7:0,0.8:0,0.9:0,1.0:0}\n",
    "indices = ['0','1','2_2']\n",
    "for i in range(3):\n",
    "    temp_perc = dict(np.load('data/percentile/counter_percentile_{}.npy'.format(indices[i]),allow_pickle=True).tolist())\n",
    "    for percentile in percentili.keys():\n",
    "        percentili[percentile] += temp_perc[percentile]"
   ]
  },
  {
   "cell_type": "code",
   "execution_count": 11,
   "metadata": {},
   "outputs": [
    {
     "data": {
      "text/plain": [
       "{0.1: 4091640,\n",
       " 0.2: 14118256,\n",
       " 0.3: 21763315,\n",
       " 0.4: 6735286,\n",
       " 0.5: 4844935,\n",
       " 0.6: 5746230,\n",
       " 0.7: 2673037,\n",
       " 0.8: 25675,\n",
       " 0.9: 163070,\n",
       " 1.0: 146559}"
      ]
     },
     "execution_count": 11,
     "metadata": {},
     "output_type": "execute_result"
    }
   ],
   "source": [
    "percentili"
   ]
  },
  {
   "cell_type": "code",
   "execution_count": 29,
   "metadata": {},
   "outputs": [
    {
     "name": "stdout",
     "output_type": "stream",
     "text": [
      "Printing ECDF\n",
      "vaues <= 0.09:\t4091640\n",
      "vaues <= 0.19:\t18209896\n",
      "vaues <= 0.29:\t39973211\n",
      "vaues <= 0.39:\t46708497\n",
      "vaues <= 0.49:\t51553432\n",
      "vaues <= 0.59:\t57299662\n",
      "vaues <= 0.69:\t59972699\n",
      "vaues <= 0.79:\t59998374\n",
      "vaues <= 0.89:\t60161444\n",
      "vaues <= 0.1:\t60308003\n"
     ]
    }
   ],
   "source": [
    "print('Printing ECDF')\n",
    "sums = 0\n",
    "arr_sums=[]\n",
    "for idx, percentile in enumerate(percentili.values()):\n",
    "    sums += percentile\n",
    "    if idx == 9:\n",
    "        print('vaues <= 0.1:\\t{}'.format(sums))\n",
    "        arr_sums.append(sums)\n",
    "    else:\n",
    "        print('vaues <= 0.{}9:\\t{}'.format(idx, sums))\n",
    "        arr_sums.append(sums)"
   ]
  },
  {
   "cell_type": "code",
   "execution_count": 27,
   "metadata": {},
   "outputs": [],
   "source": [
    "x = np.arange(0.09,1.0,0.1)"
   ]
  },
  {
   "cell_type": "code",
   "execution_count": 30,
   "metadata": {},
   "outputs": [
    {
     "data": {
      "text/plain": [
       "[<matplotlib.lines.Line2D at 0x1d49c3e1b08>]"
      ]
     },
     "execution_count": 30,
     "metadata": {},
     "output_type": "execute_result"
    },
    {
     "data": {
      "image/png": "[encoded data removed]",
      "text/plain": [
       "<Figure size 432x288 with 1 Axes>"
      ]
     },
     "metadata": {
      "needs_background": "light"
     },
     "output_type": "display_data"
    }
   ],
   "source": [
    "plt.plot(x,arr_sums)"
   ]
  },
  {
   "cell_type": "markdown",
   "metadata": {},
   "source": [
    "# potrei prendere i valori maggiori di 0.39"
   ]
  },
  {
   "cell_type": "code",
   "execution_count": 31,
   "metadata": {},
   "outputs": [
    {
     "data": {
      "text/plain": [
       "13599506"
      ]
     },
     "execution_count": 31,
     "metadata": {},
     "output_type": "execute_result"
    }
   ],
   "source": [
    "60308003-46708497 #link totali"
   ]
  },
  {
   "cell_type": "code",
   "execution_count": 32,
   "metadata": {},
   "outputs": [
    {
     "data": {
      "text/plain": [
       "12061600.6"
      ]
     },
     "execution_count": 32,
     "metadata": {},
     "output_type": "execute_result"
    }
   ],
   "source": [
    "60308003*20/100"
   ]
  },
  {
   "cell_type": "code",
   "execution_count": null,
   "metadata": {},
   "outputs": [],
   "source": []
  }
 ],
 "metadata": {
  "kernelspec": {
   "display_name": "Python 3",
   "language": "python",
   "name": "python3"
  },
  "language_info": {
   "codemirror_mode": {
    "name": "ipython",
    "version": 3
   },
   "file_extension": ".py",
   "mimetype": "text/x-python",
   "name": "python",
   "nbconvert_exporter": "python",
   "pygments_lexer": "ipython3",
   "version": "3.7.6"
  }
 },
 "nbformat": 4,
 "nbformat_minor": 4
}
