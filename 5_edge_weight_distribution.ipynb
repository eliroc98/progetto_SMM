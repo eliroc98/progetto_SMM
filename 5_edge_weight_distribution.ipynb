{
 "cells": [
  {
   "cell_type": "code",
   "execution_count": 1,
   "metadata": {},
   "outputs": [],
   "source": [
    "import os\n",
    "\n",
    "import numpy as np\n",
    "\n",
    "import networkx as nx\n",
    "\n",
    "import matplotlib.pyplot as plt\n",
    "\n",
    "from IPython.display import clear_output\n",
    "\n",
    "from statsmodels.distributions.empirical_distribution import ECDF"
   ]
  },
  {
   "cell_type": "markdown",
   "metadata": {},
   "source": [
    "#dict percentili\n",
    "percentili = {0.1:0,0.2:0,0.3:0,0.4:0,0.5:0,0.6:0,0.7:0,0.8:0,0.9:0,1.0:0}\n",
    "weights =[]"
   ]
  },
  {
   "cell_type": "markdown",
   "metadata": {},
   "source": [
    "for i in range(7):\n",
    "    print('_________________________________________________')\n",
    "    print('Computing file {}'.format(i))\n",
    "    edges = list(np.load('data/make_network_output/edges_var2_5_{}.npy'.format(i), allow_pickle = True))\n",
    "    print('Done with {}'.format(i))\n",
    "    for idx, e in enumerate(edges):\n",
    "        print('{}/{} of file {}'.format(idx,len(edges),i))\n",
    "        weights.append(e[0][2])\n",
    "        for percentile in percentili.keys():\n",
    "            if e[0][2] <= percentile:\n",
    "                percentili[percentile] += 1\n",
    "        clear_output(wait=True)"
   ]
  },
  {
   "cell_type": "code",
   "execution_count": 2,
   "metadata": {},
   "outputs": [],
   "source": [
    "#dict percentili\n",
    "percentili = {0.1:0,0.2:0,0.3:0,0.4:0,0.5:0,0.6:0,0.7:0,0.8:0,0.9:0,1.0:0}"
   ]
  },
  {
   "cell_type": "code",
   "execution_count": null,
   "metadata": {},
   "outputs": [
    {
     "name": "stdout",
     "output_type": "stream",
     "text": [
      "11055469/20391903 of file 1\n"
     ]
    }
   ],
   "source": [
    "for i in range(4):\n",
    "    percentili_edges = {0.1:[],0.2:[],0.3:[],0.4:[],0.5:[],0.6:[],0.7:[],0.8:[],0.9:[],1.0:[]}\n",
    "    print('_________________________________________________')\n",
    "    print('Computing file {}'.format(i))\n",
    "    edges = list(np.load('data/make_network_output/edges_var2_5_{}.npy'.format(i), allow_pickle = True))\n",
    "    print('Done with {}'.format(i))\n",
    "    for idx, e in enumerate(edges):\n",
    "        print('{}/{} of file {}'.format(idx,len(edges),i))\n",
    "        for percentile in percentili_edges.keys():\n",
    "            if e[0][2] < percentile and e[0][2]>=(percentile-0.1):\n",
    "                percentili[percentile] += 1\n",
    "                percentili_edges[percentile].append(e)\n",
    "        if e[0][2] == 1.0:\n",
    "            percentili[1.0] += 1\n",
    "            percentili_edges[1.0].append(e)\n",
    "        clear_output(wait=True)   \n",
    "    print('Printing output files')\n",
    "    for id_p, percentiles in enumerate(percentili_edges.values()):\n",
    "        np.save('data/percentile/percentile_{}_{}.npy'.format(id_p, i), percentiles)\n",
    "        \n",
    "np.save('data/percentile/counter_percentile_0.npy', percentili)"
   ]
  },
  {
   "cell_type": "code",
   "execution_count": null,
   "metadata": {},
   "outputs": [],
   "source": []
  }
 ],
 "metadata": {
  "kernelspec": {
   "display_name": "Python 3",
   "language": "python",
   "name": "python3"
  },
  "language_info": {
   "codemirror_mode": {
    "name": "ipython",
    "version": 3
   },
   "file_extension": ".py",
   "mimetype": "text/x-python",
   "name": "python",
   "nbconvert_exporter": "python",
   "pygments_lexer": "ipython3",
   "version": "3.7.6"
  }
 },
 "nbformat": 4,
 "nbformat_minor": 4
}
