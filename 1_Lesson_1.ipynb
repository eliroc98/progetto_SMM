{
 "cells": [
  {
   "cell_type": "markdown",
   "metadata": {},
   "source": [
    "# NetworkX (https://networkx.github.io/) \n",
    "\n",
    "Documentation: Tutorial and Reference\n",
    "\n",
    "\"The package provides classes for graph objects, generators to create standard graphs, IO routines for reading in existing datasets, algorithms to analyze the resulting networks and some basic drawing tools.\"\n",
    "NetworkX is included in Anaconda.\n",
    "\n",
    "Classes: CamelCase (capital letters at the start of each world)\n",
    "\n",
    "functions, methods and variable names: lower_case_underscore (lowercase with an underscore representing a space between words).\n"
   ]
  },
  {
   "cell_type": "code",
   "execution_count": 1,
   "metadata": {},
   "outputs": [],
   "source": [
    "import networkx as nx\n",
    "import numpy as np\n",
    "import matplotlib.pyplot as plt"
   ]
  },
  {
   "cell_type": "markdown",
   "metadata": {},
   "source": [
    "### Graph types\n",
    "\n",
    "4 basic graph types are provided as Phyton classes:\n",
    "\n",
    "Graph: undirected graph with self-loops, no multiple edges\n",
    "\n",
    "DiGraph: directed graph with self-loops, no multiple edges\n",
    "\n",
    "MultiGraph and MultiDigraph\n",
    "\n",
    "The graph internal data structures are based on an adjacency list representation.\n",
    "It is implemented using Python dictionary datastructures. \n",
    "The graph adjacency structure is implemented as a Python dictionary of dictionaries; \n",
    "the outer dictionary is keyed by nodes to values that are themselves dictionaries keyed by neighboring node to the edge attributes associated with that edge. \n",
    "This “dict-of-dicts” structure allows fast addition, deletion, and lookup of nodes and neighbors in large graphs.\n",
    "\n",
    "Nodes: all hashable objects except None.\n",
    "All of Python’s immutable built-in objects are hashable, while no mutable containers (such as lists or dictionaries) are.\n",
    "In addition to strings and integers any hashable Python object (except None) can represent a node, e.g. a customized node object, or even another Graph."
   ]
  },
  {
   "cell_type": "markdown",
   "metadata": {},
   "source": [
    "# Undirected Networks"
   ]
  },
  {
   "cell_type": "code",
   "execution_count": 2,
   "metadata": {},
   "outputs": [],
   "source": [
    "# Creating an empty graph\n",
    "un_graph=nx.Graph()"
   ]
  },
  {
   "cell_type": "markdown",
   "metadata": {},
   "source": [
    "### Graph view"
   ]
  },
  {
   "cell_type": "code",
   "execution_count": 3,
   "metadata": {},
   "outputs": [
    {
     "data": {
      "text/plain": [
       "NodeView(())"
      ]
     },
     "execution_count": 3,
     "metadata": {},
     "output_type": "execute_result"
    }
   ],
   "source": [
    "un_graph.nodes"
   ]
  },
  {
   "cell_type": "code",
   "execution_count": 4,
   "metadata": {},
   "outputs": [
    {
     "data": {
      "text/plain": [
       "EdgeView([])"
      ]
     },
     "execution_count": 4,
     "metadata": {},
     "output_type": "execute_result"
    }
   ],
   "source": [
    "un_graph.edges"
   ]
  },
  {
   "cell_type": "code",
   "execution_count": 5,
   "metadata": {},
   "outputs": [
    {
     "data": {
      "text/plain": [
       "AdjacencyView({})"
      ]
     },
     "execution_count": 5,
     "metadata": {},
     "output_type": "execute_result"
    }
   ],
   "source": [
    "un_graph.adj"
   ]
  },
  {
   "cell_type": "markdown",
   "metadata": {},
   "source": [
    "### Add and remove nodes and edges\n"
   ]
  },
  {
   "cell_type": "code",
   "execution_count": 6,
   "metadata": {},
   "outputs": [],
   "source": [
    "# Add a node\n",
    "un_graph.add_node(1)"
   ]
  },
  {
   "cell_type": "code",
   "execution_count": 7,
   "metadata": {},
   "outputs": [
    {
     "name": "stdout",
     "output_type": "stream",
     "text": [
      "[1]\n",
      "[]\n",
      "{1: {}}\n"
     ]
    }
   ],
   "source": [
    "print(un_graph.nodes)\n",
    "print(un_graph.edges)\n",
    "print(un_graph.adj)"
   ]
  },
  {
   "cell_type": "code",
   "execution_count": 8,
   "metadata": {},
   "outputs": [],
   "source": [
    "# Add nodes from a container suc as list, dict, lines from a file, nodes from another graphist\n",
    "un_graph.add_nodes_from([2,3])\n",
    "un_graph.add_nodes_from(range(4,8))\n",
    "graph_1=nx.Graph()\n",
    "graph_1.add_nodes_from([8,9,10])\n",
    "un_graph.add_nodes_from(graph_1)"
   ]
  },
  {
   "cell_type": "code",
   "execution_count": 9,
   "metadata": {},
   "outputs": [
    {
     "name": "stdout",
     "output_type": "stream",
     "text": [
      "[1, 2, 3, 4, 5, 6, 7, 8, 9, 10]\n",
      "[]\n",
      "{1: {}, 2: {}, 3: {}, 4: {}, 5: {}, 6: {}, 7: {}, 8: {}, 9: {}, 10: {}}\n"
     ]
    }
   ],
   "source": [
    "print(un_graph.nodes)\n",
    "print(un_graph.edges)\n",
    "print(un_graph.adj)"
   ]
  },
  {
   "cell_type": "code",
   "execution_count": 10,
   "metadata": {},
   "outputs": [],
   "source": [
    "# Add edges\n",
    "un_graph.add_edge(1,2)\n",
    "un_graph.add_edges_from([(2,3),(3,4),(1,3),(1,5),(5,2),(2,5)])\n",
    "e=(4,5)\n",
    "un_graph.add_edge(*e) #unpack edge tuple"
   ]
  },
  {
   "cell_type": "code",
   "execution_count": 11,
   "metadata": {},
   "outputs": [
    {
     "name": "stdout",
     "output_type": "stream",
     "text": [
      "N:  [1, 2, 3, 4, 5, 6, 7, 8, 9, 10]\n",
      "L:  [(1, 2), (1, 3), (1, 5), (2, 3), (2, 5), (3, 4), (4, 5)]\n",
      "Adj list:  {1: {2: {}, 3: {}, 5: {}}, 2: {1: {}, 3: {}, 5: {}}, 3: {2: {}, 4: {}, 1: {}}, 4: {3: {}, 5: {}}, 5: {1: {}, 2: {}, 4: {}}, 6: {}, 7: {}, 8: {}, 9: {}, 10: {}}\n",
      "Adj list node 1:  {2: {}, 3: {}, 5: {}}\n"
     ]
    }
   ],
   "source": [
    "print('N: ',un_graph.nodes)\n",
    "print('L: ',un_graph.edges)    #note nodes order (5,2) and removed double links (2,5) and (5,2)\n",
    "print('Adj list: ',un_graph.adj)\n",
    "print('Adj list node 1: ',un_graph.adj[1])"
   ]
  },
  {
   "cell_type": "code",
   "execution_count": 12,
   "metadata": {},
   "outputs": [],
   "source": [
    "# Remove a node\n",
    "un_graph.remove_node(10)\n",
    "    \n",
    "# Remove nodes from a container suc as list, dict, lines from a file, nodes from another graphist\n",
    "un_graph.remove_nodes_from([8,9])\n",
    "  \n",
    "# Remove edges\n",
    "un_graph.remove_edge(1,2)\n",
    "un_graph.remove_edges_from([(2,3),(3,4),(5,2)])"
   ]
  },
  {
   "cell_type": "code",
   "execution_count": 13,
   "metadata": {},
   "outputs": [
    {
     "name": "stdout",
     "output_type": "stream",
     "text": [
      "N:  [1, 2, 3, 4, 5, 6, 7]\n",
      "L:  [(1, 3), (1, 5), (4, 5)]\n",
      "number of nodes:  7\n",
      "number of links:  3\n"
     ]
    }
   ],
   "source": [
    "print('N: ',un_graph.nodes)\n",
    "print('L: ',un_graph.edges)    #note: link (5,2)=(2,5) removed\n",
    "print('number of nodes: ',un_graph.number_of_nodes())\n",
    "print('number of links: ',un_graph.number_of_edges())"
   ]
  },
  {
   "cell_type": "code",
   "execution_count": 14,
   "metadata": {},
   "outputs": [
    {
     "name": "stdout",
     "output_type": "stream",
     "text": [
      "[1, 2, 3, 4, 5, 6, 7]\n",
      "[(1, 3), (1, 5), (4, 5)]\n",
      "[3, 5]\n"
     ]
    }
   ],
   "source": [
    "list_nodes=list(un_graph.nodes)\n",
    "list_edges=list(un_graph.edges)\n",
    "list_neighbors_1=list(un_graph.adj[1])\n",
    "list_neighbors_1=list(un_graph[1]) # equivalente alla riga precedente\n",
    "print(list_nodes)\n",
    "print(list_edges)\n",
    "print(list_neighbors_1)"
   ]
  },
  {
   "cell_type": "markdown",
   "metadata": {},
   "source": [
    "# Exercize: build the directed and undirected network of your best friends\n",
    "Inner part of your ego-network"
   ]
  },
  {
   "cell_type": "markdown",
   "metadata": {},
   "source": [
    "# Directed Networks \n",
    "\n",
    "(same as Undirected networks + predecessors and successors)"
   ]
  },
  {
   "cell_type": "code",
   "execution_count": 15,
   "metadata": {},
   "outputs": [],
   "source": [
    "# Creating an empty graph\n",
    "di_graph=nx.DiGraph()"
   ]
  },
  {
   "cell_type": "markdown",
   "metadata": {},
   "source": [
    "### Graph view"
   ]
  },
  {
   "cell_type": "code",
   "execution_count": 16,
   "metadata": {},
   "outputs": [
    {
     "data": {
      "text/plain": [
       "NodeView(())"
      ]
     },
     "execution_count": 16,
     "metadata": {},
     "output_type": "execute_result"
    }
   ],
   "source": [
    "di_graph.nodes"
   ]
  },
  {
   "cell_type": "code",
   "execution_count": 17,
   "metadata": {},
   "outputs": [
    {
     "data": {
      "text/plain": [
       "OutEdgeView([])"
      ]
     },
     "execution_count": 17,
     "metadata": {},
     "output_type": "execute_result"
    }
   ],
   "source": [
    "di_graph.edges"
   ]
  },
  {
   "cell_type": "code",
   "execution_count": 18,
   "metadata": {},
   "outputs": [
    {
     "data": {
      "text/plain": [
       "AdjacencyView({})"
      ]
     },
     "execution_count": 18,
     "metadata": {},
     "output_type": "execute_result"
    }
   ],
   "source": [
    "di_graph.adj"
   ]
  },
  {
   "cell_type": "markdown",
   "metadata": {},
   "source": [
    "### Add and remove nodes and edges\n"
   ]
  },
  {
   "cell_type": "code",
   "execution_count": 19,
   "metadata": {},
   "outputs": [],
   "source": [
    "# Add a node\n",
    "di_graph.add_node(1)"
   ]
  },
  {
   "cell_type": "code",
   "execution_count": 20,
   "metadata": {},
   "outputs": [
    {
     "name": "stdout",
     "output_type": "stream",
     "text": [
      "[1]\n",
      "[]\n",
      "{1: {}}\n"
     ]
    }
   ],
   "source": [
    "print(di_graph.nodes)\n",
    "print(di_graph.edges)\n",
    "print(di_graph.adj)"
   ]
  },
  {
   "cell_type": "code",
   "execution_count": 21,
   "metadata": {},
   "outputs": [],
   "source": [
    "# Add nodes from a container suc as list, dict, lines from a file, nodes from another graphist\n",
    "di_graph.add_nodes_from([2,3])\n",
    "di_graph.add_nodes_from(range(4,8))\n",
    "graph_2=nx.DiGraph()\n",
    "graph_2.add_nodes_from([8,9,10])\n",
    "di_graph.add_nodes_from(graph_2)"
   ]
  },
  {
   "cell_type": "code",
   "execution_count": 22,
   "metadata": {},
   "outputs": [
    {
     "name": "stdout",
     "output_type": "stream",
     "text": [
      "[1, 2, 3, 4, 5, 6, 7, 8, 9, 10]\n",
      "[]\n",
      "{1: {}, 2: {}, 3: {}, 4: {}, 5: {}, 6: {}, 7: {}, 8: {}, 9: {}, 10: {}}\n"
     ]
    }
   ],
   "source": [
    "print(di_graph.nodes)\n",
    "print(di_graph.edges)\n",
    "print(di_graph.adj)"
   ]
  },
  {
   "cell_type": "code",
   "execution_count": 23,
   "metadata": {},
   "outputs": [],
   "source": [
    "# Add edges\n",
    "di_graph.add_edge(1,2)\n",
    "di_graph.add_edges_from([(2,3),(3,4),(1,3),(1,5),(5,2),(2,5)])\n",
    "e=(4,5)\n",
    "di_graph.add_edge(*e) #unpack edge tuple"
   ]
  },
  {
   "cell_type": "code",
   "execution_count": 24,
   "metadata": {},
   "outputs": [
    {
     "name": "stdout",
     "output_type": "stream",
     "text": [
      "N:  [1, 2, 3, 4, 5, 6, 7, 8, 9, 10]\n",
      "L:  [(1, 2), (1, 3), (1, 5), (2, 3), (2, 5), (3, 4), (4, 5), (5, 2)]\n",
      "Adj list:  {1: {2: {}, 3: {}, 5: {}}, 2: {3: {}, 5: {}}, 3: {4: {}}, 4: {5: {}}, 5: {2: {}}, 6: {}, 7: {}, 8: {}, 9: {}, 10: {}}\n",
      "Adj list node 2:  {3: {}, 5: {}}\n"
     ]
    }
   ],
   "source": [
    "print('N: ',di_graph.nodes)\n",
    "print('L: ',di_graph.edges)\n",
    "print('Adj list: ',di_graph.adj)   #note: both (2,5) and (5,2)\n",
    "print('Adj list node 2: ',di_graph.adj[2])"
   ]
  },
  {
   "cell_type": "code",
   "execution_count": 25,
   "metadata": {},
   "outputs": [],
   "source": [
    "# Remove a node\n",
    "di_graph.remove_node(10)\n",
    "    \n",
    "# Remove nodes from a container suc as list, dict, lines from a file, nodes from another graphist\n",
    "di_graph.remove_nodes_from([8,9])\n",
    "  \n",
    "# Remove edges\n",
    "di_graph.remove_edge(1,2)\n",
    "di_graph.remove_edges_from([(2,3),(3,4),(2,5)])"
   ]
  },
  {
   "cell_type": "code",
   "execution_count": 26,
   "metadata": {},
   "outputs": [
    {
     "name": "stdout",
     "output_type": "stream",
     "text": [
      "N:  [1, 2, 3, 4, 5, 6, 7]\n",
      "L:  [(1, 3), (1, 5), (4, 5), (5, 2)]\n",
      "number of nodes:  7\n",
      "number of links:  4\n"
     ]
    }
   ],
   "source": [
    "print('N: ',di_graph.nodes)\n",
    "print('L: ',di_graph.edges)\n",
    "print('number of nodes: ',di_graph.number_of_nodes())\n",
    "print('number of links: ',di_graph.number_of_edges())"
   ]
  },
  {
   "cell_type": "code",
   "execution_count": 27,
   "metadata": {},
   "outputs": [
    {
     "name": "stdout",
     "output_type": "stream",
     "text": [
      "[1, 2, 3, 4, 5, 6, 7]\n",
      "[(1, 3), (1, 5), (4, 5), (5, 2)]\n",
      "[2]\n",
      "successors [2]\n",
      "predecessors [1, 4]\n"
     ]
    }
   ],
   "source": [
    "di_list_nodes=list(di_graph.nodes)\n",
    "di_list_edges=list(di_graph.edges)\n",
    "di_list_neighbors_5=list(di_graph.adj[5])\n",
    "di_list_neighbors_5=list(di_graph[5]) # equivalente alla riga precedente\n",
    "di_list_predecessors_5=list(di_graph.predecessors(5)) #note: neighbors = successors\n",
    "di_list_successors_5=list(di_graph.successors(5))\n",
    "print(di_list_nodes)\n",
    "print(di_list_edges)\n",
    "print(di_list_neighbors_5)\n",
    "print(\"successors\",di_list_successors_5)\n",
    "print(\"predecessors\",di_list_predecessors_5)"
   ]
  }
 ],
 "metadata": {
  "kernelspec": {
   "display_name": "Python 3",
   "language": "python",
   "name": "python3"
  },
  "language_info": {
   "codemirror_mode": {
    "name": "ipython",
    "version": 3
   },
   "file_extension": ".py",
   "mimetype": "text/x-python",
   "name": "python",
   "nbconvert_exporter": "python",
   "pygments_lexer": "ipython3",
   "version": "3.7.6"
  }
 },
 "nbformat": 4,
 "nbformat_minor": 2
}
