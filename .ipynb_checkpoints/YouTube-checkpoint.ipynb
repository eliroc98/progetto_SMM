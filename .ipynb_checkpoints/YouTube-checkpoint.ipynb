{
 "cells": [
  {
   "cell_type": "code",
   "execution_count": null,
   "metadata": {},
   "outputs": [],
   "source": [
    "##\n",
    "# Package da installare\n",
    "#\n",
    "# pip install --upgrade google-api-python-client\n",
    "#\n",
    "# pip install --upgrade google-auth-oauthlib google-auth-httplib2"
   ]
  },
  {
   "cell_type": "code",
   "execution_count": 1,
   "metadata": {},
   "outputs": [],
   "source": [
    "import os\n",
    "import json\n",
    "\n",
    "import googleapiclient.discovery #NB modulo fondamentale per GoogleAPI\n",
    "import googleapiclient.errors "
   ]
  },
  {
   "cell_type": "markdown",
   "metadata": {},
   "source": [
    "Documentazione YouTube Data API v3: https://developers.google.com/youtube/v3/docs/"
   ]
  },
  {
   "cell_type": "code",
   "execution_count": 2,
   "metadata": {},
   "outputs": [],
   "source": [
    "chiave_youtube = json.load(open('key.json','r'))['youtube']['key']"
   ]
  },
  {
   "cell_type": "code",
   "execution_count": 3,
   "metadata": {},
   "outputs": [],
   "source": [
    "youtube = googleapiclient.discovery.build('youtube',\"v3\", developerKey = chiave_youtube)"
   ]
  },
  {
   "cell_type": "code",
   "execution_count": 14,
   "metadata": {},
   "outputs": [],
   "source": [
    "request = youtube.channels().list(\n",
    "        part=\"snippet,contentDetails,statistics\",\n",
    "        id=\"UC_yfE6hgWx4FBDCz1PmLjxw\"\n",
    ")\n",
    "response = request.execute()"
   ]
  },
  {
   "cell_type": "code",
   "execution_count": 15,
   "metadata": {},
   "outputs": [
    {
     "name": "stdout",
     "output_type": "stream",
     "text": [
      "<class 'dict'>\n",
      "{'kind': 'youtube#channelListResponse', 'etag': '\"nxOHAKTVB7baOKsQgTtJIyGxcs8/l6UYKNa-gZNt9yxC_c0-H_YDoVA\"', 'pageInfo': {'totalResults': 1, 'resultsPerPage': 1}, 'items': [{'kind': 'youtube#channel', 'etag': '\"nxOHAKTVB7baOKsQgTtJIyGxcs8/rUShJEjomhrua8mAvefS7UAvb5o\"', 'id': 'UC_yfE6hgWx4FBDCz1PmLjxw', 'snippet': {'title': 'Grana Padano DOP', 'description': 'La pagina ufficiale del Grana Padano, il formaggio DOP più consumato nel mondo.', 'publishedAt': '2012-07-24T16:22:33.000Z', 'thumbnails': {'default': {'url': 'https://yt3.ggpht.com/a/AATXAJxm1KKGXhCoQ2WMp6owrTER7c3V7bV2CwtXNA=s88-c-k-c0xffffffff-no-rj-mo', 'width': 88, 'height': 88}, 'medium': {'url': 'https://yt3.ggpht.com/a/AATXAJxm1KKGXhCoQ2WMp6owrTER7c3V7bV2CwtXNA=s240-c-k-c0xffffffff-no-rj-mo', 'width': 240, 'height': 240}, 'high': {'url': 'https://yt3.ggpht.com/a/AATXAJxm1KKGXhCoQ2WMp6owrTER7c3V7bV2CwtXNA=s800-c-k-c0xffffffff-no-rj-mo', 'width': 800, 'height': 800}}, 'localized': {'title': 'Grana Padano DOP', 'description': 'La pagina ufficiale del Grana Padano, il formaggio DOP più consumato nel mondo.'}}, 'contentDetails': {'relatedPlaylists': {'uploads': 'UU_yfE6hgWx4FBDCz1PmLjxw', 'watchHistory': 'HL', 'watchLater': 'WL'}}, 'statistics': {'viewCount': '837610', 'commentCount': '0', 'subscriberCount': '1130', 'hiddenSubscriberCount': False, 'videoCount': '334'}}]}\n"
     ]
    }
   ],
   "source": [
    "print(type(response))\n",
    "print(response)"
   ]
  },
  {
   "cell_type": "code",
   "execution_count": 6,
   "metadata": {},
   "outputs": [
    {
     "data": {
      "text/plain": [
       "[]"
      ]
     },
     "execution_count": 6,
     "metadata": {},
     "output_type": "execute_result"
    }
   ],
   "source": [
    "response['items']"
   ]
  },
  {
   "cell_type": "code",
   "execution_count": 7,
   "metadata": {},
   "outputs": [
    {
     "data": {
      "text/plain": [
       "'La pagina ufficiale del Grana Padano, il formaggio DOP più consumato nel mondo.'"
      ]
     },
     "execution_count": 7,
     "metadata": {},
     "output_type": "execute_result"
    }
   ],
   "source": [
    "response['items'][0]['snippet']['description']"
   ]
  },
  {
   "cell_type": "code",
   "execution_count": null,
   "metadata": {},
   "outputs": [],
   "source": []
  }
 ],
 "metadata": {
  "kernelspec": {
   "display_name": "Python 3",
   "language": "python",
   "name": "python3"
  },
  "language_info": {
   "codemirror_mode": {
    "name": "ipython",
    "version": 3
   },
   "file_extension": ".py",
   "mimetype": "text/x-python",
   "name": "python",
   "nbconvert_exporter": "python",
   "pygments_lexer": "ipython3",
   "version": "3.7.6"
  }
 },
 "nbformat": 4,
 "nbformat_minor": 2
}
