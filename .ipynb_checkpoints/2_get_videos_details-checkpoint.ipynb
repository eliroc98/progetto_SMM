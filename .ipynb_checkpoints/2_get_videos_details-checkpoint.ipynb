{
 "cells": [
  {
   "cell_type": "code",
   "execution_count": 1,
   "metadata": {},
   "outputs": [],
   "source": [
    "import pandas as pd\n",
    "\n",
    "import requests \n",
    "\n",
    "import os\n",
    "\n",
    "import json\n",
    "\n",
    "import googleapiclient.discovery\n",
    "import googleapiclient.errors"
   ]
  },
  {
   "cell_type": "code",
   "execution_count": 5,
   "metadata": {},
   "outputs": [],
   "source": [
    "df_videos = pd.read_csv('data/get_youtuber_videos_output/youtuber_videos.csv')"
   ]
  },
  {
   "cell_type": "code",
   "execution_count": 6,
   "metadata": {},
   "outputs": [],
   "source": [
    "chiave_yt = json.load(open('key.json', 'r'))['youtube']['key']\n",
    "youtube = googleapiclient.discovery.build('youtube', 'v3', developerKey=chiave_yt)"
   ]
  },
  {
   "cell_type": "code",
   "execution_count": 7,
   "metadata": {},
   "outputs": [],
   "source": [
    "#modifica indice\n",
    "df_videos = df_videos[:1600]"
   ]
  },
  {
   "cell_type": "code",
   "execution_count": 8,
   "metadata": {},
   "outputs": [
    {
     "data": {
      "text/html": [
       "<div>\n",
       "<style scoped>\n",
       "    .dataframe tbody tr th:only-of-type {\n",
       "        vertical-align: middle;\n",
       "    }\n",
       "\n",
       "    .dataframe tbody tr th {\n",
       "        vertical-align: top;\n",
       "    }\n",
       "\n",
       "    .dataframe thead th {\n",
       "        text-align: right;\n",
       "    }\n",
       "</style>\n",
       "<table border=\"1\" class=\"dataframe\">\n",
       "  <thead>\n",
       "    <tr style=\"text-align: right;\">\n",
       "      <th></th>\n",
       "      <th>channel_id</th>\n",
       "      <th>video_id</th>\n",
       "    </tr>\n",
       "  </thead>\n",
       "  <tbody>\n",
       "    <tr>\n",
       "      <td>0</td>\n",
       "      <td>UCkvK_5omS-42Ovgah8KRKtg</td>\n",
       "      <td>WyUyJKm-MiY</td>\n",
       "    </tr>\n",
       "    <tr>\n",
       "      <td>1</td>\n",
       "      <td>UCkvK_5omS-42Ovgah8KRKtg</td>\n",
       "      <td>5mUQo6lQG-U</td>\n",
       "    </tr>\n",
       "    <tr>\n",
       "      <td>2</td>\n",
       "      <td>UCkvK_5omS-42Ovgah8KRKtg</td>\n",
       "      <td>QhbR5TEAMco</td>\n",
       "    </tr>\n",
       "    <tr>\n",
       "      <td>3</td>\n",
       "      <td>UCkvK_5omS-42Ovgah8KRKtg</td>\n",
       "      <td>3qYykmHx5gc</td>\n",
       "    </tr>\n",
       "    <tr>\n",
       "      <td>4</td>\n",
       "      <td>UCkvK_5omS-42Ovgah8KRKtg</td>\n",
       "      <td>SxixuClI2vA</td>\n",
       "    </tr>\n",
       "    <tr>\n",
       "      <td>...</td>\n",
       "      <td>...</td>\n",
       "      <td>...</td>\n",
       "    </tr>\n",
       "    <tr>\n",
       "      <td>1595</td>\n",
       "      <td>UCUpBD3hn1sllKTnxG7KKCww</td>\n",
       "      <td>A-ZXP9vN7hg</td>\n",
       "    </tr>\n",
       "    <tr>\n",
       "      <td>1596</td>\n",
       "      <td>UCUpBD3hn1sllKTnxG7KKCww</td>\n",
       "      <td>LYHs9j3-bG4</td>\n",
       "    </tr>\n",
       "    <tr>\n",
       "      <td>1597</td>\n",
       "      <td>UCUpBD3hn1sllKTnxG7KKCww</td>\n",
       "      <td>qrWkDwpqAEI</td>\n",
       "    </tr>\n",
       "    <tr>\n",
       "      <td>1598</td>\n",
       "      <td>UCUpBD3hn1sllKTnxG7KKCww</td>\n",
       "      <td>6OUQi5ymq7o</td>\n",
       "    </tr>\n",
       "    <tr>\n",
       "      <td>1599</td>\n",
       "      <td>UCUpBD3hn1sllKTnxG7KKCww</td>\n",
       "      <td>EuqQv-7AJ1o</td>\n",
       "    </tr>\n",
       "  </tbody>\n",
       "</table>\n",
       "<p>1600 rows × 2 columns</p>\n",
       "</div>"
      ],
      "text/plain": [
       "                    channel_id     video_id\n",
       "0     UCkvK_5omS-42Ovgah8KRKtg  WyUyJKm-MiY\n",
       "1     UCkvK_5omS-42Ovgah8KRKtg  5mUQo6lQG-U\n",
       "2     UCkvK_5omS-42Ovgah8KRKtg  QhbR5TEAMco\n",
       "3     UCkvK_5omS-42Ovgah8KRKtg  3qYykmHx5gc\n",
       "4     UCkvK_5omS-42Ovgah8KRKtg  SxixuClI2vA\n",
       "...                        ...          ...\n",
       "1595  UCUpBD3hn1sllKTnxG7KKCww  A-ZXP9vN7hg\n",
       "1596  UCUpBD3hn1sllKTnxG7KKCww  LYHs9j3-bG4\n",
       "1597  UCUpBD3hn1sllKTnxG7KKCww  qrWkDwpqAEI\n",
       "1598  UCUpBD3hn1sllKTnxG7KKCww  6OUQi5ymq7o\n",
       "1599  UCUpBD3hn1sllKTnxG7KKCww  EuqQv-7AJ1o\n",
       "\n",
       "[1600 rows x 2 columns]"
      ]
     },
     "execution_count": 8,
     "metadata": {},
     "output_type": "execute_result"
    }
   ],
   "source": []
  },
  {
   "cell_type": "code",
   "execution_count": null,
   "metadata": {},
   "outputs": [],
   "source": []
  }
 ],
 "metadata": {
  "kernelspec": {
   "display_name": "Python 3",
   "language": "python",
   "name": "python3"
  },
  "language_info": {
   "codemirror_mode": {
    "name": "ipython",
    "version": 3
   },
   "file_extension": ".py",
   "mimetype": "text/x-python",
   "name": "python",
   "nbconvert_exporter": "python",
   "pygments_lexer": "ipython3",
   "version": "3.7.4"
  }
 },
 "nbformat": 4,
 "nbformat_minor": 2
}
