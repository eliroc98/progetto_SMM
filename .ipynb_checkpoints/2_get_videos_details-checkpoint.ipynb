{
 "cells": [
  {
   "cell_type": "code",
   "execution_count": 1,
   "metadata": {},
   "outputs": [],
   "source": [
    "import pandas as pd\n",
    "\n",
    "import requests \n",
    "\n",
    "import os\n",
    "\n",
    "import json\n",
    "\n",
    "import googleapiclient.discovery\n",
    "import googleapiclient.errors"
   ]
  },
  {
   "cell_type": "code",
   "execution_count": 2,
   "metadata": {},
   "outputs": [],
   "source": [
    "df_videos = pd.read_csv('data/get_youtuber_videos_output/youtuber_videos.csv')"
   ]
  },
  {
   "cell_type": "code",
   "execution_count": 3,
   "metadata": {},
   "outputs": [],
   "source": [
    "chiave_yt = json.load(open('key.json', 'r'))['youtube']['key']\n",
    "youtube = googleapiclient.discovery.build('youtube', 'v3', developerKey=chiave_yt)"
   ]
  },
  {
   "cell_type": "code",
   "execution_count": 4,
   "metadata": {},
   "outputs": [],
   "source": [
    "#modifica indice\n",
    "df_videos = df_videos[:1600]"
   ]
  },
  {
   "cell_type": "code",
   "execution_count": 19,
   "metadata": {},
   "outputs": [],
   "source": [
    "def get_infos(response):\n",
    "    title= description= category_id=relevant_topic_ids=relevant_topic_categories = None\n",
    "    try:\n",
    "        snippet = response['items'][0]['snippet']\n",
    "        title = snippet['title']\n",
    "        description = snippet['description']\n",
    "        category_id = snippet['categoryId']\n",
    "    except KeyError as e:\n",
    "        print(e.args[0])\n",
    "    try:\n",
    "        topicDetails = response['items'][0]['topicDetails']\n",
    "        relevant_topic_ids = topicDetails['relevantTopicIds']\n",
    "        relevant_topic_categories = topicDetails['topicCategories']\n",
    "    except KeyError as e:\n",
    "        print(e.args[0])\n",
    "    return title, description, category_id,relevant_topic_ids,relevant_topic_categories"
   ]
  },
  {
   "cell_type": "code",
   "execution_count": 20,
   "metadata": {},
   "outputs": [
    {
     "name": "stdout",
     "output_type": "stream",
     "text": [
      "_________________________________________\n",
      "0 Video: WyUyJKm-MiY\n",
      "{'kind': 'youtube#video', 'etag': '\"Dn5xIderbhAnUk5TAW0qkFFir0M/1aXdfSWOYkop5mV_gphMsiuk3yI\"', 'id': 'WyUyJKm-MiY', 'snippet': {'publishedAt': '2020-04-25T16:01:00.000Z', 'channelId': 'UCkvK_5omS-42Ovgah8KRKtg', 'title': 'Reacting to MEAN Tik Toks About Me (This Crossed The Line!)', 'description': \"Today we are diving into the OTHER side of Tik Tok... A few weeks ago I FINALLY got an account and watched the top 'Jeffree Star' videos.. Now I'm going to watch all the MEAN and over the top Tik Tok's of me and give my reactions. Some were very uncomfortable and embarrassing.. Nothing new haha Love you Star Family!\\n\\nWANT MORE? 🔨 Watch My UPDATED HOUSE TOUR: Single & Quarantined - https://bit.ly/2xLZIHM\\n💕 WATCH MY MCLAREN 570S GET TRANSFORMED HOT PINK: https://bit.ly/3dzNtOY\\n\\n+ FOLLOW ME ON TIK TOK: https://www.tiktok.com/@jeffreestar\\n*SHOP: http://www.jeffreestarcosmetics.com\\n+ FOLLOW MY BRAND ON Instagram: http://instagram.com/jeffreestarcosmetics\\n+FOLLOW ME ON IG: http://instagram.com/jeffreestar\\n+ SNAPCHAT: jeffreedahmer\\n+ TWITTER: @jeffreestar\\n\\nWATCH MORE VIDEOS...................❤️\\n\\n🔮 WATCH FULL FACE OF BRANDS THAT HATE ME  ► https://bit.ly/2O6GgJi\\n\\n💜 WATCH THE SHANE x JEFFREE COLLECTION REVEAL ▷ https://bit.ly/39oZuDS\\n\\n💉 WATCH ME GET BOTOX BEFORE THE LOCKDOWN ▷ https://bit.ly/2wHzUw9\", 'thumbnails': {'default': {'url': 'https://i.ytimg.com/vi/WyUyJKm-MiY/default.jpg', 'width': 120, 'height': 90}, 'medium': {'url': 'https://i.ytimg.com/vi/WyUyJKm-MiY/mqdefault.jpg', 'width': 320, 'height': 180}, 'high': {'url': 'https://i.ytimg.com/vi/WyUyJKm-MiY/hqdefault.jpg', 'width': 480, 'height': 360}, 'standard': {'url': 'https://i.ytimg.com/vi/WyUyJKm-MiY/sddefault.jpg', 'width': 640, 'height': 480}, 'maxres': {'url': 'https://i.ytimg.com/vi/WyUyJKm-MiY/maxresdefault.jpg', 'width': 1280, 'height': 720}}, 'channelTitle': 'jeffreestar', 'tags': ['jeffree star', 'reacting to tik toks about me', 'jeffree star cosmetics', 'jeffree star tik tok', 'jeffree star approved', 'jeffree star house tour', 'jeffree star pink car', 'mr beast', \"Charli D'Amelio\", 'addison rae', 'shane dawson', 'ryland adams', 'jeffree star reacting', 'dolan twins', 'faze rug', 'jeffree star mirror'], 'categoryId': '24', 'liveBroadcastContent': 'none', 'defaultLanguage': 'en', 'localized': {'title': 'Reacting to MEAN Tik Toks About Me (This Crossed The Line!)', 'description': \"Today we are diving into the OTHER side of Tik Tok... A few weeks ago I FINALLY got an account and watched the top 'Jeffree Star' videos.. Now I'm going to watch all the MEAN and over the top Tik Tok's of me and give my reactions. Some were very uncomfortable and embarrassing.. Nothing new haha Love you Star Family!\\n\\nWANT MORE? 🔨 Watch My UPDATED HOUSE TOUR: Single & Quarantined - https://bit.ly/2xLZIHM\\n💕 WATCH MY MCLAREN 570S GET TRANSFORMED HOT PINK: https://bit.ly/3dzNtOY\\n\\n+ FOLLOW ME ON TIK TOK: https://www.tiktok.com/@jeffreestar\\n*SHOP: http://www.jeffreestarcosmetics.com\\n+ FOLLOW MY BRAND ON Instagram: http://instagram.com/jeffreestarcosmetics\\n+FOLLOW ME ON IG: http://instagram.com/jeffreestar\\n+ SNAPCHAT: jeffreedahmer\\n+ TWITTER: @jeffreestar\\n\\nWATCH MORE VIDEOS...................❤️\\n\\n🔮 WATCH FULL FACE OF BRANDS THAT HATE ME  ► https://bit.ly/2O6GgJi\\n\\n💜 WATCH THE SHANE x JEFFREE COLLECTION REVEAL ▷ https://bit.ly/39oZuDS\\n\\n💉 WATCH ME GET BOTOX BEFORE THE LOCKDOWN ▷ https://bit.ly/2wHzUw9\"}, 'defaultAudioLanguage': 'en'}}\n",
      "topicDetails\n"
     ]
    }
   ],
   "source": [
    "videos_details = []\n",
    "for idx, video in enumerate(df_videos['video_id'].values):\n",
    "    print('_________________________________________')\n",
    "    print('{} Video: {}'.format(idx, video))\n",
    "    request = youtube.videos().list(\n",
    "        part=\"snippet,topicDetails\",\n",
    "        id=video\n",
    "    )\n",
    "    response = request.execute()\n",
    "    r = response['items'][0]\n",
    "    print(r)\n",
    "    title, description, category_id,relevant_topic_ids,relevant_topic_categories = get_infos(response)\n",
    "    videos_details.append([video,title, description, category_id,relevant_topic_ids,relevant_topic_categories])\n",
    "    break"
   ]
  },
  {
   "cell_type": "code",
   "execution_count": 21,
   "metadata": {},
   "outputs": [
    {
     "data": {
      "text/plain": [
       "[['WyUyJKm-MiY',\n",
       "  'Reacting to MEAN Tik Toks About Me (This Crossed The Line!)',\n",
       "  \"Today we are diving into the OTHER side of Tik Tok... A few weeks ago I FINALLY got an account and watched the top 'Jeffree Star' videos.. Now I'm going to watch all the MEAN and over the top Tik Tok's of me and give my reactions. Some were very uncomfortable and embarrassing.. Nothing new haha Love you Star Family!\\n\\nWANT MORE? 🔨 Watch My UPDATED HOUSE TOUR: Single & Quarantined - https://bit.ly/2xLZIHM\\n💕 WATCH MY MCLAREN 570S GET TRANSFORMED HOT PINK: https://bit.ly/3dzNtOY\\n\\n+ FOLLOW ME ON TIK TOK: https://www.tiktok.com/@jeffreestar\\n*SHOP: http://www.jeffreestarcosmetics.com\\n+ FOLLOW MY BRAND ON Instagram: http://instagram.com/jeffreestarcosmetics\\n+FOLLOW ME ON IG: http://instagram.com/jeffreestar\\n+ SNAPCHAT: jeffreedahmer\\n+ TWITTER: @jeffreestar\\n\\nWATCH MORE VIDEOS...................❤️\\n\\n🔮 WATCH FULL FACE OF BRANDS THAT HATE ME  ► https://bit.ly/2O6GgJi\\n\\n💜 WATCH THE SHANE x JEFFREE COLLECTION REVEAL ▷ https://bit.ly/39oZuDS\\n\\n💉 WATCH ME GET BOTOX BEFORE THE LOCKDOWN ▷ https://bit.ly/2wHzUw9\",\n",
       "  '24',\n",
       "  None,\n",
       "  None]]"
      ]
     },
     "execution_count": 21,
     "metadata": {},
     "output_type": "execute_result"
    }
   ],
   "source": [
    "videos_details"
   ]
  },
  {
   "cell_type": "code",
   "execution_count": null,
   "metadata": {},
   "outputs": [],
   "source": []
  }
 ],
 "metadata": {
  "kernelspec": {
   "display_name": "Python 3",
   "language": "python",
   "name": "python3"
  },
  "language_info": {
   "codemirror_mode": {
    "name": "ipython",
    "version": 3
   },
   "file_extension": ".py",
   "mimetype": "text/x-python",
   "name": "python",
   "nbconvert_exporter": "python",
   "pygments_lexer": "ipython3",
   "version": "3.7.4"
  }
 },
 "nbformat": 4,
 "nbformat_minor": 2
}
