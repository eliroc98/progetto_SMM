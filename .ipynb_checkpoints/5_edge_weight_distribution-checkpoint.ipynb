{
 "cells": [
  {
   "cell_type": "code",
   "execution_count": 2,
   "metadata": {},
   "outputs": [],
   "source": [
    "import os\n",
    "\n",
    "import numpy as np\n",
    "\n",
    "import networkx as nx\n",
    "\n",
    "import matplotlib.pyplot as plt\n",
    "\n",
    "from IPython.display import clear_output\n",
    "\n",
    "from statsmodels.distributions.empirical_distribution import ECDF"
   ]
  },
  {
   "cell_type": "code",
   "execution_count": 3,
   "metadata": {},
   "outputs": [],
   "source": [
    "percentili = {0.1:0,0.2:0,0.3:0,0.4:0,0.5:0,0.6:0,0.7:0,0.8:0,0.9:0,1.0:0}\n",
    "for i in range(13):\n",
    "    temp_perc = dict(np.load('data/get_edges/percentile/percentili_{}.npy'.format(i),allow_pickle=True).tolist())\n",
    "    for percentile in percentili.keys():\n",
    "        percentili[percentile] += temp_perc[percentile]"
   ]
  },
  {
   "cell_type": "code",
   "execution_count": 4,
   "metadata": {},
   "outputs": [
    {
     "data": {
      "text/plain": [
       "{0.1: 7243130,\n",
       " 0.2: 33995285,\n",
       " 0.3: 24488791,\n",
       " 0.4: 4287285,\n",
       " 0.5: 1507306,\n",
       " 0.6: 817820,\n",
       " 0.7: 293547,\n",
       " 0.8: 81080,\n",
       " 0.9: 20275,\n",
       " 1.0: 1527310}"
      ]
     },
     "execution_count": 4,
     "metadata": {},
     "output_type": "execute_result"
    }
   ],
   "source": [
    "percentili"
   ]
  },
  {
   "cell_type": "code",
   "execution_count": 5,
   "metadata": {},
   "outputs": [
    {
     "name": "stdout",
     "output_type": "stream",
     "text": [
      "Printing ECDF\n",
      "vaues <= 0.09:\t7243130\n",
      "vaues <= 0.19:\t41238415\n",
      "vaues <= 0.29:\t65727206\n",
      "vaues <= 0.39:\t70014491\n",
      "vaues <= 0.49:\t71521797\n",
      "vaues <= 0.59:\t72339617\n",
      "vaues <= 0.69:\t72633164\n",
      "vaues <= 0.79:\t72714244\n",
      "vaues <= 0.89:\t72734519\n",
      "vaues <= 0.1:\t74261829\n"
     ]
    }
   ],
   "source": [
    "print('Printing ECDF')\n",
    "sums = 0\n",
    "arr_sums=[]\n",
    "for idx, percentile in enumerate(percentili.values()):\n",
    "    sums += percentile\n",
    "    if idx == 9:\n",
    "        print('vaues <= 0.1:\\t{}'.format(sums))\n",
    "        arr_sums.append(sums)\n",
    "    else:\n",
    "        print('vaues <= 0.{}9:\\t{}'.format(idx, sums))\n",
    "        arr_sums.append(sums)"
   ]
  },
  {
   "cell_type": "code",
   "execution_count": 6,
   "metadata": {},
   "outputs": [],
   "source": [
    "x = np.arange(0.09,1.0,0.1)"
   ]
  },
  {
   "cell_type": "code",
   "execution_count": 7,
   "metadata": {},
   "outputs": [
    {
     "data": {
      "text/plain": [
       "[<matplotlib.lines.Line2D at 0x2445fa17588>]"
      ]
     },
     "execution_count": 7,
     "metadata": {},
     "output_type": "execute_result"
    },
    {
     "data": {
      "image/png": "[encoded data removed]",
      "text/plain": [
       "<Figure size 432x288 with 1 Axes>"
      ]
     },
     "metadata": {
      "needs_background": "light"
     },
     "output_type": "display_data"
    }
   ],
   "source": [
    "plt.plot(x,arr_sums)"
   ]
  },
  {
   "cell_type": "markdown",
   "metadata": {},
   "source": [
    "# potrei prendere i valori maggiori di 0.6"
   ]
  },
  {
   "cell_type": "code",
   "execution_count": 8,
   "metadata": {},
   "outputs": [
    {
     "data": {
      "text/plain": [
       "1922212"
      ]
     },
     "execution_count": 8,
     "metadata": {},
     "output_type": "execute_result"
    }
   ],
   "source": [
    "74261829-72339617 #link totali"
   ]
  },
  {
   "cell_type": "code",
   "execution_count": 9,
   "metadata": {},
   "outputs": [
    {
     "data": {
      "text/plain": [
       "14852365.8"
      ]
     },
     "execution_count": 9,
     "metadata": {},
     "output_type": "execute_result"
    }
   ],
   "source": [
    "74261829*20/100"
   ]
  },
  {
   "cell_type": "code",
   "execution_count": null,
   "metadata": {},
   "outputs": [],
   "source": []
  }
 ],
 "metadata": {
  "kernelspec": {
   "display_name": "Python 3",
   "language": "python",
   "name": "python3"
  },
  "language_info": {
   "codemirror_mode": {
    "name": "ipython",
    "version": 3
   },
   "file_extension": ".py",
   "mimetype": "text/x-python",
   "name": "python",
   "nbconvert_exporter": "python",
   "pygments_lexer": "ipython3",
   "version": "3.7.6"
  }
 },
 "nbformat": 4,
 "nbformat_minor": 4
}
