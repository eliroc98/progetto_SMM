{
 "cells": [
  {
   "cell_type": "code",
   "execution_count": 1,
   "metadata": {},
   "outputs": [],
   "source": [
    "import pandas as pd\n",
    "\n",
    "import os\n",
    "\n",
    "import numpy as np\n",
    "\n",
    "import networkx as nx\n",
    "\n",
    "import matplotlib.pyplot as plt\n",
    "\n",
    "from IPython.display import clear_output"
   ]
  },
  {
   "cell_type": "code",
   "execution_count": 2,
   "metadata": {},
   "outputs": [],
   "source": [
    "#importo il grafo completo\n",
    "first_graph = nx.read_gpickle('data/graphs/complete_graph.gpickle')"
   ]
  },
  {
   "cell_type": "code",
   "execution_count": 3,
   "metadata": {},
   "outputs": [],
   "source": [
    "gephi_graph = nx.read_gpickle('data/graphs/complete_gephi_graph.gpickle')"
   ]
  },
  {
   "cell_type": "code",
   "execution_count": 4,
   "metadata": {},
   "outputs": [
    {
     "name": "stdout",
     "output_type": "stream",
     "text": [
      "{'halo beauty': 0, 'sally hansen': 0, 'inglot cosmetics': 0, 'Sona Gasparian': 0, 'candy girl': 0, 'nyc new york color': 0, 'Katy': 0, 'doll 10': 0, 'la girl': 0, 'clarins': 0, 'rouge bunny rouge': 0, 'PatrickStarrr': 0, 'pet': 0, 'Summer Mckeen': 0, 'James Charles': 0, 'KathleenLights': 0, 'danielle rae': 0, 'Teni Panosian': 0, 'anastasia beverly hills': 0, 'neutrogena': 0, 'everyday minerals': 0, 'MonicaStyle Muse': 0, 'sol body': 0, 'Nabela Noor': 0, 'lifestyle': 1, 'armani': 0, 'EMAN': 0, 'rhythm_and_blues': 0, 'Jackie Aina': 0, 'too faced': 0, 'review': 0, 'Christen Dominique': 0, 'hard candy': 0, 'lit cosmetics': 0, 'Roxette Arisa': 0, 'the body shop': 0, 'hobby': 0, 'military': 0, 'butter london': 0, 'coppertone': 0, 'chanel': 0, 'dc cosmetics': 0, 'itsjudytime': 0, 'ciate': 0, 'video_game_culture': 0, 'Teaira Walker': 0, 'Manny Mua': 0, 'tutorial': 1, 'jaclyn hill cosmetics': 0, 'Irene Khan (irenesarah)': 0, 'Ingrid Nilsen': 0, 'chantecaille': 0, 'Nyma Tang': 0, 'fashion': 1, 'physicians formula': 0, 'princess pat': 0, 'hello kitty': 0, 'Symphani Soto': 1, 'SoothingSista': 0, 'ItsMyRayeRaye': 0, 'Bretman Rock': 0, 'performing_arts': 0, 'opi products': 0, 'Taylor Wynn': 0, 'Olivia Jade': 0, 'bite beauty': 0, 'boot': 0, 'colourpop cosmetics': 0, 'marc jacobs beauty': 0, 'essie': 0, 'clinique': 0, 'it cosmetics': 0, 'LearningToBeFearless': 0, 'lunar beauty': 0, 'Kayleigh Noelle': 0, 'buxom': 0, 'kkw beauty': 0, 'calvin klein': 0, 'disney': 0, 'melt': 0, 'chi chi cosmetics': 0, 'ilia': 0, 'tarte cosmetics': 0, 'linda hallberg': 0, 'iluvsarahii': 0, 'no. 7': 0, 'Jaclyn Hill': 0, 'burberry': 0, 'tropic skincare': 0, 'ghost': 0, 'television_program': 0, 'soul_music': 0, 'social media': 0, 'lime crime': 0, 'copycat beauty': 0, 'Zabrena': 0, 'cover fx': 0, 'trixie cosmetics': 0, 'nivea': 0, 'becca': 0, 'laura mercier cosmetics': 0, 'kylie cosmetics': 0, 'pixi': 0, 'Madison Miller': 0, 'kosas': 0, 'little miss': 0, 'jo malone london': 0, 'fairy girl': 0, 'Nicole Guerriero': 0, 'tourism': 0, 'zoeva': 0, 'cheap': 0, 'glow recipe': 0, 'wander beauty': 0, 'Alissa Ashley': 0, 'mineral fusion': 0, 'Sarahy Delarosa': 0, 'gosh': 0, 'grande cosmetics': 0, 'rimmel': 0, 'fourth ray beauty': 0, 'almay': 0, 'perfekt': 0, 'elf': 0, 'haus laboratories': 0, 'parachute': 0, 'yves saint laurent': 0, 'glossier': 0, 'revlon': 0, 'Claire Marshall': 0, 'huda beauty': 0, 'black radiance': 0, 'lush': 0, 'korres': 0, 'makeup geek': 0, 'lip smacker': 0, 'bh cosmetics': 0, 'nars cosmetics': 0, 'bareminerals': 0, 'jouer': 0, 'role-playing_video_game': 0, 'Chrisspy': 0, 'kat von d': 0, 'afterglow cosmetics': 0, 'kryolan': 0, 'Casey Holmes': 0, 'Jessica Braun': 0, 'thebalm': 0, 'jeffree star cosmetics': 0, 'pat mcgrath': 0, \"kiehl's\": 0, 'bondi sands': 0, 'Thrift Thick': 0, 'Shameless Maya': 0, 'Luhhsetty': 0, 'benefit cosmetics': 0, 'Leesha': 0, 'new product launch': 0, 'hip_hop_music': 0, \"burt's bees\": 0, 'cyo cosmetics': 0, 'nyx professional makeup': 0, 'entertainment': 0, 'max factor': 0, 'besame': 0, 'holo taco': 0, 'luxury': 0, 'challenge': 0, 'Tati': 0, 'Melissa Alatorre': 0, 'physical_fitness': 0, 'antonym': 0, 'Laura Lee': 0, 'beautycounter': 0, 'Sazan Hendrix': 0, 'Emily Noel': 0, 'sugarpill': 0, 'Vintageortacky / Cora Diane': 0, 'ben nye': 0, 'beautyblender': 0, 'etude house': 0, \"l'oreal paris\": 0, 'nudestix': 0, 'vegan': 0, 'simulation_video_game': 0, 'natural wonder': 0, 'sleek': 0, 'stila': 0, 'From Head To Toe': 0, 'Cydnee Black': 0, 'shiseido': 0, 'Marlena Stell': 0, 'MakeupByAlli': 0, 'RawBeautyKristi': 0, 'music': 0, 'covergirl': 0, 'flower': 0, 'hourglass': 0, 'sk-ii': 0, 'Desi Perkins': 0, 'private life/information': 0, 'dose of colors': 0, 'health': 0, 'urban decay': 0, 'pacifica': 0, 'origins': 0, 'wet n wild': 0, 'Amanda Ensing': 0, 'Carli Bybel': 0, 'Irishcel507': 0, 'tati beauty': 0, 'get ready with me': 1, 'vehicle': 0, 'barry m': 0, 'estã©e lauder': 0, 'milk makeup': 0, 'lancã´me': 0, 'jane': 0, 'by terry': 0, 'jeffreestar': 0, 'natasha denona': 0, 'avon products': 0, 'maybelline': 0, 'technology': 0, 'bobbi brown': 0, 'food': 0, 'essence': 0, 'charlotte tilbury': 0, 'fenty beauty': 0, 'catrice': 0, 'mehron': 0, 'maybellinenewyork': 0, 'sonia kashuk': 0, 'pur cosmetics': 0, 'hair': 0, 'thrive causemetics': 0, 'mac cosmetics': 0, 'milani': 0}\n"
     ]
    }
   ],
   "source": [
    "for idx, edges in enumerate(gephi_graph.nodes.values()):\n",
    "    print(edges)\n",
    "    break"
   ]
  },
  {
   "cell_type": "code",
   "execution_count": null,
   "metadata": {},
   "outputs": [],
   "source": []
  }
 ],
 "metadata": {
  "kernelspec": {
   "display_name": "Python 3",
   "language": "python",
   "name": "python3"
  },
  "language_info": {
   "codemirror_mode": {
    "name": "ipython",
    "version": 3
   },
   "file_extension": ".py",
   "mimetype": "text/x-python",
   "name": "python",
   "nbconvert_exporter": "python",
   "pygments_lexer": "ipython3",
   "version": "3.7.6"
  }
 },
 "nbformat": 4,
 "nbformat_minor": 4
}
