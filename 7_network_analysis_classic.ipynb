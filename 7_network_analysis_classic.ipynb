{
 "cells": [
  {
   "cell_type": "code",
   "execution_count": 22,
   "metadata": {},
   "outputs": [],
   "source": [
    "import pandas as pd\n",
    "\n",
    "import os\n",
    "\n",
    "import numpy as np\n",
    "\n",
    "import networkx as nx\n",
    "\n",
    "import matplotlib.pyplot as plt\n",
    "\n",
    "from statsmodels.distributions.empirical_distribution import ECDF"
   ]
  },
  {
   "cell_type": "code",
   "execution_count": 2,
   "metadata": {},
   "outputs": [],
   "source": [
    "#importo il grafo completo\n",
    "first_graph = nx.read_gpickle('data/first_graph.gpickle')"
   ]
  },
  {
   "cell_type": "markdown",
   "metadata": {},
   "source": [
    "# Prime misure generali\n",
    "## Numero di nodi e link"
   ]
  },
  {
   "cell_type": "code",
   "execution_count": 5,
   "metadata": {},
   "outputs": [
    {
     "name": "stdout",
     "output_type": "stream",
     "text": [
      "Number of nodes:\t10577\n",
      "Number of links:\t2865239\n"
     ]
    }
   ],
   "source": [
    "n_nodes = first_graph.number_of_nodes()\n",
    "n_links = first_graph.number_of_edges()\n",
    "print(\"Number of nodes:\\t{}\".format(n_nodes))\n",
    "print(\"Number of links:\\t{}\".format(n_links))"
   ]
  },
  {
   "cell_type": "markdown",
   "metadata": {},
   "source": [
    "## Grado medio e densità"
   ]
  },
  {
   "cell_type": "code",
   "execution_count": 16,
   "metadata": {},
   "outputs": [
    {
     "name": "stdout",
     "output_type": "stream",
     "text": [
      "Average degree:\t541.7867070057672\n",
      "Density:\t0.051227941282693576\n"
     ]
    }
   ],
   "source": [
    "degrees_dict = dict(first_graph.degree()).values()\n",
    "degrees_list = list(degrees_dict)\n",
    "avg_degree = np.mean(degrees_list)\n",
    "density = nx.density(first_graph)\n",
    "print('Average degree:\\t{}'.format(avg_degree))\n",
    "print('Density:\\t{}'.format(density))"
   ]
  },
  {
   "cell_type": "markdown",
   "metadata": {},
   "source": [
    "# Analisi della distribuzione del grado"
   ]
  },
  {
   "cell_type": "code",
   "execution_count": 20,
   "metadata": {},
   "outputs": [
    {
     "name": "stdout",
     "output_type": "stream",
     "text": [
      "Average degree:\t\t541.7867070057672\n",
      "Standard deviation:\t784.2755949483075\n",
      "Median:\t\t\t142.0\n",
      "Minimum:\t\t1\n",
      "Maximum:\t\t3738\n"
     ]
    }
   ],
   "source": [
    "print(\"Average degree:\\t\\t{}\".format(avg_degree))\n",
    "print('Standard deviation:\\t{}'.format(np.std(degrees_list)))\n",
    "print('Median:\\t\\t\\t{}'.format(np.median(degrees_list)))\n",
    "print('Minimum:\\t\\t{}'.format(np.min(degrees_list)))\n",
    "print('Maximum:\\t\\t{}'.format(np.max(degrees_list)))"
   ]
  },
  {
   "cell_type": "markdown",
   "metadata": {},
   "source": [
    "## ECDF - loglog scale"
   ]
  },
  {
   "cell_type": "code",
   "execution_count": 23,
   "metadata": {},
   "outputs": [
    {
     "data": {
      "text/plain": [
       "Text(0.5, 0, 'Degree')"
      ]
     },
     "execution_count": 23,
     "metadata": {},
     "output_type": "execute_result"
    },
    {
     "data": {
      "image/png": "[encoded data removed]",
      "text/plain": [
       "<Figure size 576x288 with 1 Axes>"
      ]
     },
     "metadata": {
      "needs_background": "light"
     },
     "output_type": "display_data"
    }
   ],
   "source": [
    "ecdf = ECDF(degrees_list)\n",
    "x = np.unique(degrees_list)\n",
    "y = ecdf(x)\n",
    "fig_ecdf = plt.figure(figsize=(8,4))\n",
    "axes = fig_ecdf.gca()\n",
    "axes.loglog(x,y,marker = 'o', ms = 6, linestyle='None')\n",
    "axes.set_ylabel('ECDF YouTube Beauty Community')\n",
    "axes.set_xlabel('Degree')"
   ]
  },
  {
   "cell_type": "markdown",
   "metadata": {},
   "source": [
    "## Confronto con rete equivalente E-R"
   ]
  },
  {
   "cell_type": "code",
   "execution_count": 24,
   "metadata": {},
   "outputs": [],
   "source": [
    "p = density"
   ]
  },
  {
   "cell_type": "code",
   "execution_count": 25,
   "metadata": {},
   "outputs": [],
   "source": [
    "er_n_links = []\n",
    "er_degrees= []\n",
    "er_densities = []\n",
    "random_graph = nx.fast_gnp_random_graph(n_nodes,p)"
   ]
  },
  {
   "cell_type": "code",
   "execution_count": null,
   "metadata": {},
   "outputs": [],
   "source": []
  }
 ],
 "metadata": {
  "kernelspec": {
   "display_name": "Python 3",
   "language": "python",
   "name": "python3"
  },
  "language_info": {
   "codemirror_mode": {
    "name": "ipython",
    "version": 3
   },
   "file_extension": ".py",
   "mimetype": "text/x-python",
   "name": "python",
   "nbconvert_exporter": "python",
   "pygments_lexer": "ipython3",
   "version": "3.7.6"
  }
 },
 "nbformat": 4,
 "nbformat_minor": 4
}
